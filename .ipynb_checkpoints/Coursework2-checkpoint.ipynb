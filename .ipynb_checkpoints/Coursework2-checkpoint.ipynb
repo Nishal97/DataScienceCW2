{
 "cells": [
  {
   "cell_type": "code",
   "execution_count": 1,
   "metadata": {},
   "outputs": [],
   "source": [
    "import sklearn.linear_model as skl_lm\n",
    "import matplotlib.pyplot as plt\n",
    "import matplotlib as mpl\n",
    "import seaborn as sns\n",
    "import pandas as pd\n",
    "import numpy as np\n",
    "\n",
    "from sklearn.metrics import confusion_matrix, classification_report, precision_score\n",
    "from sklearn.discriminant_analysis import LinearDiscriminantAnalysis\n",
    "from sklearn.discriminant_analysis import QuadraticDiscriminantAnalysis\n",
    "from sklearn.model_selection import StratifiedKFold\n",
    "from sklearn.model_selection import cross_val_score\n",
    "from sklearn.model_selection import cross_val_predict \n",
    "from sklearn.model_selection import train_test_split\n",
    "from sklearn.preprocessing import StandardScaler\n",
    "from sklearn.metrics import accuracy_score\n",
    "from sklearn.model_selection import KFold\n",
    "from sklearn import model_selection\n",
    "from sklearn import preprocessing\n",
    "from sklearn import neighbors\n",
    "\n",
    "import statsmodels.formula.api as smf\n",
    "import statsmodels.api as sm"
   ]
  },
  {
   "cell_type": "markdown",
   "metadata": {},
   "source": [
    "# $(1)$"
   ]
  },
  {
   "cell_type": "markdown",
   "metadata": {},
   "source": [
    "## $(a)$"
   ]
  },
  {
   "cell_type": "code",
   "execution_count": 2,
   "metadata": {
    "scrolled": true
   },
   "outputs": [
    {
     "data": {
      "text/html": [
       "<div>\n",
       "<style scoped>\n",
       "    .dataframe tbody tr th:only-of-type {\n",
       "        vertical-align: middle;\n",
       "    }\n",
       "\n",
       "    .dataframe tbody tr th {\n",
       "        vertical-align: top;\n",
       "    }\n",
       "\n",
       "    .dataframe thead th {\n",
       "        text-align: right;\n",
       "    }\n",
       "</style>\n",
       "<table border=\"1\" class=\"dataframe\">\n",
       "  <thead>\n",
       "    <tr style=\"text-align: right;\">\n",
       "      <th></th>\n",
       "      <th>Age</th>\n",
       "      <th>Sex</th>\n",
       "      <th>ChestPain</th>\n",
       "      <th>RestBP</th>\n",
       "      <th>Chol</th>\n",
       "      <th>Fbs</th>\n",
       "      <th>RestECG</th>\n",
       "      <th>MaxHR</th>\n",
       "      <th>ExAng</th>\n",
       "      <th>Oldpeak</th>\n",
       "      <th>Slope</th>\n",
       "      <th>Ca</th>\n",
       "      <th>Thal</th>\n",
       "      <th>AHD</th>\n",
       "    </tr>\n",
       "  </thead>\n",
       "  <tbody>\n",
       "    <tr>\n",
       "      <th>0</th>\n",
       "      <td>63</td>\n",
       "      <td>1</td>\n",
       "      <td>typical</td>\n",
       "      <td>145</td>\n",
       "      <td>233</td>\n",
       "      <td>1</td>\n",
       "      <td>2</td>\n",
       "      <td>150</td>\n",
       "      <td>0</td>\n",
       "      <td>2.3</td>\n",
       "      <td>3</td>\n",
       "      <td>0.0</td>\n",
       "      <td>fixed</td>\n",
       "      <td>No</td>\n",
       "    </tr>\n",
       "    <tr>\n",
       "      <th>1</th>\n",
       "      <td>67</td>\n",
       "      <td>1</td>\n",
       "      <td>asymptomatic</td>\n",
       "      <td>160</td>\n",
       "      <td>286</td>\n",
       "      <td>0</td>\n",
       "      <td>2</td>\n",
       "      <td>108</td>\n",
       "      <td>1</td>\n",
       "      <td>1.5</td>\n",
       "      <td>2</td>\n",
       "      <td>3.0</td>\n",
       "      <td>normal</td>\n",
       "      <td>Yes</td>\n",
       "    </tr>\n",
       "    <tr>\n",
       "      <th>2</th>\n",
       "      <td>67</td>\n",
       "      <td>1</td>\n",
       "      <td>asymptomatic</td>\n",
       "      <td>120</td>\n",
       "      <td>229</td>\n",
       "      <td>0</td>\n",
       "      <td>2</td>\n",
       "      <td>129</td>\n",
       "      <td>1</td>\n",
       "      <td>2.6</td>\n",
       "      <td>2</td>\n",
       "      <td>2.0</td>\n",
       "      <td>reversable</td>\n",
       "      <td>Yes</td>\n",
       "    </tr>\n",
       "    <tr>\n",
       "      <th>3</th>\n",
       "      <td>37</td>\n",
       "      <td>1</td>\n",
       "      <td>nonanginal</td>\n",
       "      <td>130</td>\n",
       "      <td>250</td>\n",
       "      <td>0</td>\n",
       "      <td>0</td>\n",
       "      <td>187</td>\n",
       "      <td>0</td>\n",
       "      <td>3.5</td>\n",
       "      <td>3</td>\n",
       "      <td>0.0</td>\n",
       "      <td>normal</td>\n",
       "      <td>No</td>\n",
       "    </tr>\n",
       "    <tr>\n",
       "      <th>4</th>\n",
       "      <td>41</td>\n",
       "      <td>0</td>\n",
       "      <td>nontypical</td>\n",
       "      <td>130</td>\n",
       "      <td>204</td>\n",
       "      <td>0</td>\n",
       "      <td>2</td>\n",
       "      <td>172</td>\n",
       "      <td>0</td>\n",
       "      <td>1.4</td>\n",
       "      <td>1</td>\n",
       "      <td>0.0</td>\n",
       "      <td>normal</td>\n",
       "      <td>No</td>\n",
       "    </tr>\n",
       "  </tbody>\n",
       "</table>\n",
       "</div>"
      ],
      "text/plain": [
       "   Age  Sex     ChestPain  RestBP  Chol  Fbs  RestECG  MaxHR  ExAng  Oldpeak  \\\n",
       "0   63    1       typical     145   233    1        2    150      0      2.3   \n",
       "1   67    1  asymptomatic     160   286    0        2    108      1      1.5   \n",
       "2   67    1  asymptomatic     120   229    0        2    129      1      2.6   \n",
       "3   37    1    nonanginal     130   250    0        0    187      0      3.5   \n",
       "4   41    0    nontypical     130   204    0        2    172      0      1.4   \n",
       "\n",
       "   Slope   Ca        Thal  AHD  \n",
       "0      3  0.0       fixed   No  \n",
       "1      2  3.0      normal  Yes  \n",
       "2      2  2.0  reversable  Yes  \n",
       "3      3  0.0      normal   No  \n",
       "4      1  0.0      normal   No  "
      ]
     },
     "execution_count": 2,
     "metadata": {},
     "output_type": "execute_result"
    }
   ],
   "source": [
    "df = pd.read_csv('Heart.csv').iloc[:,1:]\n",
    "df = df.dropna()\n",
    "df.head()"
   ]
  },
  {
   "cell_type": "code",
   "execution_count": 3,
   "metadata": {},
   "outputs": [
    {
     "data": {
      "text/html": [
       "<div>\n",
       "<style scoped>\n",
       "    .dataframe tbody tr th:only-of-type {\n",
       "        vertical-align: middle;\n",
       "    }\n",
       "\n",
       "    .dataframe tbody tr th {\n",
       "        vertical-align: top;\n",
       "    }\n",
       "\n",
       "    .dataframe thead th {\n",
       "        text-align: right;\n",
       "    }\n",
       "</style>\n",
       "<table border=\"1\" class=\"dataframe\">\n",
       "  <thead>\n",
       "    <tr style=\"text-align: right;\">\n",
       "      <th></th>\n",
       "      <th>Age</th>\n",
       "      <th>Male</th>\n",
       "      <th>RestBP</th>\n",
       "      <th>Chol</th>\n",
       "      <th>Fbs</th>\n",
       "      <th>MaxHR</th>\n",
       "      <th>ExAng</th>\n",
       "      <th>Oldpeak</th>\n",
       "      <th>Heart Disease</th>\n",
       "      <th>Asymptomatic Chest Pain</th>\n",
       "      <th>...</th>\n",
       "      <th>Nontypical Chest Pain</th>\n",
       "      <th>Thal:Fixed</th>\n",
       "      <th>Thal:Reversable</th>\n",
       "      <th>RECG:Abnormal</th>\n",
       "      <th>RECG:LVH</th>\n",
       "      <th>Slope:Upsloping</th>\n",
       "      <th>Slope:Downsloping</th>\n",
       "      <th>Ca: 1</th>\n",
       "      <th>Ca: 2</th>\n",
       "      <th>Ca: 3</th>\n",
       "    </tr>\n",
       "  </thead>\n",
       "  <tbody>\n",
       "    <tr>\n",
       "      <th>0</th>\n",
       "      <td>63</td>\n",
       "      <td>1</td>\n",
       "      <td>0.750380</td>\n",
       "      <td>-0.276443</td>\n",
       "      <td>1</td>\n",
       "      <td>0.017494</td>\n",
       "      <td>0</td>\n",
       "      <td>1.068965</td>\n",
       "      <td>0</td>\n",
       "      <td>0</td>\n",
       "      <td>...</td>\n",
       "      <td>0</td>\n",
       "      <td>1</td>\n",
       "      <td>0</td>\n",
       "      <td>0</td>\n",
       "      <td>1</td>\n",
       "      <td>0</td>\n",
       "      <td>1</td>\n",
       "      <td>0</td>\n",
       "      <td>0</td>\n",
       "      <td>0</td>\n",
       "    </tr>\n",
       "    <tr>\n",
       "      <th>1</th>\n",
       "      <td>67</td>\n",
       "      <td>1</td>\n",
       "      <td>1.596266</td>\n",
       "      <td>0.744555</td>\n",
       "      <td>0</td>\n",
       "      <td>-1.816334</td>\n",
       "      <td>1</td>\n",
       "      <td>0.381773</td>\n",
       "      <td>1</td>\n",
       "      <td>1</td>\n",
       "      <td>...</td>\n",
       "      <td>0</td>\n",
       "      <td>0</td>\n",
       "      <td>0</td>\n",
       "      <td>0</td>\n",
       "      <td>1</td>\n",
       "      <td>0</td>\n",
       "      <td>0</td>\n",
       "      <td>0</td>\n",
       "      <td>0</td>\n",
       "      <td>1</td>\n",
       "    </tr>\n",
       "    <tr>\n",
       "      <th>2</th>\n",
       "      <td>67</td>\n",
       "      <td>1</td>\n",
       "      <td>-0.659431</td>\n",
       "      <td>-0.353500</td>\n",
       "      <td>0</td>\n",
       "      <td>-0.899420</td>\n",
       "      <td>1</td>\n",
       "      <td>1.326662</td>\n",
       "      <td>1</td>\n",
       "      <td>1</td>\n",
       "      <td>...</td>\n",
       "      <td>0</td>\n",
       "      <td>0</td>\n",
       "      <td>1</td>\n",
       "      <td>0</td>\n",
       "      <td>1</td>\n",
       "      <td>0</td>\n",
       "      <td>0</td>\n",
       "      <td>0</td>\n",
       "      <td>1</td>\n",
       "      <td>0</td>\n",
       "    </tr>\n",
       "    <tr>\n",
       "      <th>3</th>\n",
       "      <td>37</td>\n",
       "      <td>1</td>\n",
       "      <td>-0.095506</td>\n",
       "      <td>0.051047</td>\n",
       "      <td>0</td>\n",
       "      <td>1.633010</td>\n",
       "      <td>0</td>\n",
       "      <td>2.099753</td>\n",
       "      <td>0</td>\n",
       "      <td>0</td>\n",
       "      <td>...</td>\n",
       "      <td>0</td>\n",
       "      <td>0</td>\n",
       "      <td>0</td>\n",
       "      <td>0</td>\n",
       "      <td>0</td>\n",
       "      <td>0</td>\n",
       "      <td>1</td>\n",
       "      <td>0</td>\n",
       "      <td>0</td>\n",
       "      <td>0</td>\n",
       "    </tr>\n",
       "    <tr>\n",
       "      <th>4</th>\n",
       "      <td>41</td>\n",
       "      <td>0</td>\n",
       "      <td>-0.095506</td>\n",
       "      <td>-0.835103</td>\n",
       "      <td>0</td>\n",
       "      <td>0.978071</td>\n",
       "      <td>0</td>\n",
       "      <td>0.295874</td>\n",
       "      <td>0</td>\n",
       "      <td>0</td>\n",
       "      <td>...</td>\n",
       "      <td>1</td>\n",
       "      <td>0</td>\n",
       "      <td>0</td>\n",
       "      <td>0</td>\n",
       "      <td>1</td>\n",
       "      <td>1</td>\n",
       "      <td>0</td>\n",
       "      <td>0</td>\n",
       "      <td>0</td>\n",
       "      <td>0</td>\n",
       "    </tr>\n",
       "  </tbody>\n",
       "</table>\n",
       "<p>5 rows × 21 columns</p>\n",
       "</div>"
      ],
      "text/plain": [
       "   Age  Male    RestBP      Chol  Fbs     MaxHR  ExAng   Oldpeak  \\\n",
       "0   63     1  0.750380 -0.276443    1  0.017494      0  1.068965   \n",
       "1   67     1  1.596266  0.744555    0 -1.816334      1  0.381773   \n",
       "2   67     1 -0.659431 -0.353500    0 -0.899420      1  1.326662   \n",
       "3   37     1 -0.095506  0.051047    0  1.633010      0  2.099753   \n",
       "4   41     0 -0.095506 -0.835103    0  0.978071      0  0.295874   \n",
       "\n",
       "   Heart Disease  Asymptomatic Chest Pain  ...  Nontypical Chest Pain  \\\n",
       "0              0                        0  ...                      0   \n",
       "1              1                        1  ...                      0   \n",
       "2              1                        1  ...                      0   \n",
       "3              0                        0  ...                      0   \n",
       "4              0                        0  ...                      1   \n",
       "\n",
       "   Thal:Fixed  Thal:Reversable  RECG:Abnormal  RECG:LVH  Slope:Upsloping  \\\n",
       "0           1                0              0         1                0   \n",
       "1           0                0              0         1                0   \n",
       "2           0                1              0         1                0   \n",
       "3           0                0              0         0                0   \n",
       "4           0                0              0         1                1   \n",
       "\n",
       "   Slope:Downsloping  Ca: 1  Ca: 2  Ca: 3  \n",
       "0                  1      0      0      0  \n",
       "1                  0      0      0      1  \n",
       "2                  0      0      1      0  \n",
       "3                  1      0      0      0  \n",
       "4                  0      0      0      0  \n",
       "\n",
       "[5 rows x 21 columns]"
      ]
     },
     "execution_count": 3,
     "metadata": {},
     "output_type": "execute_result"
    }
   ],
   "source": [
    "#https://archive.ics.uci.edu/ml/datasets/heart+disease - information source\n",
    "#Create dummy variables for the categorical variables as new columns\n",
    "\n",
    "#Male=1\n",
    "df.rename(columns={\"Sex\": \"Male\"},inplace=True)\n",
    "\n",
    "#Heart Disease (Dependent)\n",
    "df.loc[:,\"Heart Disease\"] = [1 if x==\"Yes\" else 0 for x in df[\"AHD\"]]\n",
    "df.drop(columns=\"AHD\", inplace=True)\n",
    "\n",
    "#Chest Pain: Default = Typical Chest Pain\n",
    "df.loc[:,\"Asymptomatic Chest Pain\"] = [1 if x==\"asymptomatic\" else 0 for x in df[\"ChestPain\"]]\n",
    "df.loc[:,\"Nonanginal Chest Pain\"]   = [1 if x==\"nonanginal\" else 0 for x in df[\"ChestPain\"]]\n",
    "df.loc[:,\"Nontypical Chest Pain\"]   = [1 if x==\"nontypical\" else 0 for x in df[\"ChestPain\"]]\n",
    "df.drop(columns=\"ChestPain\",inplace=True)\n",
    "\n",
    "#Thal defect: Default = Normal\n",
    "df.loc[:,\"Thal:Fixed\"]      = [1 if x==\"fixed\" else 0 for x in df[\"Thal\"]]\n",
    "df.loc[:,\"Thal:Reversable\"] = [1 if x==\"reversable\" else 0 for x in df[\"Thal\"]]\n",
    "df.drop(columns=\"Thal\",inplace=True)\n",
    "\n",
    "\n",
    "#Resting ECG: Default = Normal \n",
    "df.loc[:,\"RECG:Abnormal\"] = [1 if x==1 else 0 for x in df[\"RestECG\"]]\n",
    "df.loc[:,\"RECG:LVH\"]      = [1 if x==2 else 0 for x in df[\"RestECG\"]]\n",
    "df.drop(columns=\"RestECG\",inplace=True)\n",
    "\n",
    "\n",
    "#Slope of ST Segment: Default = Flat\n",
    "df.loc[:,\"Slope:Upsloping\"]   = [1 if x==1 else 0 for x in df[\"Slope\"]]\n",
    "df.loc[:,\"Slope:Downsloping\"] = [1 if x==3 else 0 for x in df[\"Slope\"]]\n",
    "df.drop(columns=\"Slope\",inplace=True)\n",
    "\n",
    "#Number of Major Vessels: Default = 0\n",
    "df.loc[:,\"Ca: 1\"] = [1 if x==1.0 else 0 for x in df[\"Ca\"]]\n",
    "df.loc[:,\"Ca: 2\"] = [1 if x==2.0 else 0 for x in df[\"Ca\"]]\n",
    "df.loc[:,\"Ca: 3\"] = [1 if x==3.0 else 0 for x in df[\"Ca\"]]\n",
    "df.drop(columns=\"Ca\",inplace=True)\n",
    "\n",
    "\n",
    "#Standardizing continuous variables\n",
    "VartoStdze = [\"RestBP\",\"Chol\",\"MaxHR\",\"Oldpeak\"]\n",
    "scale = StandardScaler()\n",
    "for i in VartoStdze:\n",
    "    df[i]=scale.fit_transform(df[i].values.reshape(-1,1))\n",
    "\n",
    "df.head()"
   ]
  },
  {
   "cell_type": "markdown",
   "metadata": {},
   "source": [
    "## $(b)$"
   ]
  },
  {
   "cell_type": "code",
   "execution_count": 4,
   "metadata": {},
   "outputs": [
    {
     "name": "stdout",
     "output_type": "stream",
     "text": [
      "Optimization terminated successfully.\n",
      "         Current function value: 0.308251\n",
      "         Iterations 8\n"
     ]
    },
    {
     "data": {
      "text/html": [
       "<div>\n",
       "<style scoped>\n",
       "    .dataframe tbody tr th:only-of-type {\n",
       "        vertical-align: middle;\n",
       "    }\n",
       "\n",
       "    .dataframe tbody tr th {\n",
       "        vertical-align: top;\n",
       "    }\n",
       "\n",
       "    .dataframe thead th {\n",
       "        text-align: right;\n",
       "    }\n",
       "</style>\n",
       "<table border=\"1\" class=\"dataframe\">\n",
       "  <thead>\n",
       "    <tr style=\"text-align: right;\">\n",
       "      <th></th>\n",
       "      <th>Coef.</th>\n",
       "      <th>Std.Err.</th>\n",
       "      <th>z</th>\n",
       "      <th>P&gt;|z|</th>\n",
       "      <th>[0.025</th>\n",
       "      <th>0.975]</th>\n",
       "    </tr>\n",
       "  </thead>\n",
       "  <tbody>\n",
       "    <tr>\n",
       "      <th>const</th>\n",
       "      <td>-2.735800</td>\n",
       "      <td>1.574301</td>\n",
       "      <td>-1.737787</td>\n",
       "      <td>0.082248</td>\n",
       "      <td>-5.821373</td>\n",
       "      <td>0.349774</td>\n",
       "    </tr>\n",
       "    <tr>\n",
       "      <th>Age</th>\n",
       "      <td>-0.023508</td>\n",
       "      <td>0.025122</td>\n",
       "      <td>-0.935747</td>\n",
       "      <td>0.349403</td>\n",
       "      <td>-0.072745</td>\n",
       "      <td>0.025730</td>\n",
       "    </tr>\n",
       "    <tr>\n",
       "      <th>Male</th>\n",
       "      <td>1.670152</td>\n",
       "      <td>0.552489</td>\n",
       "      <td>3.022957</td>\n",
       "      <td>0.002503</td>\n",
       "      <td>0.587293</td>\n",
       "      <td>2.753011</td>\n",
       "    </tr>\n",
       "    <tr>\n",
       "      <th>RestBP</th>\n",
       "      <td>0.491548</td>\n",
       "      <td>0.208329</td>\n",
       "      <td>2.359475</td>\n",
       "      <td>0.018301</td>\n",
       "      <td>0.083230</td>\n",
       "      <td>0.899866</td>\n",
       "    </tr>\n",
       "    <tr>\n",
       "      <th>Chol</th>\n",
       "      <td>0.230723</td>\n",
       "      <td>0.212353</td>\n",
       "      <td>1.086507</td>\n",
       "      <td>0.277255</td>\n",
       "      <td>-0.185481</td>\n",
       "      <td>0.646926</td>\n",
       "    </tr>\n",
       "    <tr>\n",
       "      <th>Fbs</th>\n",
       "      <td>-0.574079</td>\n",
       "      <td>0.592542</td>\n",
       "      <td>-0.968842</td>\n",
       "      <td>0.332624</td>\n",
       "      <td>-1.735439</td>\n",
       "      <td>0.587281</td>\n",
       "    </tr>\n",
       "    <tr>\n",
       "      <th>MaxHR</th>\n",
       "      <td>-0.451075</td>\n",
       "      <td>0.268354</td>\n",
       "      <td>-1.680898</td>\n",
       "      <td>0.092783</td>\n",
       "      <td>-0.977039</td>\n",
       "      <td>0.074888</td>\n",
       "    </tr>\n",
       "    <tr>\n",
       "      <th>ExAng</th>\n",
       "      <td>0.653306</td>\n",
       "      <td>0.447446</td>\n",
       "      <td>1.460077</td>\n",
       "      <td>0.144269</td>\n",
       "      <td>-0.223673</td>\n",
       "      <td>1.530285</td>\n",
       "    </tr>\n",
       "    <tr>\n",
       "      <th>Oldpeak</th>\n",
       "      <td>0.454812</td>\n",
       "      <td>0.278436</td>\n",
       "      <td>1.633451</td>\n",
       "      <td>0.102374</td>\n",
       "      <td>-0.090913</td>\n",
       "      <td>1.000537</td>\n",
       "    </tr>\n",
       "    <tr>\n",
       "      <th>Asymptomatic Chest Pain</th>\n",
       "      <td>2.373287</td>\n",
       "      <td>0.709097</td>\n",
       "      <td>3.346914</td>\n",
       "      <td>0.000817</td>\n",
       "      <td>0.983482</td>\n",
       "      <td>3.763092</td>\n",
       "    </tr>\n",
       "    <tr>\n",
       "      <th>Nonanginal Chest Pain</th>\n",
       "      <td>0.393353</td>\n",
       "      <td>0.700340</td>\n",
       "      <td>0.561660</td>\n",
       "      <td>0.574348</td>\n",
       "      <td>-0.979288</td>\n",
       "      <td>1.765994</td>\n",
       "    </tr>\n",
       "    <tr>\n",
       "      <th>Nontypical Chest Pain</th>\n",
       "      <td>1.448396</td>\n",
       "      <td>0.809140</td>\n",
       "      <td>1.790045</td>\n",
       "      <td>0.073447</td>\n",
       "      <td>-0.137488</td>\n",
       "      <td>3.034281</td>\n",
       "    </tr>\n",
       "    <tr>\n",
       "      <th>Thal:Fixed</th>\n",
       "      <td>-0.168439</td>\n",
       "      <td>0.810312</td>\n",
       "      <td>-0.207869</td>\n",
       "      <td>0.835331</td>\n",
       "      <td>-1.756622</td>\n",
       "      <td>1.419744</td>\n",
       "    </tr>\n",
       "    <tr>\n",
       "      <th>Thal:Reversable</th>\n",
       "      <td>1.433319</td>\n",
       "      <td>0.440569</td>\n",
       "      <td>3.253339</td>\n",
       "      <td>0.001141</td>\n",
       "      <td>0.569821</td>\n",
       "      <td>2.296818</td>\n",
       "    </tr>\n",
       "    <tr>\n",
       "      <th>RECG:Abnormal</th>\n",
       "      <td>1.000887</td>\n",
       "      <td>2.638430</td>\n",
       "      <td>0.379350</td>\n",
       "      <td>0.704428</td>\n",
       "      <td>-4.170340</td>\n",
       "      <td>6.172115</td>\n",
       "    </tr>\n",
       "    <tr>\n",
       "      <th>RECG:LVH</th>\n",
       "      <td>0.486408</td>\n",
       "      <td>0.396328</td>\n",
       "      <td>1.227287</td>\n",
       "      <td>0.219715</td>\n",
       "      <td>-0.290381</td>\n",
       "      <td>1.263197</td>\n",
       "    </tr>\n",
       "    <tr>\n",
       "      <th>Slope:Upsloping</th>\n",
       "      <td>-1.302289</td>\n",
       "      <td>0.486200</td>\n",
       "      <td>-2.678506</td>\n",
       "      <td>0.007395</td>\n",
       "      <td>-2.255222</td>\n",
       "      <td>-0.349355</td>\n",
       "    </tr>\n",
       "    <tr>\n",
       "      <th>Slope:Downsloping</th>\n",
       "      <td>-0.695528</td>\n",
       "      <td>0.872625</td>\n",
       "      <td>-0.797053</td>\n",
       "      <td>0.425420</td>\n",
       "      <td>-2.405843</td>\n",
       "      <td>1.014786</td>\n",
       "    </tr>\n",
       "    <tr>\n",
       "      <th>Ca: 1</th>\n",
       "      <td>2.237444</td>\n",
       "      <td>0.514773</td>\n",
       "      <td>4.346468</td>\n",
       "      <td>0.000014</td>\n",
       "      <td>1.228508</td>\n",
       "      <td>3.246380</td>\n",
       "    </tr>\n",
       "    <tr>\n",
       "      <th>Ca: 2</th>\n",
       "      <td>3.271852</td>\n",
       "      <td>0.785128</td>\n",
       "      <td>4.167286</td>\n",
       "      <td>0.000031</td>\n",
       "      <td>1.733030</td>\n",
       "      <td>4.810674</td>\n",
       "    </tr>\n",
       "    <tr>\n",
       "      <th>Ca: 3</th>\n",
       "      <td>2.188715</td>\n",
       "      <td>0.928648</td>\n",
       "      <td>2.356884</td>\n",
       "      <td>0.018429</td>\n",
       "      <td>0.368599</td>\n",
       "      <td>4.008832</td>\n",
       "    </tr>\n",
       "  </tbody>\n",
       "</table>\n",
       "</div>"
      ],
      "text/plain": [
       "                            Coef.  Std.Err.         z     P>|z|    [0.025  \\\n",
       "const                   -2.735800  1.574301 -1.737787  0.082248 -5.821373   \n",
       "Age                     -0.023508  0.025122 -0.935747  0.349403 -0.072745   \n",
       "Male                     1.670152  0.552489  3.022957  0.002503  0.587293   \n",
       "RestBP                   0.491548  0.208329  2.359475  0.018301  0.083230   \n",
       "Chol                     0.230723  0.212353  1.086507  0.277255 -0.185481   \n",
       "Fbs                     -0.574079  0.592542 -0.968842  0.332624 -1.735439   \n",
       "MaxHR                   -0.451075  0.268354 -1.680898  0.092783 -0.977039   \n",
       "ExAng                    0.653306  0.447446  1.460077  0.144269 -0.223673   \n",
       "Oldpeak                  0.454812  0.278436  1.633451  0.102374 -0.090913   \n",
       "Asymptomatic Chest Pain  2.373287  0.709097  3.346914  0.000817  0.983482   \n",
       "Nonanginal Chest Pain    0.393353  0.700340  0.561660  0.574348 -0.979288   \n",
       "Nontypical Chest Pain    1.448396  0.809140  1.790045  0.073447 -0.137488   \n",
       "Thal:Fixed              -0.168439  0.810312 -0.207869  0.835331 -1.756622   \n",
       "Thal:Reversable          1.433319  0.440569  3.253339  0.001141  0.569821   \n",
       "RECG:Abnormal            1.000887  2.638430  0.379350  0.704428 -4.170340   \n",
       "RECG:LVH                 0.486408  0.396328  1.227287  0.219715 -0.290381   \n",
       "Slope:Upsloping         -1.302289  0.486200 -2.678506  0.007395 -2.255222   \n",
       "Slope:Downsloping       -0.695528  0.872625 -0.797053  0.425420 -2.405843   \n",
       "Ca: 1                    2.237444  0.514773  4.346468  0.000014  1.228508   \n",
       "Ca: 2                    3.271852  0.785128  4.167286  0.000031  1.733030   \n",
       "Ca: 3                    2.188715  0.928648  2.356884  0.018429  0.368599   \n",
       "\n",
       "                           0.975]  \n",
       "const                    0.349774  \n",
       "Age                      0.025730  \n",
       "Male                     2.753011  \n",
       "RestBP                   0.899866  \n",
       "Chol                     0.646926  \n",
       "Fbs                      0.587281  \n",
       "MaxHR                    0.074888  \n",
       "ExAng                    1.530285  \n",
       "Oldpeak                  1.000537  \n",
       "Asymptomatic Chest Pain  3.763092  \n",
       "Nonanginal Chest Pain    1.765994  \n",
       "Nontypical Chest Pain    3.034281  \n",
       "Thal:Fixed               1.419744  \n",
       "Thal:Reversable          2.296818  \n",
       "RECG:Abnormal            6.172115  \n",
       "RECG:LVH                 1.263197  \n",
       "Slope:Upsloping         -0.349355  \n",
       "Slope:Downsloping        1.014786  \n",
       "Ca: 1                    3.246380  \n",
       "Ca: 2                    4.810674  \n",
       "Ca: 3                    4.008832  "
      ]
     },
     "execution_count": 4,
     "metadata": {},
     "output_type": "execute_result"
    }
   ],
   "source": [
    "X = df.drop(columns=\"Heart Disease\")\n",
    "y = df[\"Heart Disease\"]\n",
    "model = sm.Logit(y, sm.add_constant(X)).fit()\n",
    "model.summary2().tables[1]"
   ]
  },
  {
   "cell_type": "markdown",
   "metadata": {},
   "source": [
    "## $(c)$"
   ]
  },
  {
   "cell_type": "markdown",
   "metadata": {},
   "source": [
    "we could base the decision rule upon the probability of heart disease in the sample as shown below:"
   ]
  },
  {
   "cell_type": "code",
   "execution_count": 5,
   "metadata": {},
   "outputs": [],
   "source": [
    "hd=df[df[\"Heart Disease\"]==1].count()[df.columns.get_loc(\"Heart Disease\")]"
   ]
  },
  {
   "cell_type": "code",
   "execution_count": 6,
   "metadata": {},
   "outputs": [
    {
     "name": "stdout",
     "output_type": "stream",
     "text": [
      "Classification rule is: 0.461 ,approx = 46%\n"
     ]
    }
   ],
   "source": [
    "#There are 137 individuals who have heart disease, compared to the sample of 297:\n",
    "classrule=round(hd/297,3)\n",
    "print(\"Classification rule is:\", classrule,\",approx = 46%\")"
   ]
  },
  {
   "cell_type": "markdown",
   "metadata": {},
   "source": [
    "## $(d)$"
   ]
  },
  {
   "cell_type": "code",
   "execution_count": 7,
   "metadata": {},
   "outputs": [],
   "source": [
    "Xofs=pd.DataFrame(\n",
    "    {\"Male\":0,\n",
    "     \"Age\":55,\n",
    "     \"RestBP\":130,\n",
    "     \"Chol\":246,\n",
    "     \"Fbs\":0,\n",
    "     \"MaxHR\":150,\n",
    "     \"ExAng\":1,\n",
    "     \"Oldpeak\":1,\n",
    "     \"Asymptomatic Chest Pain\":0,\n",
    "     \"Nonanginal Chest Pain\":0,\n",
    "     \"Nontypical Chest Pain\":0,\n",
    "     \"Thal:Fixed\":0,\n",
    "     \"Thal:Reversable\":0,\n",
    "     \"RECG:Abnormal\":0,\n",
    "     \"RECG:LVH\":1,\n",
    "     \"Slope:Upsloping\":0,\n",
    "     \"Slope:Downsloping\":0,\n",
    "     \"Ca: 1\":0,\n",
    "     \"Ca: 2\":0,\n",
    "     \"Ca: 3\":0},\n",
    "      index=[0]\n",
    "                 )\n",
    "VartoStdze = [\"RestBP\",\"Chol\",\"MaxHR\",\"Oldpeak\"]\n",
    "scale = StandardScaler()\n",
    "for i in VartoStdze:\n",
    "    Xofs[i]=scale.fit_transform(Xofs[i].values.reshape(-1,1))"
   ]
  },
  {
   "cell_type": "code",
   "execution_count": 21,
   "metadata": {},
   "outputs": [
    {
     "name": "stdout",
     "output_type": "stream",
     "text": [
      "[[0. 1.]]\n"
     ]
    }
   ],
   "source": [
    "clf = skl_lm.LogisticRegression(solver='newton-cg')\n",
    "clf.fit(X,y)\n",
    "prob = clf.fit(X,y).predict_proba(Xofs)\n",
    "print(prob)"
   ]
  },
  {
   "cell_type": "markdown",
   "metadata": {},
   "source": [
    "Based on this result - compared to the threshold, the individual has been classified as having heart disease"
   ]
  },
  {
   "cell_type": "markdown",
   "metadata": {},
   "source": [
    "## $(e)$"
   ]
  },
  {
   "cell_type": "markdown",
   "metadata": {},
   "source": [
    "Testing model accuracy requires evaluating the test error rate, in order to acquire this we need a testing sample, in this case, we have used all the data to train the model. Although question (d) offers an observation, we do not know this patients true state to determine whether model classified her correctly or not."
   ]
  },
  {
   "cell_type": "markdown",
   "metadata": {},
   "source": [
    "## $(f)$"
   ]
  },
  {
   "cell_type": "code",
   "execution_count": 9,
   "metadata": {},
   "outputs": [],
   "source": [
    "X_train, X_test, y_train, y_test = train_test_split(X, y,train_size=207, random_state=10)"
   ]
  },
  {
   "cell_type": "markdown",
   "metadata": {},
   "source": [
    "## $(g)$"
   ]
  },
  {
   "cell_type": "code",
   "execution_count": 10,
   "metadata": {},
   "outputs": [
    {
     "name": "stdout",
     "output_type": "stream",
     "text": [
      "              precision    recall  f1-score   support\n",
      "\n",
      "           0       0.91      0.77      0.83        56\n",
      "           1       0.70      0.88      0.78        34\n",
      "\n",
      "    accuracy                           0.81        90\n",
      "   macro avg       0.81      0.83      0.81        90\n",
      "weighted avg       0.83      0.81      0.81        90\n",
      "\n",
      "Test error rate: 0.189\n"
     ]
    },
    {
     "data": {
      "image/png": "[encoded data removed]",
      "text/plain": [
       "<Figure size 432x288 with 2 Axes>"
      ]
     },
     "metadata": {
      "needs_background": "light"
     },
     "output_type": "display_data"
    }
   ],
   "source": [
    "logit = skl_lm.LogisticRegression(solver='newton-cg')\n",
    "logit.fit(X_train,y_train)\n",
    "prob = logit.predict_proba(X_test)\n",
    "#Index 1 = pr(0) and Index 2 = pr(1)\n",
    "\n",
    "testclf=[]\n",
    "for i in range(len(prob)):\n",
    "    if (prob[i][1]>0.46)==True:\n",
    "        testclf.append(1)\n",
    "    else:\n",
    "        testclf.append(0)\n",
    "\n",
    "print(classification_report(y_test, testclf, digits=2))\n",
    "\n",
    "cf_matrix=confusion_matrix(y_test, testclf).T\n",
    "\n",
    "group_names = [\"True Neg\",\"False Pos\",\"False Neg\",\"True Pos\"]\n",
    "group_counts = [\"{0:0.0f}\".format(value) for value in\n",
    "                cf_matrix.flatten()]\n",
    "group_percentages = [\"{0:.2%}\".format(value) for value in\n",
    "                     cf_matrix.flatten()/np.sum(cf_matrix)]\n",
    "labels = [f\"{v1}\\n{v2}\\n{v3}\" for v1, v2, v3 in\n",
    "          zip(group_names,group_counts,group_percentages)]\n",
    "labels = np.asarray(labels).reshape(2,2)\n",
    "sns.heatmap(cf_matrix, annot=labels, fmt=\"\", cmap='winter')\n",
    "        \n",
    "error_rate_logit1 = 1-accuracy_score(y_test, testclf)\n",
    "print(\"Test error rate:\",round(error_rate_logit1,3))"
   ]
  },
  {
   "cell_type": "markdown",
   "metadata": {},
   "source": [
    "The test error rate for this test sample is 0.189, implying that around 19% of its classifications were incorrect, which means this model is performing fairly well."
   ]
  },
  {
   "cell_type": "markdown",
   "metadata": {},
   "source": [
    "## $(h)$"
   ]
  },
  {
   "cell_type": "code",
   "execution_count": 11,
   "metadata": {},
   "outputs": [
    {
     "name": "stdout",
     "output_type": "stream",
     "text": [
      "              precision    recall  f1-score   support\n",
      "\n",
      "           0       0.95      0.38      0.54        56\n",
      "           1       0.49      0.97      0.65        34\n",
      "\n",
      "    accuracy                           0.60        90\n",
      "   macro avg       0.72      0.67      0.59        90\n",
      "weighted avg       0.78      0.60      0.58        90\n",
      "\n",
      "Test error rate: 0.4\n"
     ]
    },
    {
     "data": {
      "image/png": "[encoded data removed]",
      "text/plain": [
       "<Figure size 432x288 with 2 Axes>"
      ]
     },
     "metadata": {
      "needs_background": "light"
     },
     "output_type": "display_data"
    }
   ],
   "source": [
    "import random\n",
    "random.seed(10)\n",
    "randomclf = []\n",
    "for i in range(207):\n",
    "    n = random.choice([0,1])\n",
    "    randomclf.append(n)\n",
    "    \n",
    "logit.fit(X_train,randomclf)\n",
    "prob = logit.predict_proba(X_test)\n",
    "\n",
    "testclf=[]\n",
    "for i in range(len(prob)):\n",
    "    if (prob[i][1]>0.46)==True:\n",
    "        testclf.append(1)\n",
    "    else:\n",
    "        testclf.append(0)\n",
    "        \n",
    "print(classification_report(y_test, testclf, digits=2))\n",
    "\n",
    "cf_matrix=confusion_matrix(y_test, testclf).T\n",
    "\n",
    "group_names = [\"True Neg\",\"False Pos\",\"False Neg\",\"True Pos\"]\n",
    "group_counts = [\"{0:0.0f}\".format(value) for value in\n",
    "                cf_matrix.flatten()]\n",
    "group_percentages = [\"{0:.2%}\".format(value) for value in\n",
    "                     cf_matrix.flatten()/np.sum(cf_matrix)]\n",
    "labels = [f\"{v1}\\n{v2}\\n{v3}\" for v1, v2, v3 in\n",
    "          zip(group_names,group_counts,group_percentages)]\n",
    "labels = np.asarray(labels).reshape(2,2)\n",
    "sns.heatmap(cf_matrix, annot=labels, fmt=\"\", cmap='Reds')\n",
    "\n",
    "error_rate_logit2 = 1-accuracy_score(y_test, testclf)\n",
    "print(\"Test error rate:\",round(error_rate_logit2,3))"
   ]
  },
  {
   "cell_type": "markdown",
   "metadata": {},
   "source": [
    "## $(i)$"
   ]
  },
  {
   "cell_type": "markdown",
   "metadata": {},
   "source": [
    "Using the random generator function we achieve a result of 0.4 which means that 40% of the observations were misclassified, in comparison to the above which misclassified at around half of that. Therefore based on this random sample which determined whether not an individual had heart disease with a probability of 50%, the previous model performed better compared to a situation where the members of the sample had heart disease at random."
   ]
  },
  {
   "cell_type": "markdown",
   "metadata": {},
   "source": [
    "# $(2)$"
   ]
  },
  {
   "cell_type": "markdown",
   "metadata": {},
   "source": [
    "## $(a)$"
   ]
  },
  {
   "cell_type": "code",
   "execution_count": 12,
   "metadata": {},
   "outputs": [
    {
     "name": "stdout",
     "output_type": "stream",
     "text": [
      "              precision    recall  f1-score   support\n",
      "\n",
      "           0       0.85      0.79      0.81        56\n",
      "           1       0.68      0.76      0.72        34\n",
      "\n",
      "    accuracy                           0.78        90\n",
      "   macro avg       0.77      0.78      0.77        90\n",
      "weighted avg       0.78      0.78      0.78        90\n",
      "\n",
      "Test error rate: 0.222\n"
     ]
    },
    {
     "data": {
      "image/png": "[encoded data removed]",
      "text/plain": [
       "<Figure size 432x288 with 2 Axes>"
      ]
     },
     "metadata": {
      "needs_background": "light"
     },
     "output_type": "display_data"
    }
   ],
   "source": [
    "knn5 = neighbors.KNeighborsClassifier(n_neighbors=5)\n",
    "knnpred5 = knn5.fit(X_train, y_train).predict(X_test)\n",
    "\n",
    "print(classification_report(y_test, knnpred5, digits=2))\n",
    "\n",
    "cf_matrix=confusion_matrix(y_test, knnpred5).T\n",
    "\n",
    "group_names = [\"True Neg\",\"False Pos\",\"False Neg\",\"True Pos\"]\n",
    "group_counts = [\"{0:0.0f}\".format(value) for value in\n",
    "                cf_matrix.flatten()]\n",
    "group_percentages = [\"{0:.2%}\".format(value) for value in\n",
    "                     cf_matrix.flatten()/np.sum(cf_matrix)]\n",
    "labels = [f\"{v1}\\n{v2}\\n{v3}\" for v1, v2, v3 in\n",
    "          zip(group_names,group_counts,group_percentages)]\n",
    "labels = np.asarray(labels).reshape(2,2)\n",
    "sns.heatmap(cf_matrix, annot=labels, fmt=\"\", cmap='Oranges')\n",
    "\n",
    "error_rate_knn5 = 1-accuracy_score(y_test, knnpred5)\n",
    "print(\"Test error rate:\",round(error_rate_knn5,3))"
   ]
  },
  {
   "cell_type": "code",
   "execution_count": 13,
   "metadata": {},
   "outputs": [
    {
     "name": "stdout",
     "output_type": "stream",
     "text": [
      "              precision    recall  f1-score   support\n",
      "\n",
      "           0       0.82      0.89      0.85        56\n",
      "           1       0.79      0.68      0.73        34\n",
      "\n",
      "    accuracy                           0.81        90\n",
      "   macro avg       0.81      0.78      0.79        90\n",
      "weighted avg       0.81      0.81      0.81        90\n",
      "\n",
      "Test error rate: 0.189\n"
     ]
    },
    {
     "data": {
      "image/png": "[encoded data removed]",
      "text/plain": [
       "<Figure size 432x288 with 2 Axes>"
      ]
     },
     "metadata": {
      "needs_background": "light"
     },
     "output_type": "display_data"
    }
   ],
   "source": [
    "knn10 = neighbors.KNeighborsClassifier(n_neighbors=10)\n",
    "knnpred10 = knn10.fit(X_train, y_train).predict(X_test)\n",
    "\n",
    "print(classification_report(y_test, knnpred10, digits=2))\n",
    "\n",
    "cf_matrix=confusion_matrix(y_test, knnpred10).T\n",
    "\n",
    "group_names = [\"True Neg\",\"False Pos\",\"False Neg\",\"True Pos\"]\n",
    "group_counts = [\"{0:0.0f}\".format(value) for value in\n",
    "                cf_matrix.flatten()]\n",
    "group_percentages = [\"{0:.2%}\".format(value) for value in\n",
    "                     cf_matrix.flatten()/np.sum(cf_matrix)]\n",
    "labels = [f\"{v1}\\n{v2}\\n{v3}\" for v1, v2, v3 in\n",
    "          zip(group_names,group_counts,group_percentages)]\n",
    "labels = np.asarray(labels).reshape(2,2)\n",
    "sns.heatmap(cf_matrix, annot=labels, fmt=\"\", cmap='Purples')\n",
    "\n",
    "error_rate_knn10 = 1-accuracy_score(y_test, knnpred10)\n",
    "print(\"Test error rate:\",round(error_rate_knn10,3))"
   ]
  },
  {
   "cell_type": "markdown",
   "metadata": {},
   "source": [
    "## $(b)$"
   ]
  },
  {
   "cell_type": "code",
   "execution_count": 14,
   "metadata": {},
   "outputs": [
    {
     "name": "stdout",
     "output_type": "stream",
     "text": [
      "              precision    recall  f1-score   support\n",
      "\n",
      "           0       0.88      0.75      0.81        56\n",
      "           1       0.67      0.82      0.74        34\n",
      "\n",
      "    accuracy                           0.78        90\n",
      "   macro avg       0.77      0.79      0.77        90\n",
      "weighted avg       0.80      0.78      0.78        90\n",
      "\n",
      "Test error rate: 0.222\n"
     ]
    },
    {
     "data": {
      "image/png": "[encoded data removed]",
      "text/plain": [
       "<Figure size 432x288 with 2 Axes>"
      ]
     },
     "metadata": {
      "needs_background": "light"
     },
     "output_type": "display_data"
    }
   ],
   "source": [
    "lda = LinearDiscriminantAnalysis()\n",
    "ldapred = lda.fit(X_train, y_train).predict(X_test)\n",
    "\n",
    "print(classification_report(y_test, ldapred, digits=2))\n",
    "\n",
    "cf_matrix=confusion_matrix(y_test, ldapred).T\n",
    "\n",
    "group_names = [\"True Neg\",\"False Pos\",\"False Neg\",\"True Pos\"]\n",
    "group_counts = [\"{0:0.0f}\".format(value) for value in\n",
    "                cf_matrix.flatten()]\n",
    "group_percentages = [\"{0:.2%}\".format(value) for value in\n",
    "                     cf_matrix.flatten()/np.sum(cf_matrix)]\n",
    "labels = [f\"{v1}\\n{v2}\\n{v3}\" for v1, v2, v3 in\n",
    "          zip(group_names,group_counts,group_percentages)]\n",
    "labels = np.asarray(labels).reshape(2,2)\n",
    "sns.heatmap(cf_matrix, annot=labels, fmt=\"\", cmap='Greens')\n",
    "\n",
    "\n",
    "error_rate_lda = 1-accuracy_score(y_test, ldapred)\n",
    "print(\"Test error rate:\",round(error_rate_lda,3))"
   ]
  },
  {
   "cell_type": "code",
   "execution_count": 15,
   "metadata": {},
   "outputs": [
    {
     "name": "stdout",
     "output_type": "stream",
     "text": [
      "              precision    recall  f1-score   support\n",
      "\n",
      "           0       0.88      0.41      0.56        56\n",
      "           1       0.48      0.91      0.63        34\n",
      "\n",
      "    accuracy                           0.60        90\n",
      "   macro avg       0.68      0.66      0.60        90\n",
      "weighted avg       0.73      0.60      0.59        90\n",
      "\n",
      "Test error rate: 0.4\n"
     ]
    },
    {
     "name": "stderr",
     "output_type": "stream",
     "text": [
      "C:\\Users\\Nish\\anaconda3\\lib\\site-packages\\sklearn\\discriminant_analysis.py:691: UserWarning: Variables are collinear\n",
      "  warnings.warn(\"Variables are collinear\")\n"
     ]
    },
    {
     "data": {
      "image/png": "[encoded data removed]",
      "text/plain": [
       "<Figure size 432x288 with 2 Axes>"
      ]
     },
     "metadata": {
      "needs_background": "light"
     },
     "output_type": "display_data"
    }
   ],
   "source": [
    "qda = QuadraticDiscriminantAnalysis()\n",
    "qdapred = qda.fit(X_train, y_train).predict(X_test)\n",
    "\n",
    "\n",
    "print(classification_report(y_test, qdapred, digits=2))\n",
    "\n",
    "cf_matrix=confusion_matrix(y_test, qdapred).T\n",
    "\n",
    "group_names = [\"True Neg\",\"False Pos\",\"False Neg\",\"True Pos\"]\n",
    "group_counts = [\"{0:0.0f}\".format(value) for value in\n",
    "                cf_matrix.flatten()]\n",
    "group_percentages = [\"{0:.2%}\".format(value) for value in\n",
    "                     cf_matrix.flatten()/np.sum(cf_matrix)]\n",
    "labels = [f\"{v1}\\n{v2}\\n{v3}\" for v1, v2, v3 in\n",
    "          zip(group_names,group_counts,group_percentages)]\n",
    "labels = np.asarray(labels).reshape(2,2)\n",
    "sns.heatmap(cf_matrix, annot=labels, fmt=\"\", cmap='summer')\n",
    "\n",
    "error_rate_qda = 1-accuracy_score(y_test, qdapred)\n",
    "print(\"Test error rate:\",round(error_rate_qda,3))"
   ]
  },
  {
   "cell_type": "markdown",
   "metadata": {},
   "source": [
    "## $(c)$"
   ]
  },
  {
   "cell_type": "code",
   "execution_count": 16,
   "metadata": {},
   "outputs": [
    {
     "name": "stdout",
     "output_type": "stream",
     "text": [
      "logit Test error rate: 0.189\n",
      "knn (k=5) Test error rate: 0.222\n",
      "knn (k=10)Test error rate: 0.189\n",
      "LDA Test error rate: 0.222\n",
      "QDA Test error rate: 0.4\n"
     ]
    }
   ],
   "source": [
    "print(\"logit Test error rate:\",round(error_rate_logit1,3))\n",
    "print(\"knn (k=5) Test error rate:\",round(error_rate_knn5,3))\n",
    "print(\"knn (k=10)Test error rate:\",round(error_rate_knn10,3))\n",
    "print(\"LDA Test error rate:\",round(error_rate_lda,3))\n",
    "print(\"QDA Test error rate:\",round(error_rate_qda,3))"
   ]
  },
  {
   "cell_type": "markdown",
   "metadata": {},
   "source": [
    "From the above we see that the KNN with k=10 yields the lowest number of misclassifications. Followed by KNN with k=5 and LDA both which yield the same test error rate, followed by QDA and then the logit which performs the worst amongst the 5 methods. Despite the KNN with k=5 being the more flexible model, the model with k=10 performed better despite being less flexible."
   ]
  },
  {
   "cell_type": "markdown",
   "metadata": {},
   "source": [
    "## $(d)$"
   ]
  },
  {
   "cell_type": "markdown",
   "metadata": {},
   "source": [
    "Using train test split changes the outcome again and again depending on how the function determines the 4 samples - use K-fold instead."
   ]
  },
  {
   "cell_type": "code",
   "execution_count": 17,
   "metadata": {},
   "outputs": [
    {
     "name": "stderr",
     "output_type": "stream",
     "text": [
      "C:\\Users\\Nish\\anaconda3\\lib\\site-packages\\sklearn\\discriminant_analysis.py:691: UserWarning: Variables are collinear\n",
      "  warnings.warn(\"Variables are collinear\")\n"
     ]
    },
    {
     "data": {
      "text/html": [
       "<div>\n",
       "<style scoped>\n",
       "    .dataframe tbody tr th:only-of-type {\n",
       "        vertical-align: middle;\n",
       "    }\n",
       "\n",
       "    .dataframe tbody tr th {\n",
       "        vertical-align: top;\n",
       "    }\n",
       "\n",
       "    .dataframe thead th {\n",
       "        text-align: right;\n",
       "    }\n",
       "</style>\n",
       "<table border=\"1\" class=\"dataframe\">\n",
       "  <thead>\n",
       "    <tr style=\"text-align: right;\">\n",
       "      <th></th>\n",
       "      <th>0</th>\n",
       "    </tr>\n",
       "  </thead>\n",
       "  <tbody>\n",
       "    <tr>\n",
       "      <th>0</th>\n",
       "      <td>13.850575</td>\n",
       "    </tr>\n",
       "    <tr>\n",
       "      <th>1</th>\n",
       "      <td>23.252874</td>\n",
       "    </tr>\n",
       "    <tr>\n",
       "      <th>2</th>\n",
       "      <td>25.586207</td>\n",
       "    </tr>\n",
       "    <tr>\n",
       "      <th>3</th>\n",
       "      <td>13.505747</td>\n",
       "    </tr>\n",
       "    <tr>\n",
       "      <th>4</th>\n",
       "      <td>19.885057</td>\n",
       "    </tr>\n",
       "  </tbody>\n",
       "</table>\n",
       "</div>"
      ],
      "text/plain": [
       "           0\n",
       "0  13.850575\n",
       "1  23.252874\n",
       "2  25.586207\n",
       "3  13.505747\n",
       "4  19.885057"
      ]
     },
     "execution_count": 17,
     "metadata": {},
     "output_type": "execute_result"
    }
   ],
   "source": [
    "models = [logit,knn5,knn10,lda,qda]\n",
    "te=[]\n",
    "for i in models:\n",
    "    te=te+[(100-model_selection.cross_val_score(i,X,y,cv=model_selection.KFold(n_splits=10)).mean()*100.0)]    \n",
    "te=pd.DataFrame(te)\n",
    "te\n",
    "#print(\"Test Error: %.2f%%\" % (100-model_selection.cross_val_score(i,X,y,cv=model_selection.KFold(n_splits=10)).mean()*100.0)) "
   ]
  },
  {
   "cell_type": "markdown",
   "metadata": {},
   "source": [
    "## $(e)$"
   ]
  },
  {
   "cell_type": "markdown",
   "metadata": {},
   "source": [
    "The model with the lowest test error rate using 10-fold CV is linear discriminant analysis - using patient Xofs from before we can reclassify to see how the model performs."
   ]
  },
  {
   "cell_type": "code",
   "execution_count": 18,
   "metadata": {},
   "outputs": [
    {
     "data": {
      "text/plain": [
       "array([0, 1, 1, 0, 0, 0, 1, 0, 1, 1, 1, 0, 1, 0, 0, 0, 0, 0, 0, 0, 0, 0,\n",
       "       0, 1, 1, 0, 0, 0, 0, 1, 0, 1, 0, 1, 0, 0, 1, 1, 1, 0, 1, 0, 0, 0,\n",
       "       0, 1, 0, 1, 0, 0, 0, 0, 1, 0, 1, 1, 1, 0, 0, 1, 1, 0, 1, 0, 1, 1,\n",
       "       0, 0, 1, 0, 0, 1, 1, 1, 0, 0, 1, 0, 0, 1, 1, 0, 0, 1, 0, 0, 0, 0,\n",
       "       0, 0, 1, 1, 0, 0, 1, 1, 1, 0, 0, 0, 0, 0, 0, 1, 0, 1, 1, 1, 1, 1,\n",
       "       1, 0, 1, 1, 0, 0, 0, 1, 1, 1, 1, 0, 1, 0, 0, 1, 1, 0, 0, 0, 1, 0,\n",
       "       0, 0, 0, 1, 1, 1, 0, 0, 0, 0, 1, 0, 0, 1, 0, 0, 0, 0, 0, 0, 1, 1,\n",
       "       1, 1, 1, 1, 1, 0, 1, 0, 0, 0, 0, 0, 1, 0, 1, 1, 0, 0, 1, 1, 1, 1,\n",
       "       0, 0, 1, 1, 0, 1, 0, 0, 0, 1, 1, 1, 0, 1, 1, 0, 1, 0, 0, 0, 0, 0,\n",
       "       0, 0, 0, 0, 1, 1, 1, 0, 0, 0, 1, 0, 1, 0, 0, 0, 0, 1, 0, 0, 0, 0,\n",
       "       1, 1, 0, 0, 0, 1, 1, 0, 1, 0, 0, 0, 1, 1, 1, 0, 0, 0, 0, 0, 1, 0,\n",
       "       1, 1, 1, 1, 0, 1, 1, 1, 0, 0, 0, 0, 0, 0, 0, 0, 0, 0, 0, 1, 1, 1,\n",
       "       0, 0, 1, 1, 1, 0, 0, 0, 0, 0, 0, 0, 1, 0, 1, 0, 1, 1, 1, 0, 0, 0,\n",
       "       0, 1, 1, 0, 0, 1, 1, 0, 1, 1, 0], dtype=int64)"
      ]
     },
     "execution_count": 18,
     "metadata": {},
     "output_type": "execute_result"
    }
   ],
   "source": [
    "model_selection.cross_val_predict(lda,X,y,cv=model_selection.KFold(n_splits=10))\n",
    "\n",
    "#lda = LinearDiscriminantAnalysis()\n",
    "#lda.fit(X_train, y_train).predict(Xofs)"
   ]
  },
  {
   "cell_type": "code",
   "execution_count": 19,
   "metadata": {},
   "outputs": [
    {
     "ename": "TypeError",
     "evalue": "confusion_matrix() missing 2 required positional arguments: 'y_true' and 'y_pred'",
     "output_type": "error",
     "traceback": [
      "\u001b[1;31m---------------------------------------------------------------------------\u001b[0m",
      "\u001b[1;31mTypeError\u001b[0m                                 Traceback (most recent call last)",
      "\u001b[1;32m<ipython-input-19-f25aafb1895c>\u001b[0m in \u001b[0;36m<module>\u001b[1;34m\u001b[0m\n\u001b[1;32m----> 1\u001b[1;33m \u001b[0mcf_matrix\u001b[0m\u001b[1;33m=\u001b[0m\u001b[0mconfusion_matrix\u001b[0m\u001b[1;33m(\u001b[0m\u001b[1;33m)\u001b[0m\u001b[1;33m.\u001b[0m\u001b[0mT\u001b[0m\u001b[1;33m\u001b[0m\u001b[1;33m\u001b[0m\u001b[0m\n\u001b[0m",
      "\u001b[1;31mTypeError\u001b[0m: confusion_matrix() missing 2 required positional arguments: 'y_true' and 'y_pred'"
     ]
    }
   ],
   "source": [
    "cf_matrix=confusion_matrix().T"
   ]
  },
  {
   "cell_type": "code",
   "execution_count": null,
   "metadata": {},
   "outputs": [],
   "source": []
  },
  {
   "cell_type": "code",
   "execution_count": null,
   "metadata": {},
   "outputs": [],
   "source": []
  },
  {
   "cell_type": "code",
   "execution_count": null,
   "metadata": {},
   "outputs": [],
   "source": []
  }
 ],
 "metadata": {
  "kernelspec": {
   "display_name": "Python 3",
   "language": "python",
   "name": "python3"
  },
  "language_info": {
   "codemirror_mode": {
    "name": "ipython",
    "version": 3
   },
   "file_extension": ".py",
   "mimetype": "text/x-python",
   "name": "python",
   "nbconvert_exporter": "python",
   "pygments_lexer": "ipython3",
   "version": "3.7.6"
  }
 },
 "nbformat": 4,
 "nbformat_minor": 4
}
