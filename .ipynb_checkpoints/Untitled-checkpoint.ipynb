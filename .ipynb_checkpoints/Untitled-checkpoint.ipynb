{
 "cells": [
  {
   "cell_type": "code",
   "execution_count": null,
   "metadata": {},
   "outputs": [],
   "source": [
    "testclf=[]\n",
    "for i in range(len(prob)):\n",
    "    if (prob[i][1]>0.46)==True:\n",
    "        testclf.append(1)\n",
    "    else:\n",
    "        testclf.append(0)\n",
    "        \n",
    "indicator=[]\n",
    "for i in testclf:\n",
    "    if i != (y_test.to_numpy())[i]:\n",
    "        indicator.append(1)\n",
    "    else:\n",
    "        indicator.append(0)\n",
    "\n",
    "total= 0\n",
    "for i in indicator:\n",
    "    total = total + i\n",
    "    ter = round(total/(len(prob)),3)\n",
    "print(\"Manual Test error rate:\",ter)"
   ]
  },
  {
   "cell_type": "code",
   "execution_count": null,
   "metadata": {},
   "outputs": [],
   "source": [
    "def get_score(model, x_train, X_test, y_train, y_test):\n",
    "    model.fit(X_train, y_train)\n",
    "    return model.score(X_test, y_test)\n",
    "\n",
    "\n",
    "scores_logit = []\n",
    "scores_knn5  = []\n",
    "scores_knn10 = []\n",
    "scores_lda   = []\n",
    "scores_qda   = []\n",
    "\n",
    "for train_index,test_index in kf.split(df):\n",
    "    X_train, X_test, y_train, y_test =(df.indep.iloc[train_index], \n",
    "                                       df.indep.iloc[test_index], \n",
    "                                       df.dep.iloc[train_index], \n",
    "                                       df.dep.iloc[test_index])\n",
    "\n",
    "    scores_logit.append(get_score(logit,X_train,X_test,y_train,y_test))\n",
    "    scores_knn5.append(get_score(knn5,X_train,X_test,y_train,y_test))\n",
    "    scores_knn10.append(get_score(knn10,X_train,X_test,y_train,y_test))\n",
    "    scores_lda.append(get_score(lda,X_train,X_test,y_train,y_test))\n",
    "    scores_qda.append(get_score(qda,X_train,X_test,y_train,y_test))\n"
   ]
  }
 ],
 "metadata": {
  "kernelspec": {
   "display_name": "Python 3",
   "language": "python",
   "name": "python3"
  },
  "language_info": {
   "codemirror_mode": {
    "name": "ipython",
    "version": 3
   },
   "file_extension": ".py",
   "mimetype": "text/x-python",
   "name": "python",
   "nbconvert_exporter": "python",
   "pygments_lexer": "ipython3",
   "version": "3.7.6"
  }
 },
 "nbformat": 4,
 "nbformat_minor": 4
}
