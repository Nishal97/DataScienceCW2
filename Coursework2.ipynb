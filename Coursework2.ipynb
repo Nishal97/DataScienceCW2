{
 "cells": [
  {
   "cell_type": "markdown",
   "metadata": {},
   "source": [
    "# $\\text{Coursework 2}$\n",
   ]
  },
  {
   "cell_type": "code",
   "execution_count": 12,
   "metadata": {
    "colab": {
     "base_uri": "https://localhost:8080/"
    },
    "id": "N0c4kFpJsF7o",
    "outputId": "ec20b388-f107-4735-e458-9294a5c54a73"
   },
   "outputs": [],
   "source": [
    "import sklearn.linear_model as skl_lm\n",
    "import matplotlib.pyplot as plt\n",
    "import matplotlib as mpl\n",
    "import seaborn as sns\n",
    "import pandas as pd\n",
    "import numpy as np\n",
    "\n",
    "from sklearn.metrics import confusion_matrix, classification_report, precision_score\n",
    "from sklearn.discriminant_analysis import QuadraticDiscriminantAnalysis\n",
    "from sklearn.discriminant_analysis import LinearDiscriminantAnalysis\n",
    "from sklearn.model_selection import cross_val_predict \n",
    "from sklearn.model_selection import train_test_split\n",
    "from sklearn.model_selection import StratifiedKFold\n",
    "from sklearn.model_selection import cross_val_score\n",
    "from sklearn.preprocessing import StandardScaler\n",
    "from sklearn.metrics import RocCurveDisplay\n",
    "from sklearn.metrics import plot_roc_curve\n",
    "from sklearn.metrics import accuracy_score\n",
    "from sklearn.model_selection import KFold\n",
    "from sklearn import model_selection\n",
    "from sklearn import preprocessing\n",
    "from sklearn import neighbors\n",
    "\n",
    "\n",
    "import statsmodels.formula.api as smf\n",
    "import statsmodels.api as sm\n",
    "%matplotlib inline"
   ]
  },
  {
   "cell_type": "markdown",
   "metadata": {
    "id": "HoMHmNp1sF7w"
   },
   "source": [
    "# $(1)$"
   ]
  },
  {
   "cell_type": "markdown",
   "metadata": {
    "id": "N54zn6wbsF7x"
   },
   "source": [
    "## $(a)$"
   ]
  },
  {
   "cell_type": "code",
   "execution_count": 13,
   "metadata": {
    "colab": {
     "base_uri": "https://localhost:8080/",
     "height": 194
    },
    "id": "o5gqAP6psF7y",
    "outputId": "da75360e-3d7a-437b-fc73-5a6a4fd78eda",
    "scrolled": true
   },
   "outputs": [
    {
     "data": {
      "text/html": [
       "<div>\n",
       "<style scoped>\n",
       "    .dataframe tbody tr th:only-of-type {\n",
       "        vertical-align: middle;\n",
       "    }\n",
       "\n",
       "    .dataframe tbody tr th {\n",
       "        vertical-align: top;\n",
       "    }\n",
       "\n",
       "    .dataframe thead th {\n",
       "        text-align: right;\n",
       "    }\n",
       "</style>\n",
       "<table border=\"1\" class=\"dataframe\">\n",
       "  <thead>\n",
       "    <tr style=\"text-align: right;\">\n",
       "      <th></th>\n",
       "      <th>Age</th>\n",
       "      <th>Sex</th>\n",
       "      <th>ChestPain</th>\n",
       "      <th>RestBP</th>\n",
       "      <th>Chol</th>\n",
       "      <th>Fbs</th>\n",
       "      <th>RestECG</th>\n",
       "      <th>MaxHR</th>\n",
       "      <th>ExAng</th>\n",
       "      <th>Oldpeak</th>\n",
       "      <th>Slope</th>\n",
       "      <th>Ca</th>\n",
       "      <th>Thal</th>\n",
       "      <th>AHD</th>\n",
       "    </tr>\n",
       "  </thead>\n",
       "  <tbody>\n",
       "    <tr>\n",
       "      <th>0</th>\n",
       "      <td>63</td>\n",
       "      <td>1</td>\n",
       "      <td>typical</td>\n",
       "      <td>145</td>\n",
       "      <td>233</td>\n",
       "      <td>1</td>\n",
       "      <td>2</td>\n",
       "      <td>150</td>\n",
       "      <td>0</td>\n",
       "      <td>2.3</td>\n",
       "      <td>3</td>\n",
       "      <td>0.0</td>\n",
       "      <td>fixed</td>\n",
       "      <td>No</td>\n",
       "    </tr>\n",
       "    <tr>\n",
       "      <th>1</th>\n",
       "      <td>67</td>\n",
       "      <td>1</td>\n",
       "      <td>asymptomatic</td>\n",
       "      <td>160</td>\n",
       "      <td>286</td>\n",
       "      <td>0</td>\n",
       "      <td>2</td>\n",
       "      <td>108</td>\n",
       "      <td>1</td>\n",
       "      <td>1.5</td>\n",
       "      <td>2</td>\n",
       "      <td>3.0</td>\n",
       "      <td>normal</td>\n",
       "      <td>Yes</td>\n",
       "    </tr>\n",
       "    <tr>\n",
       "      <th>2</th>\n",
       "      <td>67</td>\n",
       "      <td>1</td>\n",
       "      <td>asymptomatic</td>\n",
       "      <td>120</td>\n",
       "      <td>229</td>\n",
       "      <td>0</td>\n",
       "      <td>2</td>\n",
       "      <td>129</td>\n",
       "      <td>1</td>\n",
       "      <td>2.6</td>\n",
       "      <td>2</td>\n",
       "      <td>2.0</td>\n",
       "      <td>reversable</td>\n",
       "      <td>Yes</td>\n",
       "    </tr>\n",
       "    <tr>\n",
       "      <th>3</th>\n",
       "      <td>37</td>\n",
       "      <td>1</td>\n",
       "      <td>nonanginal</td>\n",
       "      <td>130</td>\n",
       "      <td>250</td>\n",
       "      <td>0</td>\n",
       "      <td>0</td>\n",
       "      <td>187</td>\n",
       "      <td>0</td>\n",
       "      <td>3.5</td>\n",
       "      <td>3</td>\n",
       "      <td>0.0</td>\n",
       "      <td>normal</td>\n",
       "      <td>No</td>\n",
       "    </tr>\n",
       "    <tr>\n",
       "      <th>4</th>\n",
       "      <td>41</td>\n",
       "      <td>0</td>\n",
       "      <td>nontypical</td>\n",
       "      <td>130</td>\n",
       "      <td>204</td>\n",
       "      <td>0</td>\n",
       "      <td>2</td>\n",
       "      <td>172</td>\n",
       "      <td>0</td>\n",
       "      <td>1.4</td>\n",
       "      <td>1</td>\n",
       "      <td>0.0</td>\n",
       "      <td>normal</td>\n",
       "      <td>No</td>\n",
       "    </tr>\n",
       "  </tbody>\n",
       "</table>\n",
       "</div>"
      ],
      "text/plain": [
       "   Age  Sex     ChestPain  RestBP  Chol  Fbs  RestECG  MaxHR  ExAng  Oldpeak  \\\n",
       "0   63    1       typical     145   233    1        2    150      0      2.3   \n",
       "1   67    1  asymptomatic     160   286    0        2    108      1      1.5   \n",
       "2   67    1  asymptomatic     120   229    0        2    129      1      2.6   \n",
       "3   37    1    nonanginal     130   250    0        0    187      0      3.5   \n",
       "4   41    0    nontypical     130   204    0        2    172      0      1.4   \n",
       "\n",
       "   Slope   Ca        Thal  AHD  \n",
       "0      3  0.0       fixed   No  \n",
       "1      2  3.0      normal  Yes  \n",
       "2      2  2.0  reversable  Yes  \n",
       "3      3  0.0      normal   No  \n",
       "4      1  0.0      normal   No  "
      ]
     },
     "execution_count": 13,
     "metadata": {},
     "output_type": "execute_result"
    }
   ],
   "source": [
    "df = pd.read_csv('Heart.csv').iloc[:,1:]\n",
    "df = df.dropna()\n",
    "df.head()"
   ]
  },
  {
   "cell_type": "code",
   "execution_count": 14,
   "metadata": {
    "colab": {
     "base_uri": "https://localhost:8080/",
     "height": 386
    },
    "id": "IfWCR1JfsF7z",
    "outputId": "8880a59b-61b7-4c9a-f5d0-144a46ac761f"
   },
   "outputs": [
    {
     "data": {
      "text/html": [
       "<div>\n",
       "<style scoped>\n",
       "    .dataframe tbody tr th:only-of-type {\n",
       "        vertical-align: middle;\n",
       "    }\n",
       "\n",
       "    .dataframe tbody tr th {\n",
       "        vertical-align: top;\n",
       "    }\n",
       "\n",
       "    .dataframe thead th {\n",
       "        text-align: right;\n",
       "    }\n",
       "</style>\n",
       "<table border=\"1\" class=\"dataframe\">\n",
       "  <thead>\n",
       "    <tr style=\"text-align: right;\">\n",
       "      <th></th>\n",
       "      <th>count</th>\n",
       "      <th>mean</th>\n",
       "      <th>std</th>\n",
       "      <th>min</th>\n",
       "      <th>25%</th>\n",
       "      <th>50%</th>\n",
       "      <th>75%</th>\n",
       "      <th>max</th>\n",
       "    </tr>\n",
       "  </thead>\n",
       "  <tbody>\n",
       "    <tr>\n",
       "      <th>Age</th>\n",
       "      <td>297.0</td>\n",
       "      <td>-1.237319e-16</td>\n",
       "      <td>1.001688</td>\n",
       "      <td>-2.827176</td>\n",
       "      <td>-0.724124</td>\n",
       "      <td>0.161372</td>\n",
       "      <td>0.714807</td>\n",
       "      <td>2.485798</td>\n",
       "    </tr>\n",
       "    <tr>\n",
       "      <th>Male</th>\n",
       "      <td>297.0</td>\n",
       "      <td>6.767677e-01</td>\n",
       "      <td>0.468500</td>\n",
       "      <td>0.000000</td>\n",
       "      <td>0.000000</td>\n",
       "      <td>1.000000</td>\n",
       "      <td>1.000000</td>\n",
       "      <td>1.000000</td>\n",
       "    </tr>\n",
       "    <tr>\n",
       "      <th>RestBP</th>\n",
       "      <td>297.0</td>\n",
       "      <td>4.810966e-16</td>\n",
       "      <td>1.001688</td>\n",
       "      <td>-2.125634</td>\n",
       "      <td>-0.659431</td>\n",
       "      <td>-0.095506</td>\n",
       "      <td>0.468418</td>\n",
       "      <td>3.851964</td>\n",
       "    </tr>\n",
       "    <tr>\n",
       "      <th>Chol</th>\n",
       "      <td>297.0</td>\n",
       "      <td>-1.911116e-16</td>\n",
       "      <td>1.001688</td>\n",
       "      <td>-2.337704</td>\n",
       "      <td>-0.700254</td>\n",
       "      <td>-0.083802</td>\n",
       "      <td>0.551914</td>\n",
       "      <td>6.099981</td>\n",
       "    </tr>\n",
       "    <tr>\n",
       "      <th>Fbs</th>\n",
       "      <td>297.0</td>\n",
       "      <td>1.447811e-01</td>\n",
       "      <td>0.352474</td>\n",
       "      <td>0.000000</td>\n",
       "      <td>0.000000</td>\n",
       "      <td>0.000000</td>\n",
       "      <td>0.000000</td>\n",
       "      <td>1.000000</td>\n",
       "    </tr>\n",
       "    <tr>\n",
       "      <th>MaxHR</th>\n",
       "      <td>297.0</td>\n",
       "      <td>5.143660e-16</td>\n",
       "      <td>1.001688</td>\n",
       "      <td>-3.431849</td>\n",
       "      <td>-0.724769</td>\n",
       "      <td>0.148482</td>\n",
       "      <td>0.716096</td>\n",
       "      <td>2.287949</td>\n",
       "    </tr>\n",
       "    <tr>\n",
       "      <th>ExAng</th>\n",
       "      <td>297.0</td>\n",
       "      <td>3.265993e-01</td>\n",
       "      <td>0.469761</td>\n",
       "      <td>0.000000</td>\n",
       "      <td>0.000000</td>\n",
       "      <td>0.000000</td>\n",
       "      <td>1.000000</td>\n",
       "      <td>1.000000</td>\n",
       "    </tr>\n",
       "    <tr>\n",
       "      <th>Oldpeak</th>\n",
       "      <td>297.0</td>\n",
       "      <td>-1.334511e-16</td>\n",
       "      <td>1.001688</td>\n",
       "      <td>-0.906712</td>\n",
       "      <td>-0.906712</td>\n",
       "      <td>-0.219520</td>\n",
       "      <td>0.467672</td>\n",
       "      <td>4.419026</td>\n",
       "    </tr>\n",
       "    <tr>\n",
       "      <th>Heart Disease</th>\n",
       "      <td>297.0</td>\n",
       "      <td>4.612795e-01</td>\n",
       "      <td>0.499340</td>\n",
       "      <td>0.000000</td>\n",
       "      <td>0.000000</td>\n",
       "      <td>0.000000</td>\n",
       "      <td>1.000000</td>\n",
       "      <td>1.000000</td>\n",
       "    </tr>\n",
       "    <tr>\n",
       "      <th>Asymptomatic Chest Pain</th>\n",
       "      <td>297.0</td>\n",
       "      <td>4.781145e-01</td>\n",
       "      <td>0.500364</td>\n",
       "      <td>0.000000</td>\n",
       "      <td>0.000000</td>\n",
       "      <td>0.000000</td>\n",
       "      <td>1.000000</td>\n",
       "      <td>1.000000</td>\n",
       "    </tr>\n",
       "    <tr>\n",
       "      <th>Nonanginal Chest Pain</th>\n",
       "      <td>297.0</td>\n",
       "      <td>2.794613e-01</td>\n",
       "      <td>0.449492</td>\n",
       "      <td>0.000000</td>\n",
       "      <td>0.000000</td>\n",
       "      <td>0.000000</td>\n",
       "      <td>1.000000</td>\n",
       "      <td>1.000000</td>\n",
       "    </tr>\n",
       "    <tr>\n",
       "      <th>Nontypical Chest Pain</th>\n",
       "      <td>297.0</td>\n",
       "      <td>1.649832e-01</td>\n",
       "      <td>0.371792</td>\n",
       "      <td>0.000000</td>\n",
       "      <td>0.000000</td>\n",
       "      <td>0.000000</td>\n",
       "      <td>0.000000</td>\n",
       "      <td>1.000000</td>\n",
       "    </tr>\n",
       "    <tr>\n",
       "      <th>Thal:Fixed</th>\n",
       "      <td>297.0</td>\n",
       "      <td>6.060606e-02</td>\n",
       "      <td>0.239009</td>\n",
       "      <td>0.000000</td>\n",
       "      <td>0.000000</td>\n",
       "      <td>0.000000</td>\n",
       "      <td>0.000000</td>\n",
       "      <td>1.000000</td>\n",
       "    </tr>\n",
       "    <tr>\n",
       "      <th>Thal:Reversable</th>\n",
       "      <td>297.0</td>\n",
       "      <td>3.872054e-01</td>\n",
       "      <td>0.487933</td>\n",
       "      <td>0.000000</td>\n",
       "      <td>0.000000</td>\n",
       "      <td>0.000000</td>\n",
       "      <td>1.000000</td>\n",
       "      <td>1.000000</td>\n",
       "    </tr>\n",
       "    <tr>\n",
       "      <th>RECG:Abnormal</th>\n",
       "      <td>297.0</td>\n",
       "      <td>1.346801e-02</td>\n",
       "      <td>0.115462</td>\n",
       "      <td>0.000000</td>\n",
       "      <td>0.000000</td>\n",
       "      <td>0.000000</td>\n",
       "      <td>0.000000</td>\n",
       "      <td>1.000000</td>\n",
       "    </tr>\n",
       "    <tr>\n",
       "      <th>RECG:LVH</th>\n",
       "      <td>297.0</td>\n",
       "      <td>4.915825e-01</td>\n",
       "      <td>0.500773</td>\n",
       "      <td>0.000000</td>\n",
       "      <td>0.000000</td>\n",
       "      <td>0.000000</td>\n",
       "      <td>1.000000</td>\n",
       "      <td>1.000000</td>\n",
       "    </tr>\n",
       "    <tr>\n",
       "      <th>Slope:Upsloping</th>\n",
       "      <td>297.0</td>\n",
       "      <td>4.680135e-01</td>\n",
       "      <td>0.499818</td>\n",
       "      <td>0.000000</td>\n",
       "      <td>0.000000</td>\n",
       "      <td>0.000000</td>\n",
       "      <td>1.000000</td>\n",
       "      <td>1.000000</td>\n",
       "    </tr>\n",
       "    <tr>\n",
       "      <th>Slope:Downsloping</th>\n",
       "      <td>297.0</td>\n",
       "      <td>7.070707e-02</td>\n",
       "      <td>0.256768</td>\n",
       "      <td>0.000000</td>\n",
       "      <td>0.000000</td>\n",
       "      <td>0.000000</td>\n",
       "      <td>0.000000</td>\n",
       "      <td>1.000000</td>\n",
       "    </tr>\n",
       "    <tr>\n",
       "      <th>Ca: 1</th>\n",
       "      <td>297.0</td>\n",
       "      <td>2.188552e-01</td>\n",
       "      <td>0.414168</td>\n",
       "      <td>0.000000</td>\n",
       "      <td>0.000000</td>\n",
       "      <td>0.000000</td>\n",
       "      <td>0.000000</td>\n",
       "      <td>1.000000</td>\n",
       "    </tr>\n",
       "    <tr>\n",
       "      <th>Ca: 2</th>\n",
       "      <td>297.0</td>\n",
       "      <td>1.279461e-01</td>\n",
       "      <td>0.334594</td>\n",
       "      <td>0.000000</td>\n",
       "      <td>0.000000</td>\n",
       "      <td>0.000000</td>\n",
       "      <td>0.000000</td>\n",
       "      <td>1.000000</td>\n",
       "    </tr>\n",
       "    <tr>\n",
       "      <th>Ca: 3</th>\n",
       "      <td>297.0</td>\n",
       "      <td>6.734007e-02</td>\n",
       "      <td>0.251033</td>\n",
       "      <td>0.000000</td>\n",
       "      <td>0.000000</td>\n",
       "      <td>0.000000</td>\n",
       "      <td>0.000000</td>\n",
       "      <td>1.000000</td>\n",
       "    </tr>\n",
       "  </tbody>\n",
       "</table>\n",
       "</div>"
      ],
      "text/plain": [
       "                         count          mean       std       min       25%  \\\n",
       "Age                      297.0 -1.237319e-16  1.001688 -2.827176 -0.724124   \n",
       "Male                     297.0  6.767677e-01  0.468500  0.000000  0.000000   \n",
       "RestBP                   297.0  4.810966e-16  1.001688 -2.125634 -0.659431   \n",
       "Chol                     297.0 -1.911116e-16  1.001688 -2.337704 -0.700254   \n",
       "Fbs                      297.0  1.447811e-01  0.352474  0.000000  0.000000   \n",
       "MaxHR                    297.0  5.143660e-16  1.001688 -3.431849 -0.724769   \n",
       "ExAng                    297.0  3.265993e-01  0.469761  0.000000  0.000000   \n",
       "Oldpeak                  297.0 -1.334511e-16  1.001688 -0.906712 -0.906712   \n",
       "Heart Disease            297.0  4.612795e-01  0.499340  0.000000  0.000000   \n",
       "Asymptomatic Chest Pain  297.0  4.781145e-01  0.500364  0.000000  0.000000   \n",
       "Nonanginal Chest Pain    297.0  2.794613e-01  0.449492  0.000000  0.000000   \n",
       "Nontypical Chest Pain    297.0  1.649832e-01  0.371792  0.000000  0.000000   \n",
       "Thal:Fixed               297.0  6.060606e-02  0.239009  0.000000  0.000000   \n",
       "Thal:Reversable          297.0  3.872054e-01  0.487933  0.000000  0.000000   \n",
       "RECG:Abnormal            297.0  1.346801e-02  0.115462  0.000000  0.000000   \n",
       "RECG:LVH                 297.0  4.915825e-01  0.500773  0.000000  0.000000   \n",
       "Slope:Upsloping          297.0  4.680135e-01  0.499818  0.000000  0.000000   \n",
       "Slope:Downsloping        297.0  7.070707e-02  0.256768  0.000000  0.000000   \n",
       "Ca: 1                    297.0  2.188552e-01  0.414168  0.000000  0.000000   \n",
       "Ca: 2                    297.0  1.279461e-01  0.334594  0.000000  0.000000   \n",
       "Ca: 3                    297.0  6.734007e-02  0.251033  0.000000  0.000000   \n",
       "\n",
       "                              50%       75%       max  \n",
       "Age                      0.161372  0.714807  2.485798  \n",
       "Male                     1.000000  1.000000  1.000000  \n",
       "RestBP                  -0.095506  0.468418  3.851964  \n",
       "Chol                    -0.083802  0.551914  6.099981  \n",
       "Fbs                      0.000000  0.000000  1.000000  \n",
       "MaxHR                    0.148482  0.716096  2.287949  \n",
       "ExAng                    0.000000  1.000000  1.000000  \n",
       "Oldpeak                 -0.219520  0.467672  4.419026  \n",
       "Heart Disease            0.000000  1.000000  1.000000  \n",
       "Asymptomatic Chest Pain  0.000000  1.000000  1.000000  \n",
       "Nonanginal Chest Pain    0.000000  1.000000  1.000000  \n",
       "Nontypical Chest Pain    0.000000  0.000000  1.000000  \n",
       "Thal:Fixed               0.000000  0.000000  1.000000  \n",
       "Thal:Reversable          0.000000  1.000000  1.000000  \n",
       "RECG:Abnormal            0.000000  0.000000  1.000000  \n",
       "RECG:LVH                 0.000000  1.000000  1.000000  \n",
       "Slope:Upsloping          0.000000  1.000000  1.000000  \n",
       "Slope:Downsloping        0.000000  0.000000  1.000000  \n",
       "Ca: 1                    0.000000  0.000000  1.000000  \n",
       "Ca: 2                    0.000000  0.000000  1.000000  \n",
       "Ca: 3                    0.000000  0.000000  1.000000  "
      ]
     },
     "execution_count": 14,
     "metadata": {},
     "output_type": "execute_result"
    }
   ],
   "source": [
    "#https://archive.ics.uci.edu/ml/datasets/heart+disease - information source\n",
    "#Create dummy variables for the categorical variables as new columns\n",
    "\n",
    "#Male=1\n",
    "df.rename(columns={\"Sex\": \"Male\"},inplace=True)\n",
    "\n",
    "#Heart Disease (Dependent)\n",
    "df.loc[:,\"Heart Disease\"] = [1 if x==\"Yes\" else 0 for x in df[\"AHD\"]]\n",
    "df.drop(columns=\"AHD\", inplace=True)\n",
    "\n",
    "#Chest Pain: Default = Typical Chest Pain\n",
    "df.loc[:,\"Asymptomatic Chest Pain\"] = [1 if x==\"asymptomatic\" else 0 for x in df[\"ChestPain\"]]\n",
    "df.loc[:,\"Nonanginal Chest Pain\"]   = [1 if x==\"nonanginal\" else 0 for x in df[\"ChestPain\"]]\n",
    "df.loc[:,\"Nontypical Chest Pain\"]   = [1 if x==\"nontypical\" else 0 for x in df[\"ChestPain\"]]\n",
    "df.drop(columns=\"ChestPain\",inplace=True)\n",
    "\n",
    "#Thal defect: Default = Normal\n",
    "df.loc[:,\"Thal:Fixed\"]      = [1 if x==\"fixed\" else 0 for x in df[\"Thal\"]]\n",
    "df.loc[:,\"Thal:Reversable\"] = [1 if x==\"reversable\" else 0 for x in df[\"Thal\"]]\n",
    "df.drop(columns=\"Thal\",inplace=True)\n",
    "\n",
    "\n",
    "#Resting ECG: Default = Normal \n",
    "df.loc[:,\"RECG:Abnormal\"] = [1 if x==1 else 0 for x in df[\"RestECG\"]]\n",
    "df.loc[:,\"RECG:LVH\"]      = [1 if x==2 else 0 for x in df[\"RestECG\"]]\n",
    "df.drop(columns=\"RestECG\",inplace=True)\n",
    "\n",
    "\n",
    "#Slope of ST Segment: Default = Flat\n",
    "df.loc[:,\"Slope:Upsloping\"]   = [1 if x==1 else 0 for x in df[\"Slope\"]]\n",
    "df.loc[:,\"Slope:Downsloping\"] = [1 if x==3 else 0 for x in df[\"Slope\"]]\n",
    "df.drop(columns=\"Slope\",inplace=True)\n",
    "\n",
    "#Number of Major Vessels: Default = 0\n",
    "df.loc[:,\"Ca: 1\"] = [1 if x==1.0 else 0 for x in df[\"Ca\"]]\n",
    "df.loc[:,\"Ca: 2\"] = [1 if x==2.0 else 0 for x in df[\"Ca\"]]\n",
    "df.loc[:,\"Ca: 3\"] = [1 if x==3.0 else 0 for x in df[\"Ca\"]]\n",
    "df.drop(columns=\"Ca\",inplace=True)\n",
    "\n",
    "\n",
    "#Standardizing continuous variables\n",
    "VartoStdze = [\"Age\",\"RestBP\",\"Chol\",\"MaxHR\",\"Oldpeak\"]\n",
    "scale = StandardScaler()\n",
    "for i in VartoStdze:\n",
    "    df[i]=scale.fit_transform(df[i].values.reshape(-1,1))\n",
    "\n",
    "df.describe().T"
   ]
  },
  {
   "cell_type": "code",
   "execution_count": 10,
   "metadata": {
    "colab": {
     "base_uri": "https://localhost:8080/"
    },
    "id": "Kfj5hYAmvUGL",
    "outputId": "8f63f8c2-8a57-4c60-f589-cf7c5b00620e"
   },
   "outputs": [
    {
     "data": {
      "text/plain": [
       "0.2784666966537961"
      ]
     },
     "execution_count": 10,
     "metadata": {},
     "output_type": "execute_result"
    }
   ],
   "source": [
    "df['Male'].corr(df['Heart Disease'])"
   ]
  },
  {
   "cell_type": "markdown",
   "metadata": {
    "id": "o9JL-sVXsF70"
   },
   "source": [
    "## $(b)$"
   ]
  },
  {
   "cell_type": "code",
   "execution_count": null,
   "metadata": {
    "colab": {
     "base_uri": "https://localhost:8080/",
     "height": 716
    },
    "id": "Y5Qi85VWsF70",
    "outputId": "c055fd3c-3dd9-4743-f961-b29d63f72d06"
   },
   "outputs": [
    {
     "name": "stdout",
     "output_type": "stream",
     "text": [
      "Optimization terminated successfully.\n",
      "         Current function value: 0.308251\n",
      "         Iterations 8\n"
     ]
    },
    {
     "data": {
      "text/html": [
       "<div>\n",
       "<style scoped>\n",
       "    .dataframe tbody tr th:only-of-type {\n",
       "        vertical-align: middle;\n",
       "    }\n",
       "\n",
       "    .dataframe tbody tr th {\n",
       "        vertical-align: top;\n",
       "    }\n",
       "\n",
       "    .dataframe thead th {\n",
       "        text-align: right;\n",
       "    }\n",
       "</style>\n",
       "<table border=\"1\" class=\"dataframe\">\n",
       "  <thead>\n",
       "    <tr style=\"text-align: right;\">\n",
       "      <th></th>\n",
       "      <th>Coef.</th>\n",
       "      <th>Std.Err.</th>\n",
       "      <th>z</th>\n",
       "      <th>P&gt;|z|</th>\n",
       "      <th>[0.025</th>\n",
       "      <th>0.975]</th>\n",
       "    </tr>\n",
       "  </thead>\n",
       "  <tbody>\n",
       "    <tr>\n",
       "      <th>const</th>\n",
       "      <td>-4.017949</td>\n",
       "      <td>0.850195</td>\n",
       "      <td>-4.725913</td>\n",
       "      <td>0.000002</td>\n",
       "      <td>-5.684302</td>\n",
       "      <td>-2.351597</td>\n",
       "    </tr>\n",
       "    <tr>\n",
       "      <th>Age</th>\n",
       "      <td>-0.212378</td>\n",
       "      <td>0.226961</td>\n",
       "      <td>-0.935747</td>\n",
       "      <td>0.349403</td>\n",
       "      <td>-0.657215</td>\n",
       "      <td>0.232458</td>\n",
       "    </tr>\n",
       "    <tr>\n",
       "      <th>Male</th>\n",
       "      <td>1.670152</td>\n",
       "      <td>0.552489</td>\n",
       "      <td>3.022957</td>\n",
       "      <td>0.002503</td>\n",
       "      <td>0.587293</td>\n",
       "      <td>2.753011</td>\n",
       "    </tr>\n",
       "    <tr>\n",
       "      <th>RestBP</th>\n",
       "      <td>0.491548</td>\n",
       "      <td>0.208329</td>\n",
       "      <td>2.359475</td>\n",
       "      <td>0.018301</td>\n",
       "      <td>0.083230</td>\n",
       "      <td>0.899866</td>\n",
       "    </tr>\n",
       "    <tr>\n",
       "      <th>Chol</th>\n",
       "      <td>0.230723</td>\n",
       "      <td>0.212353</td>\n",
       "      <td>1.086507</td>\n",
       "      <td>0.277255</td>\n",
       "      <td>-0.185481</td>\n",
       "      <td>0.646926</td>\n",
       "    </tr>\n",
       "    <tr>\n",
       "      <th>Fbs</th>\n",
       "      <td>-0.574079</td>\n",
       "      <td>0.592542</td>\n",
       "      <td>-0.968842</td>\n",
       "      <td>0.332624</td>\n",
       "      <td>-1.735439</td>\n",
       "      <td>0.587281</td>\n",
       "    </tr>\n",
       "    <tr>\n",
       "      <th>MaxHR</th>\n",
       "      <td>-0.451075</td>\n",
       "      <td>0.268354</td>\n",
       "      <td>-1.680898</td>\n",
       "      <td>0.092783</td>\n",
       "      <td>-0.977039</td>\n",
       "      <td>0.074888</td>\n",
       "    </tr>\n",
       "    <tr>\n",
       "      <th>ExAng</th>\n",
       "      <td>0.653306</td>\n",
       "      <td>0.447446</td>\n",
       "      <td>1.460077</td>\n",
       "      <td>0.144269</td>\n",
       "      <td>-0.223673</td>\n",
       "      <td>1.530285</td>\n",
       "    </tr>\n",
       "    <tr>\n",
       "      <th>Oldpeak</th>\n",
       "      <td>0.454812</td>\n",
       "      <td>0.278436</td>\n",
       "      <td>1.633451</td>\n",
       "      <td>0.102374</td>\n",
       "      <td>-0.090913</td>\n",
       "      <td>1.000537</td>\n",
       "    </tr>\n",
       "    <tr>\n",
       "      <th>Asymptomatic Chest Pain</th>\n",
       "      <td>2.373287</td>\n",
       "      <td>0.709097</td>\n",
       "      <td>3.346914</td>\n",
       "      <td>0.000817</td>\n",
       "      <td>0.983482</td>\n",
       "      <td>3.763092</td>\n",
       "    </tr>\n",
       "    <tr>\n",
       "      <th>Nonanginal Chest Pain</th>\n",
       "      <td>0.393353</td>\n",
       "      <td>0.700340</td>\n",
       "      <td>0.561660</td>\n",
       "      <td>0.574348</td>\n",
       "      <td>-0.979288</td>\n",
       "      <td>1.765994</td>\n",
       "    </tr>\n",
       "    <tr>\n",
       "      <th>Nontypical Chest Pain</th>\n",
       "      <td>1.448396</td>\n",
       "      <td>0.809140</td>\n",
       "      <td>1.790045</td>\n",
       "      <td>0.073447</td>\n",
       "      <td>-0.137488</td>\n",
       "      <td>3.034281</td>\n",
       "    </tr>\n",
       "    <tr>\n",
       "      <th>Thal:Fixed</th>\n",
       "      <td>-0.168439</td>\n",
       "      <td>0.810312</td>\n",
       "      <td>-0.207869</td>\n",
       "      <td>0.835331</td>\n",
       "      <td>-1.756622</td>\n",
       "      <td>1.419744</td>\n",
       "    </tr>\n",
       "    <tr>\n",
       "      <th>Thal:Reversable</th>\n",
       "      <td>1.433319</td>\n",
       "      <td>0.440569</td>\n",
       "      <td>3.253339</td>\n",
       "      <td>0.001141</td>\n",
       "      <td>0.569821</td>\n",
       "      <td>2.296818</td>\n",
       "    </tr>\n",
       "    <tr>\n",
       "      <th>RECG:Abnormal</th>\n",
       "      <td>1.000887</td>\n",
       "      <td>2.638430</td>\n",
       "      <td>0.379350</td>\n",
       "      <td>0.704428</td>\n",
       "      <td>-4.170340</td>\n",
       "      <td>6.172115</td>\n",
       "    </tr>\n",
       "    <tr>\n",
       "      <th>RECG:LVH</th>\n",
       "      <td>0.486408</td>\n",
       "      <td>0.396328</td>\n",
       "      <td>1.227287</td>\n",
       "      <td>0.219715</td>\n",
       "      <td>-0.290381</td>\n",
       "      <td>1.263197</td>\n",
       "    </tr>\n",
       "    <tr>\n",
       "      <th>Slope:Upsloping</th>\n",
       "      <td>-1.302289</td>\n",
       "      <td>0.486200</td>\n",
       "      <td>-2.678506</td>\n",
       "      <td>0.007395</td>\n",
       "      <td>-2.255222</td>\n",
       "      <td>-0.349355</td>\n",
       "    </tr>\n",
       "    <tr>\n",
       "      <th>Slope:Downsloping</th>\n",
       "      <td>-0.695528</td>\n",
       "      <td>0.872625</td>\n",
       "      <td>-0.797053</td>\n",
       "      <td>0.425420</td>\n",
       "      <td>-2.405843</td>\n",
       "      <td>1.014786</td>\n",
       "    </tr>\n",
       "    <tr>\n",
       "      <th>Ca: 1</th>\n",
       "      <td>2.237444</td>\n",
       "      <td>0.514773</td>\n",
       "      <td>4.346468</td>\n",
       "      <td>0.000014</td>\n",
       "      <td>1.228508</td>\n",
       "      <td>3.246380</td>\n",
       "    </tr>\n",
       "    <tr>\n",
       "      <th>Ca: 2</th>\n",
       "      <td>3.271852</td>\n",
       "      <td>0.785128</td>\n",
       "      <td>4.167286</td>\n",
       "      <td>0.000031</td>\n",
       "      <td>1.733030</td>\n",
       "      <td>4.810674</td>\n",
       "    </tr>\n",
       "    <tr>\n",
       "      <th>Ca: 3</th>\n",
       "      <td>2.188715</td>\n",
       "      <td>0.928648</td>\n",
       "      <td>2.356884</td>\n",
       "      <td>0.018429</td>\n",
       "      <td>0.368599</td>\n",
       "      <td>4.008832</td>\n",
       "    </tr>\n",
       "  </tbody>\n",
       "</table>\n",
       "</div>"
      ],
      "text/plain": [
       "                            Coef.  Std.Err.  ...    [0.025    0.975]\n",
       "const                   -4.017949  0.850195  ... -5.684302 -2.351597\n",
       "Age                     -0.212378  0.226961  ... -0.657215  0.232458\n",
       "Male                     1.670152  0.552489  ...  0.587293  2.753011\n",
       "RestBP                   0.491548  0.208329  ...  0.083230  0.899866\n",
       "Chol                     0.230723  0.212353  ... -0.185481  0.646926\n",
       "Fbs                     -0.574079  0.592542  ... -1.735439  0.587281\n",
       "MaxHR                   -0.451075  0.268354  ... -0.977039  0.074888\n",
       "ExAng                    0.653306  0.447446  ... -0.223673  1.530285\n",
       "Oldpeak                  0.454812  0.278436  ... -0.090913  1.000537\n",
       "Asymptomatic Chest Pain  2.373287  0.709097  ...  0.983482  3.763092\n",
       "Nonanginal Chest Pain    0.393353  0.700340  ... -0.979288  1.765994\n",
       "Nontypical Chest Pain    1.448396  0.809140  ... -0.137488  3.034281\n",
       "Thal:Fixed              -0.168439  0.810312  ... -1.756622  1.419744\n",
       "Thal:Reversable          1.433319  0.440569  ...  0.569821  2.296818\n",
       "RECG:Abnormal            1.000887  2.638430  ... -4.170340  6.172115\n",
       "RECG:LVH                 0.486408  0.396328  ... -0.290381  1.263197\n",
       "Slope:Upsloping         -1.302289  0.486200  ... -2.255222 -0.349355\n",
       "Slope:Downsloping       -0.695528  0.872625  ... -2.405843  1.014786\n",
       "Ca: 1                    2.237444  0.514773  ...  1.228508  3.246380\n",
       "Ca: 2                    3.271852  0.785128  ...  1.733030  4.810674\n",
       "Ca: 3                    2.188715  0.928648  ...  0.368599  4.008832\n",
       "\n",
       "[21 rows x 6 columns]"
      ]
     },
     "execution_count": 6,
     "metadata": {
      "tags": []
     },
     "output_type": "execute_result"
    }
   ],
   "source": [
    "X = df.drop(columns=\"Heart Disease\")\n",
    "y = df[\"Heart Disease\"]\n",
    "model = sm.Logit(y, sm.add_constant(X)).fit()\n",
    "model.summary2().tables[1]"
   ]
  },
  {
   "cell_type": "markdown",
   "metadata": {
    "id": "rTx4gC6XuvQn"
   },
   "source": [
    "The constant value is the largest in magnitude and the most significant. This indicates that individuals with all of the default characteristics, as defined above, have a relatively low probability of heart disease.\n",
    "\n",
    "Interestingly, age does not seem to be a statistically significant parameter in our model as it has a p-value of approximately 0.35. Thus, we are unable to conclude that age is an important indicator of heart disease.\n",
    "\n",
    "Conversely, being male is highly significant, with a p-value of 0.002, and associated with a large increase in the likelihood of having a heart condition. This result is reassuring as it reflects the correlation calculated above.\n",
    "\n",
    "Of similar statistical significance are the parameters for RestBP, MaxHR, Oldpeak, Asymptomatic Chest Pain, Nontypical Chest Pain, Thal: Reversable, Slope: Upsloping and all Ca indicator variables. All have p-values at or below 0.1. MaxHR and Slope: Upsloping seem to be associated with a decrease in the likelihood of having heart disease. Whereas all of the above variables increase the probability that the individual has a heart condition, this likely reflects our baseline being a relatively healthy individual thus deviations from this are typically bad.\n",
    "\n",
    "However, there are also a number of other variables that are not of statistical significance as their p-values are larger than 0.1. Chol, Fbs, ExAng, NonAnginal Chest Pain, RECG: Abnormal, RECG: LVH and Slope: Downsloping are all of statistical insignificance to the prediction of heart disease.\n"
   ]
  },
  {
   "cell_type": "markdown",
   "metadata": {
    "id": "OJojOkaNsF71"
   },
   "source": [
    "## $(c)$"
   ]
  },
  {
   "cell_type": "markdown",
   "metadata": {
    "id": "aSvlp6OPxAEq"
   },
   "source": [
    "As this is a medical analysis it is likely that we would want to choose a\n",
    "classification rule that focuses on reducing the missclassification of those \n",
    "that do have a heart condition as individuals that do not have a heart condition\n",
    "ie the false-negative rate as missing an underlying heart condition may prove\n",
    "fatal. To reduce the class specific rate we can reduce the threshold for which\n",
    "we classify someone as having a heart condition. In doing so we would make more\n",
    "false positives and tell people they have a heart condition when they do not \n",
    "but this is likely to be an acceptable sacrifice for a hospital especially if \n",
    "combined with further tests. We will use a classificaiton rule that states \n",
    "that if the probability of someone having a heart condition is greater than 20%\n",
    "we will classify them as having a heart condition."
   ]
  },
  {
   "cell_type": "markdown",
   "metadata": {
    "id": "xBW1gWb2sF72"
   },
   "source": [
    "## $(d)$"
   ]
  },
  {
   "cell_type": "code",
   "execution_count": null,
   "metadata": {
    "id": "g9DnV6dasF73"
   },
   "outputs": [],
   "source": [
    "Xofs=pd.DataFrame(\n",
    "    {\"Male\":0,\n",
    "     \"Age\":55,\n",
    "     \"RestBP\":130,\n",
    "     \"Chol\":246,\n",
    "     \"Fbs\":0,\n",
    "     \"MaxHR\":150,\n",
    "     \"ExAng\":1,\n",
    "     \"Oldpeak\":1,\n",
    "     \"Asymptomatic Chest Pain\":0,\n",
    "     \"Nonanginal Chest Pain\":0,\n",
    "     \"Nontypical Chest Pain\":0,\n",
    "     \"Thal:Fixed\":0,\n",
    "     \"Thal:Reversable\":0,\n",
    "     \"RECG:Abnormal\":0,\n",
    "     \"RECG:LVH\":1,\n",
    "     \"Slope:Upsloping\":0,\n",
    "     \"Slope:Downsloping\":0,\n",
    "     \"Ca: 1\":0,\n",
    "     \"Ca: 2\":0,\n",
    "     \"Ca: 3\":0},\n",
    "      index=[0]\n",
    "                 )\n",
    "VartoStdze = [\"Age\",\"RestBP\",\"Chol\",\"MaxHR\",\"Oldpeak\"]\n",
    "scale = StandardScaler()\n",
    "for i in VartoStdze:\n",
    "    Xofs[i]=scale.fit_transform(Xofs[i].values.reshape(-1,1))"
   ]
  },
  {
   "cell_type": "code",
   "execution_count": null,
   "metadata": {
    "colab": {
     "base_uri": "https://localhost:8080/"
    },
    "id": "JIx8C8fFsF73",
    "outputId": "d01db71c-3de5-4c2b-946f-77f3dfe6be84"
   },
   "outputs": [
    {
     "name": "stdout",
     "output_type": "stream",
     "text": [
      "[[0.85624912 0.14375088]]\n"
     ]
    }
   ],
   "source": [
    "clf = skl_lm.LogisticRegression(solver='newton-cg')\n",
    "clf.fit(X,y)\n",
    "prob = clf.fit(X,y).predict_proba(Xofs)\n",
    "print(prob)"
   ]
  },
  {
   "cell_type": "markdown",
   "metadata": {
    "id": "KCYs3MiUsF73"
   },
   "source": [
    "Based on this result and the threshold determined above, we would classify this patient to not have heart disease as:\n",
    "\n",
    " $pr(y=1)=0.14<0.2$\n",
    "\n",
    "Therefore they do not cross the classification boundary."
   ]
  },
  {
   "cell_type": "markdown",
   "metadata": {
    "id": "oXruKxsfsF74"
   },
   "source": [
    "## $(e)$"
   ]
  },
  {
   "cell_type": "markdown",
   "metadata": {
    "id": "oVJnZk0_sF74"
   },
   "source": [
    "Testing model accuracy requires evaluating the test error rate, in order to acquire this we need a testing sample, in this case, we have used all the observations to train the model. Although question (d) offers an observation, we do not know this patients true state to determine whether model classified her correctly or not."
   ]
  },
  {
   "cell_type": "markdown",
   "metadata": {
    "id": "cuTFs7_JsF74"
   },
   "source": [
    "## $(f)$"
   ]
  },
  {
   "cell_type": "code",
   "execution_count": null,
   "metadata": {
    "id": "LWv2QUj4sF74"
   },
   "outputs": [],
   "source": [
    "X_train, X_test, y_train, y_test = train_test_split(X, y,train_size=207, random_state=10)"
   ]
  },
  {
   "cell_type": "markdown",
   "metadata": {
    "id": "ejX3b7ILsF75"
   },
   "source": [
    "## $(g)$"
   ]
  },
  {
   "cell_type": "code",
   "execution_count": null,
   "metadata": {
    "colab": {
     "base_uri": "https://localhost:8080/",
     "height": 460
    },
    "id": "MDird4h3sF75",
    "outputId": "064e8516-e656-43e2-fd84-b2393019c3b1"
   },
   "outputs": [
    {
     "name": "stdout",
     "output_type": "stream",
     "text": [
      "Test error rate: 0.322\n",
      "              precision    recall  f1-score   support\n",
      "\n",
      "           0       0.97      0.50      0.66        56\n",
      "           1       0.54      0.97      0.69        34\n",
      "\n",
      "    accuracy                           0.68        90\n",
      "   macro avg       0.75      0.74      0.68        90\n",
      "weighted avg       0.81      0.68      0.67        90\n",
      "\n"
     ]
    },
    {
     "data": {
      "text/plain": [
       "<matplotlib.axes._subplots.AxesSubplot at 0x7f66cb9ee390>"
      ]
     },
     "execution_count": 10,
     "metadata": {
      "tags": []
     },
     "output_type": "execute_result"
    },
    {
     "data": {
      "image/png": "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\n",
      "text/plain": [
       "<Figure size 432x288 with 2 Axes>"
      ]
     },
     "metadata": {
      "needs_background": "light",
      "tags": []
     },
     "output_type": "display_data"
    }
   ],
   "source": [
    "#ESTIMATION\n",
    "logit = skl_lm.LogisticRegression(solver='newton-cg')\n",
    "logit.fit(X_train,y_train)\n",
    "logitprob = logit.predict_proba(X_test)\n",
    " \n",
    "#OUTPUT\n",
    "testlogit=[]\n",
    "for i in range(len(logitprob)):\n",
    "    if (logitprob[i][1]>0.2)==True:\n",
    "        testlogit.append(1)\n",
    "    else:\n",
    "        testlogit.append(0)\n",
    "\n",
    "error_rate_logit1 = 1-accuracy_score(y_test, testlogit)\n",
    "print(\"Test error rate:\",round(error_rate_logit1,3))\n",
    "print(classification_report(y_test, testlogit, digits=2))\n",
    "\n",
    "#CONFUSION MATRIX\n",
    "cf_matrix=confusion_matrix(y_test, testlogit).T\n",
    "group_names = [\"True Negative\",\"False Negative\",\"False Positive\",\"True Positive\"]\n",
    "group_counts = [\"{0:0.0f}\".format(value) for value in\n",
    "                cf_matrix.flatten()]\n",
    "group_percentages = [\"{0:.2%}\".format(value) for value in\n",
    "                     cf_matrix.flatten()/np.sum(cf_matrix)]\n",
    "labels = [f\"{v1}\\n{v2}\\n{v3}\" for v1, v2, v3 in\n",
    "          zip(group_names,group_counts,group_percentages)]\n",
    "labels = np.asarray(labels).reshape(2,2)\n",
    "sns.heatmap(cf_matrix, annot=labels, fmt=\"\", cmap='winter')\n",
    "        \n"
   ]
  },
  {
   "cell_type": "markdown",
   "metadata": {
    "id": "XMIwb6fZsF75"
   },
   "source": [
    "The test error rate for this test sample is 0.322, implying that around 32% of its classifications were incorrect."
   ]
  },
  {
   "cell_type": "markdown",
   "metadata": {
    "id": "ivuFysVgsF76"
   },
   "source": [
    "## $(h)$"
   ]
  },
  {
   "cell_type": "code",
   "execution_count": null,
   "metadata": {
    "colab": {
     "base_uri": "https://localhost:8080/",
     "height": 516
    },
    "id": "H6GVSB96sF76",
    "outputId": "311d531f-62b9-4825-b1c5-4059373fd612"
   },
   "outputs": [
    {
     "name": "stdout",
     "output_type": "stream",
     "text": [
      "Test error rate: 0.622\n",
      "              precision    recall  f1-score   support\n",
      "\n",
      "           0       0.00      0.00      0.00        56\n",
      "           1       0.38      1.00      0.55        34\n",
      "\n",
      "    accuracy                           0.38        90\n",
      "   macro avg       0.19      0.50      0.27        90\n",
      "weighted avg       0.14      0.38      0.21        90\n",
      "\n"
     ]
    },
    {
     "name": "stderr",
     "output_type": "stream",
     "text": [
      "/usr/local/lib/python3.7/dist-packages/sklearn/metrics/_classification.py:1272: UndefinedMetricWarning: Precision and F-score are ill-defined and being set to 0.0 in labels with no predicted samples. Use `zero_division` parameter to control this behavior.\n",
      "  _warn_prf(average, modifier, msg_start, len(result))\n"
     ]
    },
    {
     "data": {
      "text/plain": [
       "<matplotlib.axes._subplots.AxesSubplot at 0x7f66cb467f50>"
      ]
     },
     "execution_count": 11,
     "metadata": {
      "tags": []
     },
     "output_type": "execute_result"
    },
    {
     "data": {
      "image/png": "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\n",
      "text/plain": [
       "<Figure size 432x288 with 2 Axes>"
      ]
     },
     "metadata": {
      "needs_background": "light",
      "tags": []
     },
     "output_type": "display_data"
    }
   ],
   "source": [
    "#RANDOM SAMPLING\n",
    "import random\n",
    "random.seed(10)\n",
    "randomclf = []\n",
    "for i in range(207):\n",
    "    n = random.choice([0,1])\n",
    "    randomclf.append(n)\n",
    "\n",
    "#ESTIMATION  \n",
    "logit.fit(X_train,randomclf)\n",
    "randprob = logit.predict_proba(X_test)\n",
    "\n",
    "#OUTPUT\n",
    "testclf=[]\n",
    "for i in range(len(randprob)):\n",
    "    if (randprob[i][1]>0.2)==True:\n",
    "        testclf.append(1)\n",
    "    else:\n",
    "        testclf.append(0)\n",
    "        \n",
    "error_rate_logit2 = 1-accuracy_score(y_test, testclf)\n",
    "print(\"Test error rate:\",round(error_rate_logit2,3))\n",
    "print(classification_report(y_test, testclf, digits=2))\n",
    "\n",
    "#CONFUSION MATRIX\n",
    "cf_matrix=confusion_matrix(y_test, testclf).T\n",
    "group_names = [\"True Negative\",\"False Negative\",\"False Positive\",\"True Positive\"]\n",
    "group_counts = [\"{0:0.0f}\".format(value) for value in\n",
    "                cf_matrix.flatten()]\n",
    "group_percentages = [\"{0:.2%}\".format(value) for value in\n",
    "                     cf_matrix.flatten()/np.sum(cf_matrix)]\n",
    "labels = [f\"{v1}\\n{v2}\\n{v3}\" for v1, v2, v3 in\n",
    "          zip(group_names,group_counts,group_percentages)]\n",
    "labels = np.asarray(labels).reshape(2,2)\n",
    "sns.heatmap(cf_matrix, annot=labels, fmt=\"\", cmap='Reds')\n",
    "\n"
   ]
  },
  {
   "cell_type": "code",
   "execution_count": null,
   "metadata": {
    "id": "Ci1lH-5uW1wD"
   },
   "outputs": [],
   "source": []
  },
  {
   "cell_type": "markdown",
   "metadata": {
    "id": "BFQBEt7IsF77"
   },
   "source": [
    "## $(i)$"
   ]
  },
  {
   "cell_type": "markdown",
   "metadata": {
    "id": "mw546B6isF77"
   },
   "source": [
    "Using the random generator function we achieve a test error rate of 0.622 meaning that 62% of observations were misclassified in comparison with 32% when using the logistic regression results. The increased test error rate seems to be driven by an increase in the number of false positives which has increased significantly when classifying randomly. "
   ]
  },
  {
   "cell_type": "markdown",
   "metadata": {
    "id": "Pp2l1JUPsF77"
   },
   "source": [
    "# $(2)$"
   ]
  },
  {
   "cell_type": "markdown",
   "metadata": {
    "id": "oFl7fE1JsF78"
   },
   "source": [
    "## $(a)$"
   ]
  },
  {
   "cell_type": "code",
   "execution_count": null,
   "metadata": {
    "colab": {
     "base_uri": "https://localhost:8080/",
     "height": 460
    },
    "id": "2SfauSifsF78",
    "outputId": "712d598c-4d38-45d3-f687-5eeff2aedb9a"
   },
   "outputs": [
    {
     "name": "stdout",
     "output_type": "stream",
     "text": [
      "Test error rate: 0.256\n",
      "              precision    recall  f1-score   support\n",
      "\n",
      "           0       0.90      0.66      0.76        56\n",
      "           1       0.61      0.88      0.72        34\n",
      "\n",
      "    accuracy                           0.74        90\n",
      "   macro avg       0.76      0.77      0.74        90\n",
      "weighted avg       0.79      0.74      0.75        90\n",
      "\n"
     ]
    },
    {
     "data": {
      "text/plain": [
       "<matplotlib.axes._subplots.AxesSubplot at 0x7f66cb928cd0>"
      ]
     },
     "execution_count": 12,
     "metadata": {
      "tags": []
     },
     "output_type": "execute_result"
    },
    {
     "data": {
      "image/png": "iVBORw0KGgoAAAANSUhEUgAAAVoAAAD4CAYAAACt8i4nAAAABHNCSVQICAgIfAhkiAAAAAlwSFlzAAALEgAACxIB0t1+/AAAADh0RVh0U29mdHdhcmUAbWF0cGxvdGxpYiB2ZXJzaW9uMy4yLjIsIGh0dHA6Ly9tYXRwbG90bGliLm9yZy+WH4yJAAAgAElEQVR4nO3dd3RUxdvA8e/spocSElqoofdepQgiiqIgSFERQUWR9qJiww52RVFEAUMH6QI/EKQIUgSki0gTKaGEEkoC6clm5/1jw0ogySZkb7LZPJ9z7nF37p2ya3gymTszV2mtEUIIYRxTXjdACCHcnQRaIYQwmARaIYQwmARaIYQwmARaIYQwmIfRFYyq6SnTGsRtRu09n9dNEK7Ir7jKaRHZiTmjjiTnuL6skB6tEEIYzPAerRBC5KZc6aJmkwRaIYRbMbtgpJVAK4RwK0oCrRBCGMsF46wEWiGEe5EerRBCGMwVp1JJoBVCuBXp0QohhMFMLhhoXbGXLYQQd0xl48i0HKV8lFI7lVJ/KaUOKqVGp6bPUEqdVErtSz0aOmqT9GiFEG7FiT3aRKCD1jpGKeUJbFFKrUo995rW+qesFiSBVgjhVpwVZ7Xt8TMxqW89U4872rtFhg6EEG5FqawfjstSZqXUPiAC+FVrvSP11MdKqf1Kqa+VUt6OypFAK4RwK2als3wopQYqpXbfdAy8uSytdYrWuiFQDmiulKoLvAnUBJoBgcAbjtokQwdCCLeSnaEDrXUoEJqF66KUUhuAB7TWX6YmJyqlpgOvOsovPVohhFtx4qyDEkqpgNTXvsB9wBGlVHBqmgK6AQcctUl6tEIIt+LEBQvBwEyllBlbp3Sh1nqFUuo3pVQJbLF6HzDIUUESaIUQbsWJsw72A43SSe+Q3bIk0Aoh3IorrgyTQCuEcCsSaIUQwmAuGGcl0Aoh3Iv0aIUQwmAuGGcl0Aoh3IvsRyuEEAaToQMhhDCYKy53lUArhHArMnQghBAGc8E4K4FWCOFeZIxWCCEM5oJxVgKtEMK9eLhgpJVAK4RwK3IzTAghDCbTu4QQwmDSoxVCCIOZ1B09EdxQEmiFEG5Fhg6EEMJgZhk6EEIIY7niGK0r9rKdzjcgkEFLdzNo6W5e/f0MIzaF2d+bPT2dUsfTs9Yx8Kft9vdl6jbh6VnrnFL2zRp270fhksH2910//IESVWo5vR53VqtJWx55rL/9OHvufIbXNmrVMcf1jXzvI9re/whJSUkAXI2MokPnHjku91brNmzm2PGT9vfjJkxm2/ZdTq/H1ZmyceSWAtGjjY+6yqTuTQFoP+xdkuJi2Dbta/t5k9mMNSUlx/X4B5agattOHPt9TY7LykjD7v2I+Pcg0RG24LD83RcMq8td+Xh7s2zBzFyt02w289P/VtKnd3fD6li3YTPt27amapVKALw45HnD6nJlsgTXhXT7dCqWxARK12rImT+3kRhzPU0AHrL8T+YO7kZU+Cnqd+lDi6eGYfb04uz+nawcPQxttd5W5tZpY7l70Ju3BVplMtHxlU8Iad4ODy9vds6dyJ4Fk1FK0fndb6nUsj3Xzp/FaknmzyUzOLRmCe2GvE31ex7G09uHM/u28/N7g6nd6VHK1GnCo2NmYklIYMrjbeg7eQVrv3iDMnWaUKxCZX4dMxKwBeQydZvwy4cvZrn9BVVsXBxDXh7J9evRWCwWXhwykI73tE1zTcSly7z8xnvExMaSkpLCqLdepWnjhmz5YwfjJ04lKTmZ8uXK8unot/D387utjv59ejNzzgJ6P9rltnNTZs5h1drfSEpO5r577mb44OcA+D50Ost/WUNgsWIElypJndo1GNCvDwuXLGfB4mUkJ1uoWL4sX3z0Hof/+ZffNm1h5559TJwyg/FffsyEyTNo37Y1fn6+/PS/FXw75iMAduzey7RZ8/jh2zFZbn9+IkMHLqZI6bJMfaItaz57LcNrileuSZ3OvZja524mdW+KTkmhfpc+6V57dt92UpKTCGnRLk16457Pkhh9jcm97iK0Z0ua9BpAQNkQat3fnYCyFfn+ofosfeNpyjVsac+zc84EJve6iwldG+Hh7Uv1ex7i0JolnDu4hyWv9WdS96ZYEhPs1x9au4RaHR+xv6/zYC8OrFyYrfYXFAmJifZhg6Ej3sTby4vvv/qUpfOmMzN0PJ9/PR6t004RWrHqV9q0asGyBTNZtmAmNWtU42pkFBMnz2T6D+NYOm86dWvXZPrs+enWGVy6FI0b1WfZyrS/hLf8sYNTp8/y049TWDZ/BgcP/8OuPfvYf/Awa9dvZPmCmUz+7ksOHDpiz3Nfh3YsnjOV5QtnUrlyCD/972caN6xHh3ZteP2loSxbMJMK5cvZr2/Voin7DxwiLj4egF/WrKdzp47Zan9+YlZZP3JLge3RAhxcvdhhz67yXR0oU6cxAxfZxl89fHyIvRqR4fWbJ37C3YPeYt1Xb9nTqrTuSKka9ajdyTYu5124CEEhVanQuDUH1yxGa03M5YuE7dhozxPSoj2tB7yKp68fvkWLcenYQY5uWJlhvXGRl4k8e5JyDVpw5dS/FK9cg9N7t9L8ySHZan9BcOvQQXKyhbHfTWLX3r8wKcXFiEtcvnKVEsWD7NfUq1OLt0Z/gsVioeM9balVozob9mzl2Mkwnnh6kL2chvXrZljvC888xZCXR9K+bSt72tY/drH1j510e/xpAOLi4wk7fYbYuDjubd8Wb29vvL29uefu1vY8/x47wTcTQomOjiE2Lp42dzXP9PN6eHjQtlULNmzaSqeO7dm05Q9ee2kIu/bsy1b78wtn9R6VUj7AZsAbW6z8SWv9vlKqEjAfCAL2AE9prZMyK6tAB9rk+Fj7a6vFglL//S/y8PaxvVCKff+bzfqx72SpzJM7NtLhpQ8o16DFf4lK8ctHL3F8y69prq1294PpluHh5c1D740ntGdLrl84S/th7/7XnkwcWLmQOg/25PKJfziybtkdtb8g+nnVGq5GRrFkzjQ8PT3o0LkHiUlp/900a9KQH6d8z6YtfzDyvY95pu/jFClSmNYtmjH2s9FZqiekYnlq1ajGqrXr7WlaawY++xSP9+yW5toZcxZkWM7I9z9mwthPqVmjGkuWr2Tn7j8d1t25U0fmLPiJokULU7d2DQr5+6O1zlb78wsnjtEmAh201jFKKU9gi1JqFTAC+FprPV8pNQkYAEzMtE1Oa1I+FxV+iuDajQAIrt2IgHK2Gwon//iN2vc/in9gCQB8ixajaJkKmZa1eeIntB7wiv398S2/0uzxFzB52H6vBYVUw9PXj9N7t1H7/u4opfAPKklIc9uQw42gGhd5GS8/f2rf/6i9rMTYaLz8C6Vb7+F1/6NGhy7UfegxDqxceMftL2iiY2IJKlYMT08Ptu/aQ/j5C7ddE37uAsWDAun9aFd6de/CwSP/0LBeHfb+9TenTp8FbL3Rk6dOZ1rXoOf6MW3WPPv7Nq2as3jZSmLj4gC4GHGJK1cjadywPhs2byUxMZHYuDg2/r7Nnic2Lo4SJYqTnGzh51/W2tP9/fzs5dyqeZOGHDp8lIVLfqZzJ9tMijtpf36gsnFkRtvEpL71TD000AH4KTV9JtAtnexpFOge7c0OrV1Cg259GfLzPsL37+JK2FEALh0/zG/j3uepqatQJhMplmR++WA4185l/AP57+bVxEZetr/fu2gqAWUr8sKSXSggNvIy84f24PDaJVS+qwNDV+7n2vmznD/0JwnR10iIvsbeRVMZ8vM+Yi5fJPzAHntZ+5bO4uFR39tvht0s4XoUl08coUSVWoT/veuO21/QdHnwfga/+Dpdej1F3do1qVyp4m3X7Ny9l6mz5uLh4YGfny+ff/gugYHF+HT024x4832SkpMBeGnI81SqmPEvsmpVKlO7VnUOHbb9fLW5qwXHT57i8f622SN+vr6M+fg96tepRYd2bejauz9BQcWoXrUyhQvZfsG+OPh5ej31PIHFAmhQt7Y9uHZ+oCPvfvA5s+ctst/4usFsNtP+7lYsXb6Kzz+w/XVzJ+3PD7LTo1VKDQQG3pQUqrUOvem8GdvwQFXge+A4EKW1tqRechYo67CeWwf9nW1UTU/XW3jsQrz8/EmKi8U3IJDnF25jWp92xFy+mNfNMtyovRnPXRU2sXFx+Pv5ER+fwJMDhvDhu29Qp1aNvG6WsfyK5/gP/533mrMcc5qvT8lSfUqpAGAp8C4wQ2tdNTW9PLBKa53p4Lb0aPNYn0nL8CkcgNnTk80TPykQQVZkzXsffsGxEydJTEqi+8MPun+QdRIPk/P7dlrrKKXUBuAuIEAp5ZHaqy0HhDtsk9NbJLJlRr+crzwS7umrT0fldRPyJWfdC1NKlQCSU4OsL3Af8DmwAeiJbeZBf2CZo7Ik0Aoh3IoTZx0EAzNTx2lNwEKt9Qql1CFgvlLqI+BPYKqjgiTQGsTDy5tnftyA2csbk9nMobVL2Dj+A575cQPe/oUB8A8qQfj+Xcwf1jOPWyvySkpKCj2eHECpkiX44dsxed0ct+CsOKu13g80Sif9BJD55OVbSKA1iCUpkZlP30dSXCwmDw+enbOJY5vXML3vPfZren+7gH/W/5yHrRR5bdbcRVSpFEJMbKzDa0XWuOJeBw7n0Sqlaiql3lBKfZt6vKGUku2isiApzvaPx+zhidnDM82yTm//wlRqcc9/CwtEgXPhYgQbt2yjZ/fb9z8Qd84Vd+/KtC6l1BvYBnwVsDP1UMA8pdRI45uXvymTiUFLd/Pa1nMc37aO8P077edqdnyEk9t/IzE2Og9bKPLSJ2PG8dqLQzC5YhcsHzObsn7kFkdVDQCaaa0/01r/mHp8hm18YkBGmZRSA5VSu5VSu/dEFdxdorTVyqTuTRnbPoSy9ZtRslod+7m6Dz3G3yszXmYp3NuGzVsJDCxG3do187opbsdZK8OcyVGgtQJl0kkPTj2XLq11qNa6qda6aZMAWeWbEH2NsB0bqdr2fgD8AoIoW78Z/278JY9bJvLK3n37+W3TFjp07sGIke+zfdceXn3bvfYcyCtKqSwfucXRzbCXgPVKqX+BM6lpFbAtRxtmZMPyO79ixbFakkmIvoaHtw+VW3Vk6xTbXeXanXpwdOMvWJIS87iVIq+8MnwwrwwfDPy3P+yXH7+fx61yD664H22mgVZrvVopVR3bUMGN9bzhwC6tdc4fSeDGCpcIpttn0zCZzSilOLj6J46m9mDrPtSbLaFf5HELhXBTLhhpZa8DkSdkrwORLifsdXCia9ZjTuXlybkSlWUerRDCreTm2GtWSaAVQrgXF7z/7oJNcl3KZOKFJbvoM+l/ADR/cgjD1xxm1JFk/AKCMszXd/IKRu68ZM93Q0b5a93fnSE/7+OZHzfgGxAIQLHylek5do4Bn0o4U0pKCt0ef5oXhmf8HLo16zZQo1Fr/j54OE36ufMXaNSqI1NnzQXg6tVInnhmMA/37Mu6DZvt1w1+6Q0uRlwy5gO4AVecdSCBNhta9hvO5RP//eM4vXcbs559gKjwsEzzbZ36FUveePq29Izyt+g7lMm97mLPgsnUe/gJADq8NJrfxsldaVd3Y0ltRmJiY5k1dxEN6tW+7dxnX42nbev/HtC5YvU6Hu/ZjUWzpzBzju2JGb9t2kLtmtUpVbKEs5vuNpTK+pFbJNBmUZFSZanW7kH2LppmT7tweB9R4acc5j25fQNJ6awAyyi/tloxe3nj6euHNTmZCk1aE3PpIldPHcvZhxCGysqS2nETJvP8M33x9vJOk75uw2bKlg2mWpVK9jQPDw8SEhJISk7CZDZhsViYOXchz/V/0rDP4A6kR5uPPfDWV/z65ZtobfxKt99DP6ff9DVUv+ch/l45n3ZD3mbzxI8Nr1fkjKMltQcP/8OFCxFpnoILticpTJ7+I8NeeDZNepcH72P9xt95ZtBLDHq2H3MXLuWRhzrh6+v4QZ0FmTKpLB+5RW6GZUH19p2JvXKJ8wf3EtL8bsPrO7FtPaHbbE/RbfBIX/7dtJqgkOq0evZl4q9FsfqTl0lOiDe8HSLrbl5Su2P33tvOW61WPvtqPJ9+8PZt576bNI3+fR/D388vTXrhwoUIHf8lANeuXyd0+my+G/sp73zwGdevR/PMU0/QqEH+fzy4s7ngpAMJtFlRvnEranR4mGrtHsDDywfvQkV49IuZLHm9v6H1evr40rB7P2Y/15k+k5ax4P96UbtTD+p16cPeRQ73Gha56MaS2s1b/iAxKYmY2FhefXu0fbVXbGwcR4+foN9ztgWVl65cZfBLbzDxm8/568BB1qzbwJffTOB6dAwmk8Lby4u+j/+3T/GE0BkMeq4/K1evo0nD+nS67x7+75W3mDrh6zz5vK5MpnflU+vHvsP6sbYnh4Y0v5tWz44wPMgCtBrwCjtmf4fVYsHT2xe0RlutePr4Oc4scpWjJbWFCxdix4b/9rZ46rlhvP7yUOrVqcXcaRPt6eMnTcXPzzdNkA07dYYLEZdo0bQxR44ew6tIERSKhARZwp0uFwy0MkabAy2eGsaIjScpUqocg5fvpeuHPwBQpm4T+2uAZ37cQK9v5lOpZQdGbDxJlTb3ZZofoHDJYMrWa8aR9csB2PHj9zy/6A+aPj6Qv1fMy8VPKXJi3ITJrN/4e47K+Pr7UF4eansi9sMP3Mf8RUvp2XcA/fr0ckYT3Y4rzjqQJbgiT8gSXJEuJyzBPf9koSzHnOA5MbIEVwghsis3ZxNklQRaIYRbccEhWgm0Qgj3IrMOhBDCYBJohRDCYC4YZ2V6lxDCvThrCa5SqrxSaoNS6pBS6qBS6sXU9FFKqXCl1L7Uo7OjNkmPVgjhVpw4dGABXtFa71VKFQb2KKV+TT33tdb6y6wWJIFWCOFWnBVntdbngfOpr6OVUof579mJ2SJDB0II95KNpWFKqYFKqd03HQPTL1KFAI2AHalJw5RS+5VS05RSxRw1SQKtEMKtZGc/Wq11qNa66U1HaDrlFQIWAy9pra8DE4EqQENsPd6vHLVJhg6EEG7FmbMOlFKe2ILsHK31EgCt9cWbzk8GVjgqRwKtEMKtOGsJrrLdVZsKHNZaj70pPTh1/BagO3DAUVkSaIUQbkWZnDYi2hp4CvhbKbUvNe0t4AmlVENAA2HAC44KkkArhHAvTho70FpvAdIr7Jd00jIlgVYI4V5ccGmYBFohhFtRyvUmU0mgFUK4F+eN0TqNBFohhFuR3buEEMJoMnQghBDGkkfZCCGE0WToQAghDCZDB0IIYSwnrgxzGgm0Qgj3IkMHQghhLFmwIIQQRpMerRBCGEumdwkhhNFk6EAIIYwlsw6EEMJoMkYrhBAGk6EDIYQwluzeJYQQRpNZB0IIYSxlMud1E24jgVYI4V5k6EAIIYwlY7RCCGE0mXUghBAGK4g92vdGPGh0FSIf2tmlVF43Qbig5utTclyGs4YOlFLlgVlAKUADoVrrcUqpQGABEAKEAb211pGZleV6fWwhhMgJsznrR+YswCta69pAS2CoUqo2MBJYr7WuBqxPfZ8pCbRCCPeiTFk/MqG1Pq+13pv6Oho4DJQFHgFmpl42E+jmqEkSaIUQ7kWpLB9KqYFKqd03HQPTL1KFAI2AHUAprfX51FMXsA0tZEpuhgkh3Es2Zh1orUOB0EyLU6oQsBh4SWt9/eYxYK21VkppR/VIj1YI4V6y0aN1XJTyxBZk52itl6QmX1RKBaeeDwYiHJUjgVYI4V6cNEarbF3XqcBhrfXYm04tB/qnvu4PLHPUJBk6EEK4F+ftddAaeAr4Wym1LzXtLeAzYKFSagBwCujtqCAJtEII9+KkebRa6y1ARoXdm52yJNAKIdxLQVwZJoQQuUr2OhBCCINJj1YIIQwmG38LIYTBZOhACCEMJkMHQghhMOnRCiGEwaRHK4QQBpMerRBCGExmHQghhMFk6EAIIQwmQwdCCGEw6dEKIYTBpEcrhBAGkx6tEEIYzPFjxHOdBFohhHuRHq0QQhhMxmiFEMJg0qMVQgiDSY9WCCEMZnK9sOZ6LRJCiJyQoQMhhDCYDB0IIYTBXDDQul6LhBAiJ5TK+uGwKDVNKRWhlDpwU9oopVS4Umpf6tHZUTkSaIUQ7kWZsn44NgN4IJ30r7XWDVOPXxwVIkMHQgj34sRZB1rrzUqpkJyWIz1aIYR7ycbQgVJqoFJq903HwCzWMkwptT91aKGYo4sl0Aoh3Es2hg601qFa66Y3HaFZqGEiUAVoCJwHvnKUQYYOhBDuxeBZB1rri/aqlJoMrHCUp0AF2jpj/6F6cW/7++8eKUvZop7pXtvk26PsGV49R/W9ufo8u87EU9jbhFLw7r2laFTGN1tlvLPmAk83LUbVIG9+2HGFF1oE2c89MfcU8/pUzFEbhY1HkUBqjPkVAM/A0mBNITnqEgCHhrZEW5JzXEfNr9bjGRSMTkogJT6Gk2OeI+Hs0WyVUf2TFRz/+EkAgu59gojlk2xtDgqm4rBxHBvdO8ftzPdMxgZapVSw1vp86tvuwIHMrocCFmh9PBRL+4Xkap2vtStBp+qF2RoWy6hfL7Csf6Vs5f+oU2n769BbAq0EWeexXL/KwReaAFC233ukxMdwYdHY/y4wmcGakuN6TnzyFLFH91Dioecp/8IX/Ptut2zlP/rWwwB4lapIya6D7YE2+cp5CbI3OPEpuEqpeUB7oLhS6izwPtBeKdUQ0EAY8IKjcgpUoL1VbJKVYcvCuZaQgsWqebF1ce6tWjjNNRExFkasOEdskhWLVfN+x1I0LefH1rBYxm+7TFKKpkKAJx93CsbfK+PfpE3L+XI6ytYrmrH7KosPXAOgZ72i9G8SSFyylZd/PsfFGAspVs3glkF0rlmEfgtO83q7kqw5Gk2CRdN9VhhVg7wY81AZe697xIpzdK1dhPaVCwG2nnT7yoXoWLUQY3+/xM4z8SSlWOnTsBiPNQgw6Nt0P5Ven4ZOSsCvakNiDm4jJfZ6mgBcd8pfHH27K0kXTxHU8UlKdR+G8vAi9shOwsYNBas1w7Kj92+mdI/hAJQf+DlFmz8AWnNuzidc3bgQz8DSVHl3Hma/IiizB2HjhhLz9xYazDnOwcHNKf/8p/iUqUKdH/Zwfc86Li6bQPWPl3PguQbUHr+Vk18+T/ypQ4CtJ33mh9eJP32YisO+xbdSHZTZk/BZHxC1bbnxX2Ruc+LQgdb6iXSSp2a3nAIVaG8EKoCyRT35pksZxnctQyFvM5FxFh6fd5oOVQqhbprIvPLIddqE+DOoZRApVk2CRRMZZ2Hi9itM61UeP08Tk3deYcaeqwy9q3iGdW84Hkv14t4cvJjAkoPXWPBkRbSGx+aeolk5P85eS6ZkIQ9+eLQcANGJaXtPr9xdgrn7ItPtkT9YozCr/4mmfeVCJKVotp+K4/17S7H4wDUKeZtZ1LciSRYrfeafpnWIH+WKeuX8yywgvEqU49DwNmC1Urbfe+le41OhJoHte3N4eFt0ioWKw78j6N4nufLr7AzLDbjrYeJOHKBY20fxq9qQAwMb4VG0OHW+30H0/s0E3fsE13at5fzcT8FkwuTtlyb/mclv4htSx94L9yr13183VzYuJLB9L8JnjsYzsDSeQcHEHt1DuQEfcX3fBk5++Rxm/6LUmbCd63vXYU2Ic8I35UJkr4O8devQQXKK5ustl9l9Ng6TUlyMsXA5LoUS/v99LXVL+/DOmgtYrJp7qxaiVkkfdp6J4/iVJJ6cd9peToMMxl7HbLrEpO1XKOZr5sNOpdl+Oo6OVQvj52n7rXtftcLsCY+nTYg/n2+K4MvNl2hf2Z+m5fzSLS89d1fy59MNESRZrPweFkvTcr74eJrYGhbLP5cTWXs0GoDoRCunIpMl0GbD1U0/ZdozBSjSqAP+1RpTe8IOAEzevliiItK9tvJbs7EmxpN08RSnxg+ndM+XufLbfLBasURGEL1/M/41mhF7ZDeVXpuCycOTyK3LiDv+VzbavIgan68mfOZoAtv3InLzYgCKNrmPgLu6ULrXCACUpw9eJSuQcPpIlsvOF1xwCW6BCrS3WnH4OlfjUvipbwieZsW9k4+TZNFprmlWzo/Zj1Vg44kY3lp9gf5NilHUx0yrin589XAZh3XcGKO9Yfvp9HsPlQK9WNw3hM0nYxi39TItK/hl2kO+mbeHiWbl/dgSFseqf6LpXKMIYBtAeqdDKdqE+GepHHG7lIRY+2udYklzo8Xk5QOAUorLa2dxdurbDsu7MUbrSPTfv3P45fYEtHiISq9P48JP32TaQ75Z8uVzWK5fwbdyPQLb9ybsmyGkNpRjo3pl+wZcvuOCgdb1WpSLopOsBPmZ8TQrdpyO49x1y23XhF9PJsjPTO/6AfSsV5RDEYk0CPbhz3PxnIpMAiAu2crJq0lZqrNJWV/WH4smPtlKXLKVdf9G06SsLxExFnw9FV1rF+XZpoEcvph4W14PkyI5RadTqm34YMnBa+w5G0+bSrbA2ibEn/n7oux5Tl5NIi45896ZyFjixVP4V2sMgF+1RniXtt3YvPbnbwTe3QOPgBIAmAsXw6tkhSyVGf33FoLa9waTCY+ixSlcvy2xR3biVbICyZEXufTLFC79MhX/ao3S5LPGR2P2K5xBqXB140KCH3sNs39R4k/8bWvn7rWU6j7Mfo1f1YZZ//D5iXOX4DpFge7RdqlZmMH/C6frzJPULeVD5cDb/6TedSaOqbuu4mlS+HmZ+OzB0gT6efDJA6V5deV5klJsgevF1iWolE7+W9Up5UP3OkXpPecUYLsZVruUD1vCYhmzKQKTUniYFO93LHVb3l71A+g2K4zaJb0Z81Da3nTriv6MXHWeDlUK4WVW9rLDryXT48cwtIZAPzPfPVI229+TsLm6eTHF73uKulP3E3t4p71nmHDqMGenv0eNz1ejTCa0JZmwb/+PpIjTDsuM3LKUQrVbUjf0T9CaM6EjSY68SPH7+1G69ytoSzLWhBiOf/Z0mnyW61eJObCNulP+4trO1VxcNuG2tlYc+g3hsz+yp4XP/oiKQ7+m7uR9YDKRdCGMo293zfkX42qcOOvAWZTW6feQnMUa2tXYCkS+tHvByrxugnBBzZoNh6YAAArnSURBVNen5PhOlnX791mOOaaWQ3PlzlmB7tEKIdyQzDoQQgiDueDNMAm0Bnl79Xk2nogl0M/Mz0/bbpociUhg1LqLxCVbKVvEkzGdgynk7XrjScI4ytObWt9sxOTpDWYPIjcvJnzmaLxKh1D1nbl4FAki9uheTnzWzynLfgskFwy0rtciN9GtblFCe5RLk/bu2ouMaFuC5f0r0bFqYabujsyj1om8opMTOfJKRw4MbMzBgY0p2qwT/rVaUP75z7iweBz7+9UgJSaSEg8OyOum5l8uOOtAAq1BmpXzI8AnbW81LDKJZuVsCxtaVfTj19SFBKJgsabOzVUenigPT9CaIo3usS2OAC6vnUWx1o/kZRPzN7M560cukUCbi6oGebH+WAwAa45Gcz5a/jQskEwm6vywh0aLL3BtzzoSzx0nJSbKvmlN0qWzeBZ3vBhGZMCderRKqWcyOWfftTx086k7rcLtfNypNPP+iqLH7DBik6x4ml3v7qjIBVYrB19owr7HKlCoZjN8KtTM6xa5FxcMtDm5GTYamJ7eidRdykNB5tHerHKQN1N7lgdsq7Q2nYx1kEO4s5TYa1zft5FCtVtiLhRg34rRq0Q5ki+fy+vm5V8uOL0r05Ce+kyc9I6/gduXLolMXYmzLfG1as2kHVd4rL5sWVjQeBQtjtm/KADKy4eiTTqScPoI0fs2EtiuJwDF7+9H5LZlednMfE5l48gdjnq0pYBOwK23xxWwzZAWuYlXVpxj59k4ouJTaP/DcYa1CiIuWTN3n+2rvK9qYR6tWySPWylym2dQMJVfn44ym0GZuLppEVHbVxJ/6hBV3plLuWc+IO7YPi6tmpbXTc2/XHAJrqNAuwIopLXed+sJpdRGQ1rkJjLa2atfY4cPzBRuLP7E3xwc1PS29MTzJzk09K48aJE7cr17/JkGWq11hpP5tNZ9nN8cIYTIIRcco5WVYUII9yKBVgghjJbPhg6EzfnryYxcfZ4rsSmgoHf9APo1Lsbqf6L57o/LnLiSxMInK1K3tE+6+dPb9wDIMP/e8DhGr7uIp1nx5UNlCCnmxfWEFF5ecY7JPcphcsHf2AVRRvsWVHp1Mv7Vm4BSJJz9lxOfP2NfDXaDf41mhIywPcFWKUX4zA+I3Pq/DMsEqPzmbPwq1yVq+0rOTn0HgDJPvkVc2EGitsosBTsX/PchgTYLzCbF6+1KUqeUD7FJVnr8GEarin5UK+7F+K5lef/XC5nm71a3KH0aFWPkqvNp0jPKP313JD88Wo7wa8ks+CuKN9qXZNJ226PGJci6jhv7FlgTYlFmD2qN20zUztWcmjACa5xteXWFwV9SqttQzs//Ik3e+LADHBzcHKwpeAaWpm7on0T+8XOGZVoT47AmxXPg+UbU+GINZv8imLz98K/VgnNzPsmLj++6VP6bdSCAkoU8KFnI9lX5e5moEujNxWgLrbP4LK5m5fwIv3b7ctsqQd7pXu9hUsQn256462FSnI5K4ny0hebls/7ARpE70tu34EaQBVBevtie3nZLvsT4m67xSXNNemVqSzImL19QCmX2QKekUPbp0YTPHGXI58rXXLAzIoE2m8KvJXM4IoEGwekPEzjDwBaBjFx9Hh8PxecPBvPFpku82CZrD2oUucxkos7EXfiUrcrFZROIPbITgEqvTSWgxYPEnzrEmUmvppvVv2ZzKr02Be9SFTnxaX/7XgcZlWm5dok6k3ZzZd2P+JStijKZiPv3z1z5mPmKC26TKIE2G2KTrAxfHs7Ie0oauo9srZI+LOhTEYBdZ+Mo4e+B1vDyz+fwNMPr7UpS3F/+17mE1H0LzP5FqfbBYnxD6hAfdpCTYwaAyUTFYd8S2P4xLq+ZcVvW2CM7OTCgPj4ValL5jelE7VyFTk7MsMzTE0bY81b7aBlhXw8iuM+b+FVpwPU967j0y5Rc/OCuzHk9WqXUNOBhIEJrXTc1LRBYAIQAYUBvrXWme566Xuh3UckpmheXh9OlVhHur5bx00edSWvNpO1XGNwyiAl/XObVdiXoWS+AH/+UfWxdzY19C4o26/RfotXK1Q0LCLz70UzzJpw+gjU+Br9KdR2XCQS06krc0T2YfQvhU6YKxz98nMC7e2Dy9nXa58nXlMr64dgM4IFb0kYC67XW1YD1qe8zJYE2C7TWvLP2ApWDvHm6aWCu1bvs0HXuruRPgK+ZeIvGBJgUxCfLPj2uIN19C84exbtMFfs1Aa26EH/6yG15vUqH2JeKepWsgE/5miReCEu/zDP/2PMpswelewzn/IIxacd/TSaUh+OnMBcITty9S2u9Gbh6S/IjwMzU1zOBbo7Kkb8/s2BveDzLD12nenEvus8KA+ClNsVJStF8/FsEV+NTGLT0LDVLeDOlZ3kiYiy8s/YCoY/anrCQ3r4HPesF8Ou/0enmB4hPtrL04DWm9LC9f7pJMV5YehZPk23Kl8h7Ge1bUOubTZj9ioBSxB3fT9i4IQAE3NUF/xpNCJ8xisJ12xD8xOu2x9VoK2HfDsNy/Qq+leulW+YNJR8ZwuW1s7EmxhN/Yj8mbz/qTt5H1M5VpMRey6uvwqWobMw6UEoNBAbelBSauvtgZkpprW9MIbpAFjbYkseNizwhjxsX6XHG48b1ifVZjjmq8r0O61NKhQArbhqjjdJaB9x0PlJrnekmJjJ0IIRwL84do03PRaVUsK0qFQxEOMoggVYI4WZM2TjuyHKgf+rr/oDDZXkSaIUQ7sWJPVql1DzgD6CGUuqsUmoA8Blwn1LqX6Bj6vtMyc0wIYR7ceISXK31Exmcujc75UigFUK4F1mCK4QQBpMluEIIYTTp0QohhLFk6EAIIQwmQwdCCGEwCbRCCGEwCbRCCGE0GaMVQghjyc0wIYQwmgRaIYQwlvRohRDCYBJohRDCaBJohRDCWNKjFUIIo0mgFUIIY0mPVgghDCYrw4QQwmjSoxVCCGPJ0IEQQhjN9QKt6w1mCCGEm5EerRDCrSgZOhBCCIPJrAMhhDCa9GiFEMJYThw6UEqFAdFACmDRWje9k3Ik0Aoh3IzTe7T3aK0v56QACbRCCPfigjfDXG/UWAghckRl+VBKDVRK7b7pGHhLYRpYq5Tak865LJMerRDCvWRj1oHWOhQIzeSSNlrrcKVUSeBXpdQRrfXm7DZJerRCCPeS9Q6tQ1rr8NT/RgBLgeZ30iQJtEIIN+OcSKuU8ldKFb7xGrgfOHAnLZKhAyGEe3HezbBSwNLUlWYewFyt9eo7KUgCrRDCzTgn0GqtTwANnFGWBFohhHtxwSW4Smud120oMJRSA1PvcgphJz8X7s/1Qr97u+N5eMKtyc+Fm5NAK4QQBpNAK4QQBpNAm7tkHE6kR34u3JzcDBNCCINJj1YIIQwmgVYIIQwmgTaXKKUeUEr9o5Q6ppQamdftEXlPKTVNKRWhlLqj9fMi/5BAmwuUUmbge+BBoDbwhFKqdt62SriAGcADed0IYTwJtLmjOXBMa31Ca50EzAceyeM2iTyWuq/p1bxuhzCeBNrcURY4c9P7s6lpQogCQAKtEEIYTAJt7ggHyt/0vlxqmhCiAJBAmzt2AdWUUpWUUl7A48DyPG6TECKXSKDNBVprCzAMWAMcBhZqrQ/mbatEXlNKzQP+AGoopc4qpQbkdZuEMWQJrhBCGEx6tEIIYTAJtEIIYTAJtEIIYTAJtEIIYTAJtEIIYTAJtEIIYTAJtEIIYbD/B5kUe++0/DmkAAAAAElFTkSuQmCC\n",
      "text/plain": [
       "<Figure size 432x288 with 2 Axes>"
      ]
     },
     "metadata": {
      "needs_background": "light",
      "tags": []
     },
     "output_type": "display_data"
    }
   ],
   "source": [
    "#ESTIMATION\n",
    "knn5 = neighbors.KNeighborsClassifier(n_neighbors=5)\n",
    "knnpred5 = knn5.fit(X_train, y_train)\n",
    "knn5prob = knnpred5.predict_proba(X_test)\n",
    "\n",
    "#OUTPUT\n",
    "testknn5=[]\n",
    "for i in range(len(knn5prob)):\n",
    "    if (knn5prob[i][1]>0.2)==True:\n",
    "        testknn5.append(1)\n",
    "    else:\n",
    "        testknn5.append(0)\n",
    "\n",
    "error_rate_knn5 = 1-accuracy_score(y_test, testknn5)\n",
    "print(\"Test error rate:\",round(error_rate_knn5,3))\n",
    "print(classification_report(y_test, testknn5, digits=2))\n",
    "\n",
    "#CONFUSION MATRIX\n",
    "cf_matrix=confusion_matrix(y_test, testknn5).T\n",
    "group_names = [\"True Negative\",\"False Negative\",\"False Positive\",\"True Positive\"]\n",
    "group_counts = [\"{0:0.0f}\".format(value) for value in\n",
    "                cf_matrix.flatten()]\n",
    "group_percentages = [\"{0:.2%}\".format(value) for value in\n",
    "                     cf_matrix.flatten()/np.sum(cf_matrix)]\n",
    "labels = [f\"{v1}\\n{v2}\\n{v3}\" for v1, v2, v3 in\n",
    "          zip(group_names,group_counts,group_percentages)]\n",
    "labels = np.asarray(labels).reshape(2,2)\n",
    "sns.heatmap(cf_matrix, annot=labels, fmt=\"\", cmap='Oranges')\n",
    "\n"
   ]
  },
  {
   "cell_type": "code",
   "execution_count": null,
   "metadata": {
    "colab": {
     "base_uri": "https://localhost:8080/",
     "height": 460
    },
    "id": "hUIEj8CNsF78",
    "outputId": "9f742846-57a6-43df-8856-50be7f7a3816"
   },
   "outputs": [
    {
     "name": "stdout",
     "output_type": "stream",
     "text": [
      "Test error rate: 0.278\n",
      "              precision    recall  f1-score   support\n",
      "\n",
      "           0       0.94      0.59      0.73        56\n",
      "           1       0.58      0.94      0.72        34\n",
      "\n",
      "    accuracy                           0.72        90\n",
      "   macro avg       0.76      0.77      0.72        90\n",
      "weighted avg       0.81      0.72      0.72        90\n",
      "\n"
     ]
    },
    {
     "data": {
      "text/plain": [
       "<matplotlib.axes._subplots.AxesSubplot at 0x7f66cb3e7190>"
      ]
     },
     "execution_count": 13,
     "metadata": {
      "tags": []
     },
     "output_type": "execute_result"
    },
    {
     "data": {
      "image/png": "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\n",
      "text/plain": [
       "<Figure size 432x288 with 2 Axes>"
      ]
     },
     "metadata": {
      "needs_background": "light",
      "tags": []
     },
     "output_type": "display_data"
    }
   ],
   "source": [
    "#ESTIMATION\n",
    "knn10 = neighbors.KNeighborsClassifier(n_neighbors=10)\n",
    "knnpred10 = knn10.fit(X_train, y_train)\n",
    "knn10prob = knnpred10.predict_proba(X_test)\n",
    "\n",
    "#OUTPUT\n",
    "testknn10=[]\n",
    "for i in range(len(knn10prob)):\n",
    "    if (knn10prob[i][1]>0.2)==True:\n",
    "        testknn10.append(1)\n",
    "    else:\n",
    "        testknn10.append(0)\n",
    "\n",
    "error_rate_knn10 = 1-accuracy_score(y_test, testknn10)\n",
    "print(\"Test error rate:\",round(error_rate_knn10,3))\n",
    "print(classification_report(y_test, testknn10, digits=2))\n",
    "\n",
    "#CONFUSION MATRIX\n",
    "cf_matrix=confusion_matrix(y_test, testknn10).T\n",
    "group_names = [\"True Negative\",\"False Negative\",\"False Positive\",\"True Positive\"]\n",
    "group_counts = [\"{0:0.0f}\".format(value) for value in\n",
    "                cf_matrix.flatten()]\n",
    "group_percentages = [\"{0:.2%}\".format(value) for value in\n",
    "                     cf_matrix.flatten()/np.sum(cf_matrix)]\n",
    "labels = [f\"{v1}\\n{v2}\\n{v3}\" for v1, v2, v3 in\n",
    "          zip(group_names,group_counts,group_percentages)]\n",
    "labels = np.asarray(labels).reshape(2,2)\n",
    "sns.heatmap(cf_matrix, annot=labels, fmt=\"\", cmap='Oranges')"
   ]
  },
  {
   "cell_type": "markdown",
   "metadata": {
    "id": "t9KS1tH5sF79"
   },
   "source": [
    "## $(b)$"
   ]
  },
  {
   "cell_type": "code",
   "execution_count": null,
   "metadata": {
    "colab": {
     "base_uri": "https://localhost:8080/",
     "height": 460
    },
    "id": "rouMPbJVsF79",
    "outputId": "fb97c456-1fbd-4e05-e3c7-018c29247cda"
   },
   "outputs": [
    {
     "name": "stdout",
     "output_type": "stream",
     "text": [
      "Test error rate: 0.289\n",
      "              precision    recall  f1-score   support\n",
      "\n",
      "           0       0.92      0.59      0.72        56\n",
      "           1       0.57      0.91      0.70        34\n",
      "\n",
      "    accuracy                           0.71        90\n",
      "   macro avg       0.75      0.75      0.71        90\n",
      "weighted avg       0.79      0.71      0.71        90\n",
      "\n"
     ]
    },
    {
     "data": {
      "text/plain": [
       "<matplotlib.axes._subplots.AxesSubplot at 0x7f66cb26ded0>"
      ]
     },
     "execution_count": 14,
     "metadata": {
      "tags": []
     },
     "output_type": "execute_result"
    },
    {
     "data": {
      "image/png": "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\n",
      "text/plain": [
       "<Figure size 432x288 with 2 Axes>"
      ]
     },
     "metadata": {
      "needs_background": "light",
      "tags": []
     },
     "output_type": "display_data"
    }
   ],
   "source": [
    "#ESTIMATION\n",
    "lda = LinearDiscriminantAnalysis()\n",
    "ldapred = lda.fit(X_train, y_train)\n",
    "ldaprob = ldapred.predict_proba(X_test)\n",
    "\n",
    "#OUTPUT\n",
    "testlda=[]\n",
    "for i in range(len(ldaprob)):\n",
    "    if (ldaprob[i][1]>0.2)==True:\n",
    "        testlda.append(1)\n",
    "    else:\n",
    "        testlda.append(0)\n",
    "\n",
    "error_rate_lda = 1-accuracy_score(y_test, testlda)\n",
    "print(\"Test error rate:\",round(error_rate_lda,3))\n",
    "print(classification_report(y_test, testlda, digits=2))\n",
    "\n",
    "#CONFUSION MATRIX\n",
    "cf_matrix=confusion_matrix(y_test, testlda).T\n",
    "group_names = [\"True Negative\",\"False Negative\",\"False Positive\",\"True Positive\"]\n",
    "group_counts = [\"{0:0.0f}\".format(value) for value in\n",
    "                cf_matrix.flatten()]\n",
    "group_percentages = [\"{0:.2%}\".format(value) for value in\n",
    "                     cf_matrix.flatten()/np.sum(cf_matrix)]\n",
    "labels = [f\"{v1}\\n{v2}\\n{v3}\" for v1, v2, v3 in\n",
    "          zip(group_names,group_counts,group_percentages)]\n",
    "labels = np.asarray(labels).reshape(2,2)\n",
    "sns.heatmap(cf_matrix, annot=labels, fmt=\"\", cmap='Greens')"
   ]
  },
  {
   "cell_type": "code",
   "execution_count": null,
   "metadata": {
    "colab": {
     "base_uri": "https://localhost:8080/",
     "height": 496
    },
    "id": "TO88xLBbsF7-",
    "outputId": "1eb813df-95d3-41d2-8e37-bc0297b542db"
   },
   "outputs": [
    {
     "name": "stdout",
     "output_type": "stream",
     "text": [
      "Test error rate: 0.556\n",
      "              precision    recall  f1-score   support\n",
      "\n",
      "           0       0.88      0.12      0.22        56\n",
      "           1       0.40      0.97      0.57        34\n",
      "\n",
      "    accuracy                           0.44        90\n",
      "   macro avg       0.64      0.55      0.39        90\n",
      "weighted avg       0.70      0.44      0.35        90\n",
      "\n"
     ]
    },
    {
     "name": "stderr",
     "output_type": "stream",
     "text": [
      "/usr/local/lib/python3.7/dist-packages/sklearn/discriminant_analysis.py:691: UserWarning: Variables are collinear\n",
      "  warnings.warn(\"Variables are collinear\")\n"
     ]
    },
    {
     "data": {
      "text/plain": [
       "<matplotlib.axes._subplots.AxesSubplot at 0x7f66cb201990>"
      ]
     },
     "execution_count": 15,
     "metadata": {
      "tags": []
     },
     "output_type": "execute_result"
    },
    {
     "data": {
      "image/png": "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\n",
      "text/plain": [
       "<Figure size 432x288 with 2 Axes>"
      ]
     },
     "metadata": {
      "needs_background": "light",
      "tags": []
     },
     "output_type": "display_data"
    }
   ],
   "source": [
    "#ESTIMATION\n",
    "qda = QuadraticDiscriminantAnalysis()\n",
    "qdapred = qda.fit(X_train, y_train)\n",
    "qdaprob = qdapred.predict_proba(X_test)\n",
    "\n",
    "#OUTPUT\n",
    "testqda=[]\n",
    "for i in range(len(qdaprob)):\n",
    "    if (qdaprob[i][1]>0.2)==True:\n",
    "        testqda.append(1)\n",
    "    else:\n",
    "        testqda.append(0)\n",
    "        \n",
    "error_rate_qda = 1-accuracy_score(y_test, testqda)\n",
    "print(\"Test error rate:\",round(error_rate_qda,3))\n",
    "print(classification_report(y_test, testqda, digits=2))\n",
    "\n",
    "#CONFUSION MATRIX\n",
    "cf_matrix=confusion_matrix(y_test, testqda).T\n",
    "group_names = [\"True Negative\",\"False Negative\",\"False Positive\",\"True Positive\"]\n",
    "group_counts = [\"{0:0.0f}\".format(value) for value in\n",
    "                cf_matrix.flatten()]\n",
    "group_percentages = [\"{0:.2%}\".format(value) for value in\n",
    "                     cf_matrix.flatten()/np.sum(cf_matrix)]\n",
    "labels = [f\"{v1}\\n{v2}\\n{v3}\" for v1, v2, v3 in\n",
    "          zip(group_names,group_counts,group_percentages)]\n",
    "labels = np.asarray(labels).reshape(2,2)\n",
    "sns.heatmap(cf_matrix, annot=labels, fmt=\"\", cmap='Greens')"
   ]
  },
  {
   "cell_type": "markdown",
   "metadata": {
    "id": "kuIgQg7csF7_"
   },
   "source": [
    "## $(c)$"
   ]
  },
  {
   "cell_type": "code",
   "execution_count": null,
   "metadata": {
    "colab": {
     "base_uri": "https://localhost:8080/",
     "height": 194
    },
    "id": "BM8KF-TdsF7_",
    "outputId": "aad311fd-53c7-4dab-8e6d-854380461262"
   },
   "outputs": [
    {
     "data": {
      "text/html": [
       "<div>\n",
       "<style scoped>\n",
       "    .dataframe tbody tr th:only-of-type {\n",
       "        vertical-align: middle;\n",
       "    }\n",
       "\n",
       "    .dataframe tbody tr th {\n",
       "        vertical-align: top;\n",
       "    }\n",
       "\n",
       "    .dataframe thead th {\n",
       "        text-align: right;\n",
       "    }\n",
       "</style>\n",
       "<table border=\"1\" class=\"dataframe\">\n",
       "  <thead>\n",
       "    <tr style=\"text-align: right;\">\n",
       "      <th></th>\n",
       "      <th>Test Error Rate</th>\n",
       "    </tr>\n",
       "  </thead>\n",
       "  <tbody>\n",
       "    <tr>\n",
       "      <th>Logit</th>\n",
       "      <td>0.322</td>\n",
       "    </tr>\n",
       "    <tr>\n",
       "      <th>KNN5</th>\n",
       "      <td>0.256</td>\n",
       "    </tr>\n",
       "    <tr>\n",
       "      <th>KNN10</th>\n",
       "      <td>0.278</td>\n",
       "    </tr>\n",
       "    <tr>\n",
       "      <th>LDA</th>\n",
       "      <td>0.289</td>\n",
       "    </tr>\n",
       "    <tr>\n",
       "      <th>QDA</th>\n",
       "      <td>0.556</td>\n",
       "    </tr>\n",
       "  </tbody>\n",
       "</table>\n",
       "</div>"
      ],
      "text/plain": [
       "       Test Error Rate\n",
       "Logit            0.322\n",
       "KNN5             0.256\n",
       "KNN10            0.278\n",
       "LDA              0.289\n",
       "QDA              0.556"
      ]
     },
     "execution_count": 16,
     "metadata": {
      "tags": []
     },
     "output_type": "execute_result"
    }
   ],
   "source": [
    "TER=pd.DataFrame([error_rate_logit1,error_rate_knn5,error_rate_knn10,error_rate_lda,error_rate_qda])\n",
    "TER.rename(columns={0:\"Test Error Rate\"},index={0:\"Logit\",1:\"KNN5\",2:\"KNN10\",3:\"LDA\",4:\"QDA\"},inplace=True)\n",
    "TER.round({\"Test Error Rate\":3})"
   ]
  },
  {
   "cell_type": "markdown",
   "metadata": {
    "id": "DHMRbLVxsF7_"
   },
   "source": [
    "From the above, we can see that the 5-Nearest-Neighbours approach is best with a test error rate of 0.256. This is followed by 10-Nearest-Neighbours then LDA. The fourth best is logistic regression with a test error rate of 0.322. The worst, by some distance, is QDA which has a test error of 0.556. The very poor performance of QDA suggests the underlying distributions may not be normal, potentially due to the small sample size."
   ]
  },
  {
   "cell_type": "markdown",
   "metadata": {
    "id": "bckauRsssF8A"
   },
   "source": [
    "## $(d)$"
   ]
  },
  {
   "cell_type": "markdown",
   "metadata": {
    "id": "lYIOhb7xsF8A"
   },
   "source": [
    "Using train test split changes the outcome again and again depending on how the function determines the 4 samples - use K-fold instead."
   ]
  },
  {
   "cell_type": "code",
   "execution_count": null,
   "metadata": {
    "colab": {
     "base_uri": "https://localhost:8080/",
     "height": 229
    },
    "id": "D_7DAHGhsF8A",
    "outputId": "61fb741e-d362-477a-cb9f-09521ca6f381"
   },
   "outputs": [
    {
     "name": "stderr",
     "output_type": "stream",
     "text": [
      "/usr/local/lib/python3.7/dist-packages/sklearn/discriminant_analysis.py:691: UserWarning: Variables are collinear\n",
      "  warnings.warn(\"Variables are collinear\")\n"
     ]
    },
    {
     "data": {
      "text/html": [
       "<div>\n",
       "<style scoped>\n",
       "    .dataframe tbody tr th:only-of-type {\n",
       "        vertical-align: middle;\n",
       "    }\n",
       "\n",
       "    .dataframe tbody tr th {\n",
       "        vertical-align: top;\n",
       "    }\n",
       "\n",
       "    .dataframe thead th {\n",
       "        text-align: right;\n",
       "    }\n",
       "</style>\n",
       "<table border=\"1\" class=\"dataframe\">\n",
       "  <thead>\n",
       "    <tr style=\"text-align: right;\">\n",
       "      <th></th>\n",
       "      <th>Test Error Rate</th>\n",
       "    </tr>\n",
       "  </thead>\n",
       "  <tbody>\n",
       "    <tr>\n",
       "      <th>Logit</th>\n",
       "      <td>0.139</td>\n",
       "    </tr>\n",
       "    <tr>\n",
       "      <th>KNN5</th>\n",
       "      <td>0.226</td>\n",
       "    </tr>\n",
       "    <tr>\n",
       "      <th>KNN10</th>\n",
       "      <td>0.199</td>\n",
       "    </tr>\n",
       "    <tr>\n",
       "      <th>LDA</th>\n",
       "      <td>0.135</td>\n",
       "    </tr>\n",
       "    <tr>\n",
       "      <th>QDA</th>\n",
       "      <td>0.182</td>\n",
       "    </tr>\n",
       "  </tbody>\n",
       "</table>\n",
       "</div>"
      ],
      "text/plain": [
       "       Test Error Rate\n",
       "Logit            0.139\n",
       "KNN5             0.226\n",
       "KNN10            0.199\n",
       "LDA              0.135\n",
       "QDA              0.182"
      ]
     },
     "execution_count": 17,
     "metadata": {
      "tags": []
     },
     "output_type": "execute_result"
    }
   ],
   "source": [
    "models = [logit,knn5,knn10,lda,qda]\n",
    "te=[]\n",
    "for i in models:\n",
    "    te=te+[(1-model_selection.cross_val_score(i,X,y,cv=model_selection.KFold(n_splits=10)).mean())]    \n",
    "te=pd.DataFrame(te)\n",
    "te.rename(columns={0:\"Test Error Rate\"}, index={0:\"Logit\",1:\"KNN5\",2:\"KNN10\",3:\"LDA\",4:\"QDA\"},inplace=True)\n",
    "te.round({\"Test Error Rate\":3})"
   ]
  },
  {
   "cell_type": "markdown",
   "metadata": {
    "id": "LhbcoMNZVjFS"
   },
   "source": [
    "After cross-validation, the order of performance changes. Subsequently, LDA now performs best followed by logistic regression, QDA, 10-Nerest-Neighbours then 5-Nearest-Neighbours. QDA displays a large improvement in test error rate, from 0.556 to 0.182, with all other approaches also decreasing their test error rate but to a lesser extent.\n",
    "\n",
    "Whereas above we were looking at the test error rate from one split of the data, by cross validating the data we are potentially presenting a better representation of the true quality of the approaches as we are taking different samples. This argument is seemingly supported by the fact that some approaches improved but others worsened when using cross-validation, suggesting the Nearest-Neighbour approaches worked well for the individual data split but are not as good once multiple different splits are carried out.\n"
   ]
  },
  {
   "cell_type": "markdown",
   "metadata": {
    "id": "ennJh3pOsF8A"
   },
   "source": [
    "## $(e)$"
   ]
  },
  {
   "cell_type": "markdown",
   "metadata": {
    "id": "AUnNIlglsF8A"
   },
   "source": [
    "The model with the lowest test error rate using 10-fold CV is linear discriminant analysis - using patient Xofs from before we can reclassify to see how the model performs."
   ]
  },
  {
   "cell_type": "code",
   "execution_count": null,
   "metadata": {
    "colab": {
     "base_uri": "https://localhost:8080/"
    },
    "id": "L57W4Ia3sF8B",
    "outputId": "e358b402-e85f-44e4-dd77-130367c6fd40"
   },
   "outputs": [
    {
     "data": {
      "text/plain": [
       "array([[0.8849061, 0.1150939]])"
      ]
     },
     "execution_count": 18,
     "metadata": {
      "tags": []
     },
     "output_type": "execute_result"
    }
   ],
   "source": [
    "model_selection.cross_val_predict(lda,X,y,cv=model_selection.KFold(n_splits=10))\n",
    "lda = LinearDiscriminantAnalysis()\n",
    "lda.fit(X_train, y_train).predict_proba(Xofs)"
   ]
  },
  {
   "cell_type": "markdown",
   "metadata": {
    "id": "9W8QJUFzV8ip"
   },
   "source": [
    "Based on the result above, we see that:\n",
    "\n",
    "$pr(y=1)=0.12<0.2$\n",
    "\n",
    "Therefore the patient is again, classified as not having heart disease despite using a more accurate model."
   ]
  },
  {
   "cell_type": "markdown",
   "metadata": {
    "id": "L4a3PAha7c-w"
   },
   "source": [
    "## $(f)$"
   ]
  },
  {
   "cell_type": "code",
   "execution_count": null,
   "metadata": {
    "colab": {
     "base_uri": "https://localhost:8080/",
     "height": 283
    },
    "id": "UgXt2-jVsF8B",
    "outputId": "37077b45-b227-4d19-91ef-92aa4b5ba49a"
   },
   "outputs": [
    {
     "data": {
      "text/plain": [
       "<matplotlib.axes._subplots.AxesSubplot at 0x7f66cb0d3d90>"
      ]
     },
     "execution_count": 19,
     "metadata": {
      "tags": []
     },
     "output_type": "execute_result"
    },
    {
     "data": {
      "image/png": "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\n",
      "text/plain": [
       "<Figure size 432x288 with 2 Axes>"
      ]
     },
     "metadata": {
      "needs_background": "light",
      "tags": []
     },
     "output_type": "display_data"
    }
   ],
   "source": [
    "cf_matrix=confusion_matrix(y_test, testlda).T\n",
    "\n",
    "group_names = [\"True Negative\",\"False Negative\",\"False Positive\",\"True Positive\"]\n",
    "group_counts = [\"{0:0.0f}\".format(value) for value in\n",
    "                cf_matrix.flatten()]\n",
    "group_percentages = [\"{0:.2%}\".format(value) for value in\n",
    "                     cf_matrix.flatten()/np.sum(cf_matrix)]\n",
    "labels = [f\"{v1}\\n{v2}\\n{v3}\" for v1, v2, v3 in\n",
    "          zip(group_names,group_counts,group_percentages)]\n",
    "labels = np.asarray(labels).reshape(2,2)\n",
    "sns.heatmap(cf_matrix, annot=labels, fmt=\"\", cmap='Pastel1_r')"
   ]
  },
  {
   "cell_type": "markdown",
   "metadata": {
    "id": "MyLyWfKfWeio"
   },
   "source": [
    "The confusion matrix presents a breakdown of the in-class performance for LDA. Of particular interest are the false-positive and false-negative rates that are shown. The false-positive rate is 3.33% which reflects 3 classifications where we predicted that the person had heart disease when in reality they did not. Moreover, the false-negative rate is 25.56% reflecting 23 predictions where we estimated that they did not have heart disease when in reality they did.\n",
    "\n",
    "The false-negative rate being relatively higher than the false-positive result in this case may be of concern as we are missing a lot of people that may have a life-threatening heart condition. However, the confusion matrix shows that, overall, we correctly predict the majority of observations with a true-negative rate of 36.67% and a true-positive rate of 34.44%\n"
   ]
  },
  {
   "cell_type": "markdown",
   "metadata": {
    "id": "WkSP9AtZsF8B"
   },
   "source": [
    "## $(g)$"
   ]
  },
  {
   "cell_type": "code",
   "execution_count": null,
   "metadata": {
    "colab": {
     "base_uri": "https://localhost:8080/"
    },
    "id": "k936kbLAsF8B",
    "outputId": "f3e9aa0a-0083-4842-dcd1-9a31510f6edb"
   },
   "outputs": [
    {
     "name": "stdout",
     "output_type": "stream",
     "text": [
      "Test error rate: 0.622\n",
      "Test error rate: 0.244\n",
      "Test error rate: 0.222\n",
      "Test error rate: 0.167\n",
      "Test error rate: 0.378\n"
     ]
    }
   ],
   "source": [
    "ldaprob = ldapred.predict_proba(X_test)\n",
    "testlda0=[]\n",
    "testlda025=[]\n",
    "testlda05=[]\n",
    "testlda075=[]\n",
    "testlda1=[]\n",
    "testldalist = [testlda0,testlda025,testlda05,testlda075,testlda1]\n",
    "\n",
    "for i in range(len(ldaprob)):\n",
    "    if (ldaprob[i][1]>0)==True:\n",
    "        testlda0.append(1)\n",
    "    else:\n",
    "        testlda0.append(0)\n",
    "\n",
    "for i in range(len(ldaprob)):\n",
    "    if (ldaprob[i][1]>0.25)==True:\n",
    "        testlda025.append(1)\n",
    "    else:\n",
    "        testlda025.append(0)\n",
    "\n",
    "for i in range(len(ldaprob)):\n",
    "    if (ldaprob[i][1]>0.5)==True:\n",
    "        testlda05.append(1)\n",
    "    else:\n",
    "        testlda05.append(0)\n",
    "\n",
    "for i in range(len(ldaprob)):\n",
    "    if (ldaprob[i][1]>0.75)==True:\n",
    "        testlda075.append(1)\n",
    "    else:\n",
    "        testlda075.append(0)\n",
    "        \n",
    "for i in range(len(ldaprob)):\n",
    "    if (ldaprob[i][1]>1)==True:\n",
    "        testlda1.append(1)\n",
    "    else:\n",
    "        testlda1.append(0)\n",
    "\n",
    "for i in testldalist:\n",
    "  print(\"Test error rate:\",round(1-accuracy_score(y_test, i),3))"
   ]
  },
  {
   "cell_type": "code",
   "execution_count": null,
   "metadata": {
    "colab": {
     "base_uri": "https://localhost:8080/",
     "height": 194
    },
    "id": "EClHdAnnW1wJ",
    "outputId": "00f9b467-0be0-46c8-9dd3-8e7d81c71221"
   },
   "outputs": [
    {
     "data": {
      "text/html": [
       "<div>\n",
       "<style scoped>\n",
       "    .dataframe tbody tr th:only-of-type {\n",
       "        vertical-align: middle;\n",
       "    }\n",
       "\n",
       "    .dataframe tbody tr th {\n",
       "        vertical-align: top;\n",
       "    }\n",
       "\n",
       "    .dataframe thead th {\n",
       "        text-align: right;\n",
       "    }\n",
       "</style>\n",
       "<table border=\"1\" class=\"dataframe\">\n",
       "  <thead>\n",
       "    <tr style=\"text-align: right;\">\n",
       "      <th></th>\n",
       "      <th>True Positive Rate</th>\n",
       "      <th>False Positive Rate</th>\n",
       "    </tr>\n",
       "  </thead>\n",
       "  <tbody>\n",
       "    <tr>\n",
       "      <th>0</th>\n",
       "      <td>1.000000</td>\n",
       "      <td>1.000000</td>\n",
       "    </tr>\n",
       "    <tr>\n",
       "      <th>0.25</th>\n",
       "      <td>0.911765</td>\n",
       "      <td>0.339286</td>\n",
       "    </tr>\n",
       "    <tr>\n",
       "      <th>0.5</th>\n",
       "      <td>0.823529</td>\n",
       "      <td>0.250000</td>\n",
       "    </tr>\n",
       "    <tr>\n",
       "      <th>0.75</th>\n",
       "      <td>0.735294</td>\n",
       "      <td>0.107143</td>\n",
       "    </tr>\n",
       "    <tr>\n",
       "      <th>1</th>\n",
       "      <td>0.000000</td>\n",
       "      <td>0.000000</td>\n",
       "    </tr>\n",
       "  </tbody>\n",
       "</table>\n",
       "</div>"
      ],
      "text/plain": [
       "      True Positive Rate  False Positive Rate\n",
       "0               1.000000             1.000000\n",
       "0.25            0.911765             0.339286\n",
       "0.5             0.823529             0.250000\n",
       "0.75            0.735294             0.107143\n",
       "1               0.000000             0.000000"
      ]
     },
     "execution_count": 21,
     "metadata": {
      "tags": []
     },
     "output_type": "execute_result"
    }
   ],
   "source": [
    "cf_matrix0=confusion_matrix(y_test, testlda0).T\n",
    "cf_matrix025=confusion_matrix(y_test, testlda025).T\n",
    "cf_matrix05=confusion_matrix(y_test, testlda05).T\n",
    "cf_matrix075=confusion_matrix(y_test, testlda075).T\n",
    "cf_matrix1=confusion_matrix(y_test, testlda1).T\n",
    "#TPR = TP/(TP+FN)\n",
    "#FPR = FP/(FP+TN)\n",
    "cfmatrix=[cf_matrix0,cf_matrix025,cf_matrix05,cf_matrix075,cf_matrix1]\n",
    "TP=[]\n",
    "for i in cfmatrix:\n",
    "    TP=TP+[i[1][1]/(i[1][1]+i[0][1])]\n",
    "TP=np.nan_to_num(np.asarray(TP))\n",
    "TP=pd.DataFrame(TP).rename(columns={0:\"True Positive Rate\"})\n",
    "\n",
    "FP=[]\n",
    "for i in cfmatrix:\n",
    "    FP=FP+[i[1][0]/(i[1][0]+i[0][0])]\n",
    "FP=np.nan_to_num(np.asarray(FP))\n",
    "FP=pd.DataFrame(FP).rename(columns={0:\"False Positive Rate\"})\n",
    "\n",
    "TPFP=pd.concat([TP,FP],axis=1)\n",
    "TPFP.rename(index={0: \"0\", 1: \"0.25\", 2: \"0.5\", 3: \"0.75\", 4: \"1\"},inplace=True)\n",
    "TPFP"
   ]
  },
  {
   "cell_type": "markdown",
   "metadata": {
    "id": "HG4sJqYWWpiQ"
   },
   "source": [
    "When the threshold is 0, it means classifying the individual as having heart disease if the estimated AHD is greater than 0. In this case, we take all estimations as having heart disease, so no one who actually have heart disease was missed to be identified, so the true positive rate is 1. But all individuals who do not have heart disease are classified as having the disease, so the false positive rate also equals to one.\n",
    " \n",
    "When the threshold is 0.25, it means classifying the individual as having heart disease if the estimated AHD is greater than 0.25, so the majority of individuals have heart disease can be identified, and also the majority of individuals who do not have heart disease are unclassified, thus we have a high true positive rate and a high false positive rate.\n",
    " \n",
    "As the threshold increases, the proportion of estimations that are classified as having heart disease decreases, which means less proportion of individuals who actually have heart disease are classified as positive, hence the true positive rate is decreasing. At the same time, higher proportion of individuals are classified as not having heart disease, so individuals who actually not having the disease are correctly classified, hence the false positive rate also declines.\n",
    " \n",
    "At the threshold of 1, individuals who have estimated AHD smaller than 1 are all classified as not having heart disease, so all individuals are classified as negative, therefore the true positive rate is 0 and the false positive rate is also 0.\n"
   ]
  },
  {
   "cell_type": "markdown",
   "metadata": {
    "id": "qTo_zEZkshf9"
   },
   "source": [
    "## $(h)$"
   ]
  },
  {
   "cell_type": "code",
   "execution_count": null,
   "metadata": {
    "colab": {
     "base_uri": "https://localhost:8080/",
     "height": 559
    },
    "id": "VV0SNBp-siK8",
    "outputId": "97d9337c-b4e2-42ee-931c-0502e5bbebef"
   },
   "outputs": [
    {
     "data": {
      "text/plain": [
       "<sklearn.metrics._plot.roc_curve.RocCurveDisplay at 0x7f66cb0870d0>"
      ]
     },
     "execution_count": 22,
     "metadata": {
      "tags": []
     },
     "output_type": "execute_result"
    },
    {
     "data": {
      "image/png": "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\n",
      "text/plain": [
       "<Figure size 432x288 with 1 Axes>"
      ]
     },
     "metadata": {
      "needs_background": "light",
      "tags": []
     },
     "output_type": "display_data"
    },
    {
     "data": {
      "image/png": "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\n",
      "text/plain": [
       "<Figure size 432x288 with 1 Axes>"
      ]
     },
     "metadata": {
      "needs_background": "light",
      "tags": []
     },
     "output_type": "display_data"
    }
   ],
   "source": [
    "sns.scatterplot(x=TPFP[\"False Positive Rate\"],y=TPFP[\"True Positive Rate\"])\n",
    "plot_roc_curve(lda,X,y)"
   ]
  },
  {
   "cell_type": "markdown",
   "metadata": {
    "id": "tlMMPYe1X2d_"
   },
   "source": [
    "By plotting the results of the false positive rate against the true positive rate obtained from the confusion matrices at each threshold and comparing it to the ROC curve generated by the estimator, it is clear to see how the first figure characterises the ROC curve which supports the results obtained in question $(g)$."
   ]
  }
 ],
 "metadata": {
  "colab": {
   "collapsed_sections": [],
   "name": "Coursework2.ipynb",
   "provenance": []
  },
  "kernelspec": {
   "display_name": "Python 3",
   "language": "python",
   "name": "python3"
  },
  "language_info": {
   "codemirror_mode": {
    "name": "ipython",
    "version": 3
   },
   "file_extension": ".py",
   "mimetype": "text/x-python",
   "name": "python",
   "nbconvert_exporter": "python",
   "pygments_lexer": "ipython3",
   "version": "3.7.6"
  }
 },
 "nbformat": 4,
 "nbformat_minor": 1
}
