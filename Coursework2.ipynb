{
  "nbformat": 4,
  "nbformat_minor": 0,
  "metadata": {
    "kernelspec": {
      "display_name": "Python 3",
      "language": "python",
      "name": "python3"
    },
    "language_info": {
      "codemirror_mode": {
        "name": "ipython",
        "version": 3
      },
      "file_extension": ".py",
      "mimetype": "text/x-python",
      "name": "python",
      "nbconvert_exporter": "python",
      "pygments_lexer": "ipython3",
      "version": "3.7.6"
    },
    "colab": {
      "name": "Coursework2.ipynb",
      "provenance": [],
      "collapsed_sections": []
    }
  },
  "cells": [
    {
      "cell_type": "code",
      "metadata": {
        "id": "N0c4kFpJsF7o",
        "colab": {
          "base_uri": "https://localhost:8080/"
        },
        "outputId": "616c79a2-4cf8-4ab3-deca-acc84017669c"
      },
      "source": [
        "import sklearn.linear_model as skl_lm\n",
        "import matplotlib.pyplot as plt\n",
        "import matplotlib as mpl\n",
        "import seaborn as sns\n",
        "import pandas as pd\n",
        "import numpy as np\n",
        "\n",
        "from sklearn.metrics import confusion_matrix, classification_report, precision_score\n",
        "from sklearn.discriminant_analysis import LinearDiscriminantAnalysis\n",
        "from sklearn.discriminant_analysis import QuadraticDiscriminantAnalysis\n",
        "from sklearn.model_selection import StratifiedKFold\n",
        "from sklearn.model_selection import cross_val_score\n",
        "from sklearn.model_selection import cross_val_predict \n",
        "from sklearn.model_selection import train_test_split\n",
        "from sklearn.preprocessing import StandardScaler\n",
        "from sklearn.metrics import accuracy_score\n",
        "from sklearn.model_selection import KFold\n",
        "from sklearn import model_selection\n",
        "from sklearn import preprocessing\n",
        "from sklearn import neighbors\n",
        "\n",
        "import statsmodels.formula.api as smf\n",
        "import statsmodels.api as sm"
      ],
      "execution_count": null,
      "outputs": [
        {
          "output_type": "stream",
          "text": [
            "/usr/local/lib/python3.7/dist-packages/statsmodels/tools/_testing.py:19: FutureWarning: pandas.util.testing is deprecated. Use the functions in the public API at pandas.testing instead.\n",
            "  import pandas.util.testing as tm\n"
          ],
          "name": "stderr"
        }
      ]
    },
    {
      "cell_type": "markdown",
      "metadata": {
        "id": "HoMHmNp1sF7w"
      },
      "source": [
        "# $(1)$"
      ]
    },
    {
      "cell_type": "markdown",
      "metadata": {
        "id": "N54zn6wbsF7x"
      },
      "source": [
        "## $(a)$"
      ]
    },
    {
      "cell_type": "code",
      "metadata": {
        "scrolled": true,
        "colab": {
          "base_uri": "https://localhost:8080/",
          "height": 204
        },
        "id": "o5gqAP6psF7y",
        "outputId": "ca35b4d3-5967-4f6b-b7cb-2f675ce53126"
      },
      "source": [
        "df = pd.read_csv('Heart.csv').iloc[:,1:]\n",
        "df = df.dropna()\n",
        "df.head()"
      ],
      "execution_count": null,
      "outputs": [
        {
          "output_type": "execute_result",
          "data": {
            "text/html": [
              "<div>\n",
              "<style scoped>\n",
              "    .dataframe tbody tr th:only-of-type {\n",
              "        vertical-align: middle;\n",
              "    }\n",
              "\n",
              "    .dataframe tbody tr th {\n",
              "        vertical-align: top;\n",
              "    }\n",
              "\n",
              "    .dataframe thead th {\n",
              "        text-align: right;\n",
              "    }\n",
              "</style>\n",
              "<table border=\"1\" class=\"dataframe\">\n",
              "  <thead>\n",
              "    <tr style=\"text-align: right;\">\n",
              "      <th></th>\n",
              "      <th>Age</th>\n",
              "      <th>Sex</th>\n",
              "      <th>ChestPain</th>\n",
              "      <th>RestBP</th>\n",
              "      <th>Chol</th>\n",
              "      <th>Fbs</th>\n",
              "      <th>RestECG</th>\n",
              "      <th>MaxHR</th>\n",
              "      <th>ExAng</th>\n",
              "      <th>Oldpeak</th>\n",
              "      <th>Slope</th>\n",
              "      <th>Ca</th>\n",
              "      <th>Thal</th>\n",
              "      <th>AHD</th>\n",
              "    </tr>\n",
              "  </thead>\n",
              "  <tbody>\n",
              "    <tr>\n",
              "      <th>0</th>\n",
              "      <td>63</td>\n",
              "      <td>1</td>\n",
              "      <td>typical</td>\n",
              "      <td>145</td>\n",
              "      <td>233</td>\n",
              "      <td>1</td>\n",
              "      <td>2</td>\n",
              "      <td>150</td>\n",
              "      <td>0</td>\n",
              "      <td>2.3</td>\n",
              "      <td>3</td>\n",
              "      <td>0.0</td>\n",
              "      <td>fixed</td>\n",
              "      <td>No</td>\n",
              "    </tr>\n",
              "    <tr>\n",
              "      <th>1</th>\n",
              "      <td>67</td>\n",
              "      <td>1</td>\n",
              "      <td>asymptomatic</td>\n",
              "      <td>160</td>\n",
              "      <td>286</td>\n",
              "      <td>0</td>\n",
              "      <td>2</td>\n",
              "      <td>108</td>\n",
              "      <td>1</td>\n",
              "      <td>1.5</td>\n",
              "      <td>2</td>\n",
              "      <td>3.0</td>\n",
              "      <td>normal</td>\n",
              "      <td>Yes</td>\n",
              "    </tr>\n",
              "    <tr>\n",
              "      <th>2</th>\n",
              "      <td>67</td>\n",
              "      <td>1</td>\n",
              "      <td>asymptomatic</td>\n",
              "      <td>120</td>\n",
              "      <td>229</td>\n",
              "      <td>0</td>\n",
              "      <td>2</td>\n",
              "      <td>129</td>\n",
              "      <td>1</td>\n",
              "      <td>2.6</td>\n",
              "      <td>2</td>\n",
              "      <td>2.0</td>\n",
              "      <td>reversable</td>\n",
              "      <td>Yes</td>\n",
              "    </tr>\n",
              "    <tr>\n",
              "      <th>3</th>\n",
              "      <td>37</td>\n",
              "      <td>1</td>\n",
              "      <td>nonanginal</td>\n",
              "      <td>130</td>\n",
              "      <td>250</td>\n",
              "      <td>0</td>\n",
              "      <td>0</td>\n",
              "      <td>187</td>\n",
              "      <td>0</td>\n",
              "      <td>3.5</td>\n",
              "      <td>3</td>\n",
              "      <td>0.0</td>\n",
              "      <td>normal</td>\n",
              "      <td>No</td>\n",
              "    </tr>\n",
              "    <tr>\n",
              "      <th>4</th>\n",
              "      <td>41</td>\n",
              "      <td>0</td>\n",
              "      <td>nontypical</td>\n",
              "      <td>130</td>\n",
              "      <td>204</td>\n",
              "      <td>0</td>\n",
              "      <td>2</td>\n",
              "      <td>172</td>\n",
              "      <td>0</td>\n",
              "      <td>1.4</td>\n",
              "      <td>1</td>\n",
              "      <td>0.0</td>\n",
              "      <td>normal</td>\n",
              "      <td>No</td>\n",
              "    </tr>\n",
              "  </tbody>\n",
              "</table>\n",
              "</div>"
            ],
            "text/plain": [
              "   Age  Sex     ChestPain  RestBP  Chol  ...  Oldpeak  Slope   Ca        Thal  AHD\n",
              "0   63    1       typical     145   233  ...      2.3      3  0.0       fixed   No\n",
              "1   67    1  asymptomatic     160   286  ...      1.5      2  3.0      normal  Yes\n",
              "2   67    1  asymptomatic     120   229  ...      2.6      2  2.0  reversable  Yes\n",
              "3   37    1    nonanginal     130   250  ...      3.5      3  0.0      normal   No\n",
              "4   41    0    nontypical     130   204  ...      1.4      1  0.0      normal   No\n",
              "\n",
              "[5 rows x 14 columns]"
            ]
          },
          "metadata": {
            "tags": []
          },
          "execution_count": 3
        }
      ]
    },
    {
      "cell_type": "code",
      "metadata": {
        "colab": {
          "base_uri": "https://localhost:8080/",
          "height": 334
        },
        "id": "IfWCR1JfsF7z",
        "outputId": "7bc0b238-c3fa-4ca5-b641-25777b9855bf"
      },
      "source": [
        "#https://archive.ics.uci.edu/ml/datasets/heart+disease - information source\n",
        "#Create dummy variables for the categorical variables as new columns\n",
        "\n",
        "#Male=1\n",
        "df.rename(columns={\"Sex\": \"Male\"},inplace=True)\n",
        "\n",
        "#Heart Disease (Dependent)\n",
        "df.loc[:,\"Heart Disease\"] = [1 if x==\"Yes\" else 0 for x in df[\"AHD\"]]\n",
        "df.drop(columns=\"AHD\", inplace=True)\n",
        "\n",
        "#Chest Pain: Default = Typical Chest Pain\n",
        "df.loc[:,\"Asymptomatic Chest Pain\"] = [1 if x==\"asymptomatic\" else 0 for x in df[\"ChestPain\"]]\n",
        "df.loc[:,\"Nonanginal Chest Pain\"]   = [1 if x==\"nonanginal\" else 0 for x in df[\"ChestPain\"]]\n",
        "df.loc[:,\"Nontypical Chest Pain\"]   = [1 if x==\"nontypical\" else 0 for x in df[\"ChestPain\"]]\n",
        "df.drop(columns=\"ChestPain\",inplace=True)\n",
        "\n",
        "#Thal defect: Default = Normal\n",
        "df.loc[:,\"Thal:Fixed\"]      = [1 if x==\"fixed\" else 0 for x in df[\"Thal\"]]\n",
        "df.loc[:,\"Thal:Reversable\"] = [1 if x==\"reversable\" else 0 for x in df[\"Thal\"]]\n",
        "df.drop(columns=\"Thal\",inplace=True)\n",
        "\n",
        "\n",
        "#Resting ECG: Default = Normal \n",
        "df.loc[:,\"RECG:Abnormal\"] = [1 if x==1 else 0 for x in df[\"RestECG\"]]\n",
        "df.loc[:,\"RECG:LVH\"]      = [1 if x==2 else 0 for x in df[\"RestECG\"]]\n",
        "df.drop(columns=\"RestECG\",inplace=True)\n",
        "\n",
        "\n",
        "#Slope of ST Segment: Default = Flat\n",
        "df.loc[:,\"Slope:Upsloping\"]   = [1 if x==1 else 0 for x in df[\"Slope\"]]\n",
        "df.loc[:,\"Slope:Downsloping\"] = [1 if x==3 else 0 for x in df[\"Slope\"]]\n",
        "df.drop(columns=\"Slope\",inplace=True)\n",
        "\n",
        "#Number of Major Vessels: Default = 0\n",
        "df.loc[:,\"Ca: 1\"] = [1 if x==1.0 else 0 for x in df[\"Ca\"]]\n",
        "df.loc[:,\"Ca: 2\"] = [1 if x==2.0 else 0 for x in df[\"Ca\"]]\n",
        "df.loc[:,\"Ca: 3\"] = [1 if x==3.0 else 0 for x in df[\"Ca\"]]\n",
        "df.drop(columns=\"Ca\",inplace=True)\n",
        "\n",
        "\n",
        "#Standardizing continuous variables\n",
        "VartoStdze = [\"Age\",\"RestBP\",\"Chol\",\"MaxHR\",\"Oldpeak\"]\n",
        "scale = StandardScaler()\n",
        "for i in VartoStdze:\n",
        "    df[i]=scale.fit_transform(df[i].values.reshape(-1,1))\n",
        "\n",
        "df.describe()"
      ],
      "execution_count": null,
      "outputs": [
        {
          "output_type": "execute_result",
          "data": {
            "text/html": [
              "<div>\n",
              "<style scoped>\n",
              "    .dataframe tbody tr th:only-of-type {\n",
              "        vertical-align: middle;\n",
              "    }\n",
              "\n",
              "    .dataframe tbody tr th {\n",
              "        vertical-align: top;\n",
              "    }\n",
              "\n",
              "    .dataframe thead th {\n",
              "        text-align: right;\n",
              "    }\n",
              "</style>\n",
              "<table border=\"1\" class=\"dataframe\">\n",
              "  <thead>\n",
              "    <tr style=\"text-align: right;\">\n",
              "      <th></th>\n",
              "      <th>Age</th>\n",
              "      <th>Male</th>\n",
              "      <th>RestBP</th>\n",
              "      <th>Chol</th>\n",
              "      <th>Fbs</th>\n",
              "      <th>MaxHR</th>\n",
              "      <th>ExAng</th>\n",
              "      <th>Oldpeak</th>\n",
              "      <th>Heart Disease</th>\n",
              "      <th>Asymptomatic Chest Pain</th>\n",
              "      <th>Nonanginal Chest Pain</th>\n",
              "      <th>Nontypical Chest Pain</th>\n",
              "      <th>Thal:Fixed</th>\n",
              "      <th>Thal:Reversable</th>\n",
              "      <th>RECG:Abnormal</th>\n",
              "      <th>RECG:LVH</th>\n",
              "      <th>Slope:Upsloping</th>\n",
              "      <th>Slope:Downsloping</th>\n",
              "      <th>Ca: 1</th>\n",
              "      <th>Ca: 2</th>\n",
              "      <th>Ca: 3</th>\n",
              "    </tr>\n",
              "  </thead>\n",
              "  <tbody>\n",
              "    <tr>\n",
              "      <th>count</th>\n",
              "      <td>2.970000e+02</td>\n",
              "      <td>297.000000</td>\n",
              "      <td>2.970000e+02</td>\n",
              "      <td>2.970000e+02</td>\n",
              "      <td>297.000000</td>\n",
              "      <td>2.970000e+02</td>\n",
              "      <td>297.000000</td>\n",
              "      <td>2.970000e+02</td>\n",
              "      <td>297.000000</td>\n",
              "      <td>297.000000</td>\n",
              "      <td>297.000000</td>\n",
              "      <td>297.000000</td>\n",
              "      <td>297.000000</td>\n",
              "      <td>297.000000</td>\n",
              "      <td>297.000000</td>\n",
              "      <td>297.000000</td>\n",
              "      <td>297.000000</td>\n",
              "      <td>297.000000</td>\n",
              "      <td>297.000000</td>\n",
              "      <td>297.000000</td>\n",
              "      <td>297.000000</td>\n",
              "    </tr>\n",
              "    <tr>\n",
              "      <th>mean</th>\n",
              "      <td>-1.237319e-16</td>\n",
              "      <td>0.676768</td>\n",
              "      <td>4.810966e-16</td>\n",
              "      <td>-1.911116e-16</td>\n",
              "      <td>0.144781</td>\n",
              "      <td>5.143660e-16</td>\n",
              "      <td>0.326599</td>\n",
              "      <td>-1.334511e-16</td>\n",
              "      <td>0.461279</td>\n",
              "      <td>0.478114</td>\n",
              "      <td>0.279461</td>\n",
              "      <td>0.164983</td>\n",
              "      <td>0.060606</td>\n",
              "      <td>0.387205</td>\n",
              "      <td>0.013468</td>\n",
              "      <td>0.491582</td>\n",
              "      <td>0.468013</td>\n",
              "      <td>0.070707</td>\n",
              "      <td>0.218855</td>\n",
              "      <td>0.127946</td>\n",
              "      <td>0.067340</td>\n",
              "    </tr>\n",
              "    <tr>\n",
              "      <th>std</th>\n",
              "      <td>1.001688e+00</td>\n",
              "      <td>0.468500</td>\n",
              "      <td>1.001688e+00</td>\n",
              "      <td>1.001688e+00</td>\n",
              "      <td>0.352474</td>\n",
              "      <td>1.001688e+00</td>\n",
              "      <td>0.469761</td>\n",
              "      <td>1.001688e+00</td>\n",
              "      <td>0.499340</td>\n",
              "      <td>0.500364</td>\n",
              "      <td>0.449492</td>\n",
              "      <td>0.371792</td>\n",
              "      <td>0.239009</td>\n",
              "      <td>0.487933</td>\n",
              "      <td>0.115462</td>\n",
              "      <td>0.500773</td>\n",
              "      <td>0.499818</td>\n",
              "      <td>0.256768</td>\n",
              "      <td>0.414168</td>\n",
              "      <td>0.334594</td>\n",
              "      <td>0.251033</td>\n",
              "    </tr>\n",
              "    <tr>\n",
              "      <th>min</th>\n",
              "      <td>-2.827176e+00</td>\n",
              "      <td>0.000000</td>\n",
              "      <td>-2.125634e+00</td>\n",
              "      <td>-2.337704e+00</td>\n",
              "      <td>0.000000</td>\n",
              "      <td>-3.431849e+00</td>\n",
              "      <td>0.000000</td>\n",
              "      <td>-9.067116e-01</td>\n",
              "      <td>0.000000</td>\n",
              "      <td>0.000000</td>\n",
              "      <td>0.000000</td>\n",
              "      <td>0.000000</td>\n",
              "      <td>0.000000</td>\n",
              "      <td>0.000000</td>\n",
              "      <td>0.000000</td>\n",
              "      <td>0.000000</td>\n",
              "      <td>0.000000</td>\n",
              "      <td>0.000000</td>\n",
              "      <td>0.000000</td>\n",
              "      <td>0.000000</td>\n",
              "      <td>0.000000</td>\n",
              "    </tr>\n",
              "    <tr>\n",
              "      <th>25%</th>\n",
              "      <td>-7.241238e-01</td>\n",
              "      <td>0.000000</td>\n",
              "      <td>-6.594306e-01</td>\n",
              "      <td>-7.002541e-01</td>\n",
              "      <td>0.000000</td>\n",
              "      <td>-7.247694e-01</td>\n",
              "      <td>0.000000</td>\n",
              "      <td>-9.067116e-01</td>\n",
              "      <td>0.000000</td>\n",
              "      <td>0.000000</td>\n",
              "      <td>0.000000</td>\n",
              "      <td>0.000000</td>\n",
              "      <td>0.000000</td>\n",
              "      <td>0.000000</td>\n",
              "      <td>0.000000</td>\n",
              "      <td>0.000000</td>\n",
              "      <td>0.000000</td>\n",
              "      <td>0.000000</td>\n",
              "      <td>0.000000</td>\n",
              "      <td>0.000000</td>\n",
              "      <td>0.000000</td>\n",
              "    </tr>\n",
              "    <tr>\n",
              "      <th>50%</th>\n",
              "      <td>1.613719e-01</td>\n",
              "      <td>1.000000</td>\n",
              "      <td>-9.550637e-02</td>\n",
              "      <td>-8.380217e-02</td>\n",
              "      <td>0.000000</td>\n",
              "      <td>1.484822e-01</td>\n",
              "      <td>0.000000</td>\n",
              "      <td>-2.195197e-01</td>\n",
              "      <td>0.000000</td>\n",
              "      <td>0.000000</td>\n",
              "      <td>0.000000</td>\n",
              "      <td>0.000000</td>\n",
              "      <td>0.000000</td>\n",
              "      <td>0.000000</td>\n",
              "      <td>0.000000</td>\n",
              "      <td>0.000000</td>\n",
              "      <td>0.000000</td>\n",
              "      <td>0.000000</td>\n",
              "      <td>0.000000</td>\n",
              "      <td>0.000000</td>\n",
              "      <td>0.000000</td>\n",
              "    </tr>\n",
              "    <tr>\n",
              "      <th>75%</th>\n",
              "      <td>7.148067e-01</td>\n",
              "      <td>1.000000</td>\n",
              "      <td>4.684179e-01</td>\n",
              "      <td>5.519138e-01</td>\n",
              "      <td>0.000000</td>\n",
              "      <td>7.160957e-01</td>\n",
              "      <td>1.000000</td>\n",
              "      <td>4.676723e-01</td>\n",
              "      <td>1.000000</td>\n",
              "      <td>1.000000</td>\n",
              "      <td>1.000000</td>\n",
              "      <td>0.000000</td>\n",
              "      <td>0.000000</td>\n",
              "      <td>1.000000</td>\n",
              "      <td>0.000000</td>\n",
              "      <td>1.000000</td>\n",
              "      <td>1.000000</td>\n",
              "      <td>0.000000</td>\n",
              "      <td>0.000000</td>\n",
              "      <td>0.000000</td>\n",
              "      <td>0.000000</td>\n",
              "    </tr>\n",
              "    <tr>\n",
              "      <th>max</th>\n",
              "      <td>2.485798e+00</td>\n",
              "      <td>1.000000</td>\n",
              "      <td>3.851964e+00</td>\n",
              "      <td>6.099981e+00</td>\n",
              "      <td>1.000000</td>\n",
              "      <td>2.287949e+00</td>\n",
              "      <td>1.000000</td>\n",
              "      <td>4.419026e+00</td>\n",
              "      <td>1.000000</td>\n",
              "      <td>1.000000</td>\n",
              "      <td>1.000000</td>\n",
              "      <td>1.000000</td>\n",
              "      <td>1.000000</td>\n",
              "      <td>1.000000</td>\n",
              "      <td>1.000000</td>\n",
              "      <td>1.000000</td>\n",
              "      <td>1.000000</td>\n",
              "      <td>1.000000</td>\n",
              "      <td>1.000000</td>\n",
              "      <td>1.000000</td>\n",
              "      <td>1.000000</td>\n",
              "    </tr>\n",
              "  </tbody>\n",
              "</table>\n",
              "</div>"
            ],
            "text/plain": [
              "                Age        Male  ...       Ca: 2       Ca: 3\n",
              "count  2.970000e+02  297.000000  ...  297.000000  297.000000\n",
              "mean  -1.237319e-16    0.676768  ...    0.127946    0.067340\n",
              "std    1.001688e+00    0.468500  ...    0.334594    0.251033\n",
              "min   -2.827176e+00    0.000000  ...    0.000000    0.000000\n",
              "25%   -7.241238e-01    0.000000  ...    0.000000    0.000000\n",
              "50%    1.613719e-01    1.000000  ...    0.000000    0.000000\n",
              "75%    7.148067e-01    1.000000  ...    0.000000    0.000000\n",
              "max    2.485798e+00    1.000000  ...    1.000000    1.000000\n",
              "\n",
              "[8 rows x 21 columns]"
            ]
          },
          "metadata": {
            "tags": []
          },
          "execution_count": 4
        }
      ]
    },
    {
      "cell_type": "code",
      "metadata": {
        "id": "Kfj5hYAmvUGL",
        "colab": {
          "base_uri": "https://localhost:8080/"
        },
        "outputId": "ae333cf3-9f94-44d9-f8b9-868da6d11e05"
      },
      "source": [
        "df['Male'].corr(df['Heart Disease'])"
      ],
      "execution_count": null,
      "outputs": [
        {
          "output_type": "execute_result",
          "data": {
            "text/plain": [
              "0.278466696653796"
            ]
          },
          "metadata": {
            "tags": []
          },
          "execution_count": 5
        }
      ]
    },
    {
      "cell_type": "markdown",
      "metadata": {
        "id": "o9JL-sVXsF70"
      },
      "source": [
        "## $(b)$"
      ]
    },
    {
      "cell_type": "code",
      "metadata": {
        "colab": {
          "base_uri": "https://localhost:8080/",
          "height": 751
        },
        "id": "Y5Qi85VWsF70",
        "outputId": "581e8c44-026a-4de8-8905-2b62507d118c"
      },
      "source": [
        "X = df.drop(columns=\"Heart Disease\")\n",
        "y = df[\"Heart Disease\"]\n",
        "model = sm.Logit(y, sm.add_constant(X)).fit()\n",
        "model.summary2().tables[1]"
      ],
      "execution_count": null,
      "outputs": [
        {
          "output_type": "stream",
          "text": [
            "Optimization terminated successfully.\n",
            "         Current function value: 0.308251\n",
            "         Iterations 8\n"
          ],
          "name": "stdout"
        },
        {
          "output_type": "execute_result",
          "data": {
            "text/html": [
              "<div>\n",
              "<style scoped>\n",
              "    .dataframe tbody tr th:only-of-type {\n",
              "        vertical-align: middle;\n",
              "    }\n",
              "\n",
              "    .dataframe tbody tr th {\n",
              "        vertical-align: top;\n",
              "    }\n",
              "\n",
              "    .dataframe thead th {\n",
              "        text-align: right;\n",
              "    }\n",
              "</style>\n",
              "<table border=\"1\" class=\"dataframe\">\n",
              "  <thead>\n",
              "    <tr style=\"text-align: right;\">\n",
              "      <th></th>\n",
              "      <th>Coef.</th>\n",
              "      <th>Std.Err.</th>\n",
              "      <th>z</th>\n",
              "      <th>P&gt;|z|</th>\n",
              "      <th>[0.025</th>\n",
              "      <th>0.975]</th>\n",
              "    </tr>\n",
              "  </thead>\n",
              "  <tbody>\n",
              "    <tr>\n",
              "      <th>const</th>\n",
              "      <td>-4.017949</td>\n",
              "      <td>0.850195</td>\n",
              "      <td>-4.725913</td>\n",
              "      <td>0.000002</td>\n",
              "      <td>-5.684302</td>\n",
              "      <td>-2.351597</td>\n",
              "    </tr>\n",
              "    <tr>\n",
              "      <th>Age</th>\n",
              "      <td>-0.212378</td>\n",
              "      <td>0.226961</td>\n",
              "      <td>-0.935747</td>\n",
              "      <td>0.349403</td>\n",
              "      <td>-0.657215</td>\n",
              "      <td>0.232458</td>\n",
              "    </tr>\n",
              "    <tr>\n",
              "      <th>Male</th>\n",
              "      <td>1.670152</td>\n",
              "      <td>0.552489</td>\n",
              "      <td>3.022957</td>\n",
              "      <td>0.002503</td>\n",
              "      <td>0.587293</td>\n",
              "      <td>2.753011</td>\n",
              "    </tr>\n",
              "    <tr>\n",
              "      <th>RestBP</th>\n",
              "      <td>0.491548</td>\n",
              "      <td>0.208329</td>\n",
              "      <td>2.359475</td>\n",
              "      <td>0.018301</td>\n",
              "      <td>0.083230</td>\n",
              "      <td>0.899866</td>\n",
              "    </tr>\n",
              "    <tr>\n",
              "      <th>Chol</th>\n",
              "      <td>0.230723</td>\n",
              "      <td>0.212353</td>\n",
              "      <td>1.086507</td>\n",
              "      <td>0.277255</td>\n",
              "      <td>-0.185481</td>\n",
              "      <td>0.646926</td>\n",
              "    </tr>\n",
              "    <tr>\n",
              "      <th>Fbs</th>\n",
              "      <td>-0.574079</td>\n",
              "      <td>0.592542</td>\n",
              "      <td>-0.968842</td>\n",
              "      <td>0.332624</td>\n",
              "      <td>-1.735439</td>\n",
              "      <td>0.587281</td>\n",
              "    </tr>\n",
              "    <tr>\n",
              "      <th>MaxHR</th>\n",
              "      <td>-0.451075</td>\n",
              "      <td>0.268354</td>\n",
              "      <td>-1.680898</td>\n",
              "      <td>0.092783</td>\n",
              "      <td>-0.977039</td>\n",
              "      <td>0.074888</td>\n",
              "    </tr>\n",
              "    <tr>\n",
              "      <th>ExAng</th>\n",
              "      <td>0.653306</td>\n",
              "      <td>0.447446</td>\n",
              "      <td>1.460077</td>\n",
              "      <td>0.144269</td>\n",
              "      <td>-0.223673</td>\n",
              "      <td>1.530285</td>\n",
              "    </tr>\n",
              "    <tr>\n",
              "      <th>Oldpeak</th>\n",
              "      <td>0.454812</td>\n",
              "      <td>0.278436</td>\n",
              "      <td>1.633451</td>\n",
              "      <td>0.102374</td>\n",
              "      <td>-0.090913</td>\n",
              "      <td>1.000537</td>\n",
              "    </tr>\n",
              "    <tr>\n",
              "      <th>Asymptomatic Chest Pain</th>\n",
              "      <td>2.373287</td>\n",
              "      <td>0.709097</td>\n",
              "      <td>3.346914</td>\n",
              "      <td>0.000817</td>\n",
              "      <td>0.983482</td>\n",
              "      <td>3.763092</td>\n",
              "    </tr>\n",
              "    <tr>\n",
              "      <th>Nonanginal Chest Pain</th>\n",
              "      <td>0.393353</td>\n",
              "      <td>0.700340</td>\n",
              "      <td>0.561660</td>\n",
              "      <td>0.574348</td>\n",
              "      <td>-0.979288</td>\n",
              "      <td>1.765994</td>\n",
              "    </tr>\n",
              "    <tr>\n",
              "      <th>Nontypical Chest Pain</th>\n",
              "      <td>1.448396</td>\n",
              "      <td>0.809140</td>\n",
              "      <td>1.790045</td>\n",
              "      <td>0.073447</td>\n",
              "      <td>-0.137488</td>\n",
              "      <td>3.034281</td>\n",
              "    </tr>\n",
              "    <tr>\n",
              "      <th>Thal:Fixed</th>\n",
              "      <td>-0.168439</td>\n",
              "      <td>0.810312</td>\n",
              "      <td>-0.207869</td>\n",
              "      <td>0.835331</td>\n",
              "      <td>-1.756622</td>\n",
              "      <td>1.419744</td>\n",
              "    </tr>\n",
              "    <tr>\n",
              "      <th>Thal:Reversable</th>\n",
              "      <td>1.433319</td>\n",
              "      <td>0.440569</td>\n",
              "      <td>3.253339</td>\n",
              "      <td>0.001141</td>\n",
              "      <td>0.569821</td>\n",
              "      <td>2.296818</td>\n",
              "    </tr>\n",
              "    <tr>\n",
              "      <th>RECG:Abnormal</th>\n",
              "      <td>1.000887</td>\n",
              "      <td>2.638430</td>\n",
              "      <td>0.379350</td>\n",
              "      <td>0.704428</td>\n",
              "      <td>-4.170340</td>\n",
              "      <td>6.172115</td>\n",
              "    </tr>\n",
              "    <tr>\n",
              "      <th>RECG:LVH</th>\n",
              "      <td>0.486408</td>\n",
              "      <td>0.396328</td>\n",
              "      <td>1.227287</td>\n",
              "      <td>0.219715</td>\n",
              "      <td>-0.290381</td>\n",
              "      <td>1.263197</td>\n",
              "    </tr>\n",
              "    <tr>\n",
              "      <th>Slope:Upsloping</th>\n",
              "      <td>-1.302289</td>\n",
              "      <td>0.486200</td>\n",
              "      <td>-2.678506</td>\n",
              "      <td>0.007395</td>\n",
              "      <td>-2.255222</td>\n",
              "      <td>-0.349355</td>\n",
              "    </tr>\n",
              "    <tr>\n",
              "      <th>Slope:Downsloping</th>\n",
              "      <td>-0.695528</td>\n",
              "      <td>0.872625</td>\n",
              "      <td>-0.797053</td>\n",
              "      <td>0.425420</td>\n",
              "      <td>-2.405843</td>\n",
              "      <td>1.014786</td>\n",
              "    </tr>\n",
              "    <tr>\n",
              "      <th>Ca: 1</th>\n",
              "      <td>2.237444</td>\n",
              "      <td>0.514773</td>\n",
              "      <td>4.346468</td>\n",
              "      <td>0.000014</td>\n",
              "      <td>1.228508</td>\n",
              "      <td>3.246380</td>\n",
              "    </tr>\n",
              "    <tr>\n",
              "      <th>Ca: 2</th>\n",
              "      <td>3.271852</td>\n",
              "      <td>0.785128</td>\n",
              "      <td>4.167286</td>\n",
              "      <td>0.000031</td>\n",
              "      <td>1.733030</td>\n",
              "      <td>4.810674</td>\n",
              "    </tr>\n",
              "    <tr>\n",
              "      <th>Ca: 3</th>\n",
              "      <td>2.188715</td>\n",
              "      <td>0.928648</td>\n",
              "      <td>2.356884</td>\n",
              "      <td>0.018429</td>\n",
              "      <td>0.368599</td>\n",
              "      <td>4.008832</td>\n",
              "    </tr>\n",
              "  </tbody>\n",
              "</table>\n",
              "</div>"
            ],
            "text/plain": [
              "                            Coef.  Std.Err.  ...    [0.025    0.975]\n",
              "const                   -4.017949  0.850195  ... -5.684302 -2.351597\n",
              "Age                     -0.212378  0.226961  ... -0.657215  0.232458\n",
              "Male                     1.670152  0.552489  ...  0.587293  2.753011\n",
              "RestBP                   0.491548  0.208329  ...  0.083230  0.899866\n",
              "Chol                     0.230723  0.212353  ... -0.185481  0.646926\n",
              "Fbs                     -0.574079  0.592542  ... -1.735439  0.587281\n",
              "MaxHR                   -0.451075  0.268354  ... -0.977039  0.074888\n",
              "ExAng                    0.653306  0.447446  ... -0.223673  1.530285\n",
              "Oldpeak                  0.454812  0.278436  ... -0.090913  1.000537\n",
              "Asymptomatic Chest Pain  2.373287  0.709097  ...  0.983482  3.763092\n",
              "Nonanginal Chest Pain    0.393353  0.700340  ... -0.979288  1.765994\n",
              "Nontypical Chest Pain    1.448396  0.809140  ... -0.137488  3.034281\n",
              "Thal:Fixed              -0.168439  0.810312  ... -1.756622  1.419744\n",
              "Thal:Reversable          1.433319  0.440569  ...  0.569821  2.296818\n",
              "RECG:Abnormal            1.000887  2.638430  ... -4.170340  6.172115\n",
              "RECG:LVH                 0.486408  0.396328  ... -0.290381  1.263197\n",
              "Slope:Upsloping         -1.302289  0.486200  ... -2.255222 -0.349355\n",
              "Slope:Downsloping       -0.695528  0.872625  ... -2.405843  1.014786\n",
              "Ca: 1                    2.237444  0.514773  ...  1.228508  3.246380\n",
              "Ca: 2                    3.271852  0.785128  ...  1.733030  4.810674\n",
              "Ca: 3                    2.188715  0.928648  ...  0.368599  4.008832\n",
              "\n",
              "[21 rows x 6 columns]"
            ]
          },
          "metadata": {
            "tags": []
          },
          "execution_count": 6
        }
      ]
    },
    {
      "cell_type": "markdown",
      "metadata": {
        "id": "rTx4gC6XuvQn"
      },
      "source": [
        "Regression interpretation here"
      ]
    },
    {
      "cell_type": "markdown",
      "metadata": {
        "id": "OJojOkaNsF71"
      },
      "source": [
        "## $(c)$"
      ]
    },
    {
      "cell_type": "markdown",
      "metadata": {
        "id": "aSvlp6OPxAEq"
      },
      "source": [
        "As this is a medical analysis it is likely that we would want to choose a\r\n",
        "classification rule that focuses on reducing the missclassification of those \r\n",
        "that do have a heart condition as individuals that do not have a heart condition\r\n",
        "ie the false-negative rate as missing an underlying heart condition may prove\r\n",
        "fatal. To reduce the class specific rate we can reduce the threshold for which\r\n",
        "we classify someone as having a heart condition. In doing so we would make more\r\n",
        "false positives and tell people they have a heart condition when they do not \r\n",
        "but this is likely to be an acceptable sacrifice for a hospital especially if \r\n",
        "combined with further tests. We will use a classificaiton rule that states \r\n",
        "that if the probability of someone having a heart condition is greater than 20%\r\n",
        "we will classify them as having a heart condition."
      ]
    },
    {
      "cell_type": "markdown",
      "metadata": {
        "id": "xBW1gWb2sF72"
      },
      "source": [
        "## $(d)$"
      ]
    },
    {
      "cell_type": "code",
      "metadata": {
        "id": "g9DnV6dasF73"
      },
      "source": [
        "Xofs=pd.DataFrame(\n",
        "    {\"Male\":0,\n",
        "     \"Age\":55,\n",
        "     \"RestBP\":130,\n",
        "     \"Chol\":246,\n",
        "     \"Fbs\":0,\n",
        "     \"MaxHR\":150,\n",
        "     \"ExAng\":1,\n",
        "     \"Oldpeak\":1,\n",
        "     \"Asymptomatic Chest Pain\":0,\n",
        "     \"Nonanginal Chest Pain\":0,\n",
        "     \"Nontypical Chest Pain\":0,\n",
        "     \"Thal:Fixed\":0,\n",
        "     \"Thal:Reversable\":0,\n",
        "     \"RECG:Abnormal\":0,\n",
        "     \"RECG:LVH\":1,\n",
        "     \"Slope:Upsloping\":0,\n",
        "     \"Slope:Downsloping\":0,\n",
        "     \"Ca: 1\":0,\n",
        "     \"Ca: 2\":0,\n",
        "     \"Ca: 3\":0},\n",
        "      index=[0]\n",
        "                 )\n",
        "VartoStdze = [\"Age\",\"RestBP\",\"Chol\",\"MaxHR\",\"Oldpeak\"]\n",
        "scale = StandardScaler()\n",
        "for i in VartoStdze:\n",
        "    Xofs[i]=scale.fit_transform(Xofs[i].values.reshape(-1,1))"
      ],
      "execution_count": null,
      "outputs": []
    },
    {
      "cell_type": "code",
      "metadata": {
        "colab": {
          "base_uri": "https://localhost:8080/"
        },
        "id": "JIx8C8fFsF73",
        "outputId": "eedf39de-a1e8-4162-b6ab-5014dc1db6bf"
      },
      "source": [
        "clf = skl_lm.LogisticRegression(solver='newton-cg')\n",
        "clf.fit(X,y)\n",
        "prob = clf.fit(X,y).predict_proba(Xofs)\n",
        "print(prob)"
      ],
      "execution_count": null,
      "outputs": [
        {
          "output_type": "stream",
          "text": [
            "[[0.85624912 0.14375088]]\n"
          ],
          "name": "stdout"
        }
      ]
    },
    {
      "cell_type": "markdown",
      "metadata": {
        "id": "KCYs3MiUsF73"
      },
      "source": [
        "Based on this result and the threshold determined above, we would classify as: this patient to not have heart disease as $P(Y=1|X)=0.144<0.2$\r\n",
        "Therefore they do not cross the classification boundary conditional upon their characteristics."
      ]
    },
    {
      "cell_type": "markdown",
      "metadata": {
        "id": "oXruKxsfsF74"
      },
      "source": [
        "## $(e)$"
      ]
    },
    {
      "cell_type": "markdown",
      "metadata": {
        "id": "oVJnZk0_sF74"
      },
      "source": [
        "Testing model accuracy requires evaluating the test error rate, in order to acquire this we need a testing sample, in this case, we have used all the data to train the model. Although question (d) offers an observation, we do not know this patients true state to determine whether model classified her correctly or not."
      ]
    },
    {
      "cell_type": "markdown",
      "metadata": {
        "id": "cuTFs7_JsF74"
      },
      "source": [
        "## $(f)$"
      ]
    },
    {
      "cell_type": "code",
      "metadata": {
        "id": "LWv2QUj4sF74"
      },
      "source": [
        "X_train, X_test, y_train, y_test = train_test_split(X, y,train_size=207, random_state=10)"
      ],
      "execution_count": null,
      "outputs": []
    },
    {
      "cell_type": "markdown",
      "metadata": {
        "id": "ejX3b7ILsF75"
      },
      "source": [
        "## $(g)$"
      ]
    },
    {
      "cell_type": "code",
      "metadata": {
        "colab": {
          "base_uri": "https://localhost:8080/",
          "height": 435
        },
        "id": "MDird4h3sF75",
        "outputId": "ff0d0738-d146-4aa5-feff-873c99e2fd2c"
      },
      "source": [
        "logit = skl_lm.LogisticRegression(solver='newton-cg')\n",
        "logit.fit(X_train,y_train)\n",
        "prob = logit.predict_proba(X_test)\n",
        "#Index 1 = pr(0) and Index 2 = pr(1)\n",
        "\n",
        "testclf=[]\n",
        "for i in range(len(prob)):\n",
        "    if (prob[i][1]>0.46)==True:\n",
        "        testclf.append(1)\n",
        "    else:\n",
        "        testclf.append(0)\n",
        "\n",
        "print(classification_report(y_test, testclf, digits=2))\n",
        "\n",
        "cf_matrix=confusion_matrix(y_test, testclf).T\n",
        "\n",
        "group_names = [\"True Neg\",\"False Pos\",\"False Neg\",\"True Pos\"]\n",
        "group_counts = [\"{0:0.0f}\".format(value) for value in\n",
        "                cf_matrix.flatten()]\n",
        "group_percentages = [\"{0:.2%}\".format(value) for value in\n",
        "                     cf_matrix.flatten()/np.sum(cf_matrix)]\n",
        "labels = [f\"{v1}\\n{v2}\\n{v3}\" for v1, v2, v3 in\n",
        "          zip(group_names,group_counts,group_percentages)]\n",
        "labels = np.asarray(labels).reshape(2,2)\n",
        "sns.heatmap(cf_matrix, annot=labels, fmt=\"\", cmap='winter')\n",
        "        \n",
        "error_rate_logit1 = 1-accuracy_score(y_test, testclf)\n",
        "print(\"Test error rate:\",round(error_rate_logit1,3))"
      ],
      "execution_count": null,
      "outputs": [
        {
          "output_type": "stream",
          "text": [
            "              precision    recall  f1-score   support\n",
            "\n",
            "           0       0.91      0.77      0.83        56\n",
            "           1       0.70      0.88      0.78        34\n",
            "\n",
            "    accuracy                           0.81        90\n",
            "   macro avg       0.81      0.83      0.81        90\n",
            "weighted avg       0.83      0.81      0.81        90\n",
            "\n",
            "Test error rate: 0.189\n"
          ],
          "name": "stdout"
        },
        {
          "output_type": "display_data",
          "data": {
            "image/png": "[encoded data removed]",
            "text/plain": [
              "<Figure size 432x288 with 2 Axes>"
            ]
          },
          "metadata": {
            "tags": [],
            "needs_background": "light"
          }
        }
      ]
    },
    {
      "cell_type": "markdown",
      "metadata": {
        "id": "XMIwb6fZsF75"
      },
      "source": [
        "The test error rate for this test sample is 0.189, implying that around 19% of its classifications were incorrect, which means this model is performing fairly well."
      ]
    },
    {
      "cell_type": "markdown",
      "metadata": {
        "id": "ivuFysVgsF76"
      },
      "source": [
        "## $(h)$"
      ]
    },
    {
      "cell_type": "code",
      "metadata": {
        "colab": {
          "base_uri": "https://localhost:8080/",
          "height": 439
        },
        "id": "H6GVSB96sF76",
        "outputId": "c01e7e8c-7694-4ad4-e59a-d53e014eaa90"
      },
      "source": [
        "import random\n",
        "random.seed(10)\n",
        "randomclf = []\n",
        "for i in range(207):\n",
        "    n = random.choice([0,1])\n",
        "    randomclf.append(n)\n",
        "    \n",
        "logit.fit(X_train,randomclf)\n",
        "prob = logit.predict_proba(X_test)\n",
        "\n",
        "testclf=[]\n",
        "for i in range(len(prob)):\n",
        "    if (prob[i][1]>0.46)==True:\n",
        "        testclf.append(1)\n",
        "    else:\n",
        "        testclf.append(0)\n",
        "        \n",
        "print(classification_report(y_test, testclf, digits=2))\n",
        "\n",
        "cf_matrix=confusion_matrix(y_test, testclf).T\n",
        "\n",
        "group_names = [\"True Neg\",\"False Pos\",\"False Neg\",\"True Pos\"]\n",
        "group_counts = [\"{0:0.0f}\".format(value) for value in\n",
        "                cf_matrix.flatten()]\n",
        "group_percentages = [\"{0:.2%}\".format(value) for value in\n",
        "                     cf_matrix.flatten()/np.sum(cf_matrix)]\n",
        "labels = [f\"{v1}\\n{v2}\\n{v3}\" for v1, v2, v3 in\n",
        "          zip(group_names,group_counts,group_percentages)]\n",
        "labels = np.asarray(labels).reshape(2,2)\n",
        "sns.heatmap(cf_matrix, annot=labels, fmt=\"\", cmap='Reds')\n",
        "\n",
        "error_rate_logit2 = 1-accuracy_score(y_test, testclf)\n",
        "print(\"Test error rate:\",round(error_rate_logit2,3))"
      ],
      "execution_count": null,
      "outputs": [
        {
          "output_type": "stream",
          "text": [
            "              precision    recall  f1-score   support\n",
            "\n",
            "           0       0.95      0.38      0.54        56\n",
            "           1       0.49      0.97      0.65        34\n",
            "\n",
            "    accuracy                           0.60        90\n",
            "   macro avg       0.72      0.67      0.59        90\n",
            "weighted avg       0.78      0.60      0.58        90\n",
            "\n",
            "Test error rate: 0.4\n"
          ],
          "name": "stdout"
        },
        {
          "output_type": "display_data",
          "data": {
            "image/png": "[encoded data removed]",
            "text/plain": [
              "<Figure size 432x288 with 2 Axes>"
            ]
          },
          "metadata": {
            "tags": [],
            "needs_background": "light"
          }
        }
      ]
    },
    {
      "cell_type": "markdown",
      "metadata": {
        "id": "BFQBEt7IsF77"
      },
      "source": [
        "## $(i)$"
      ]
    },
    {
      "cell_type": "markdown",
      "metadata": {
        "id": "mw546B6isF77"
      },
      "source": [
        "Using the random generator function we achieve a result of 0.4 which means that 40% of the observations were misclassified, in comparison to the above which misclassified at around half of that. Therefore based on this random sample which determined whether not an individual had heart disease with a probability of 50%, the previous model performed better compared to a situation where the members of the sample had heart disease at random."
      ]
    },
    {
      "cell_type": "markdown",
      "metadata": {
        "id": "Pp2l1JUPsF77"
      },
      "source": [
        "# $(2)$"
      ]
    },
    {
      "cell_type": "markdown",
      "metadata": {
        "id": "oFl7fE1JsF78"
      },
      "source": [
        "## $(a)$"
      ]
    },
    {
      "cell_type": "code",
      "metadata": {
        "colab": {
          "base_uri": "https://localhost:8080/",
          "height": 439
        },
        "id": "2SfauSifsF78",
        "outputId": "2104b148-f6de-41d8-b5b9-0f932e3cb904"
      },
      "source": [
        "knn5 = neighbors.KNeighborsClassifier(n_neighbors=5)\n",
        "knnpred5 = knn5.fit(X_train, y_train).predict(X_test)\n",
        "\n",
        "print(classification_report(y_test, knnpred5, digits=2))\n",
        "\n",
        "cf_matrix=confusion_matrix(y_test, knnpred5).T\n",
        "\n",
        "group_names = [\"True Neg\",\"False Pos\",\"False Neg\",\"True Pos\"]\n",
        "group_counts = [\"{0:0.0f}\".format(value) for value in\n",
        "                cf_matrix.flatten()]\n",
        "group_percentages = [\"{0:.2%}\".format(value) for value in\n",
        "                     cf_matrix.flatten()/np.sum(cf_matrix)]\n",
        "labels = [f\"{v1}\\n{v2}\\n{v3}\" for v1, v2, v3 in\n",
        "          zip(group_names,group_counts,group_percentages)]\n",
        "labels = np.asarray(labels).reshape(2,2)\n",
        "sns.heatmap(cf_matrix, annot=labels, fmt=\"\", cmap='Oranges')\n",
        "\n",
        "error_rate_knn5 = 1-accuracy_score(y_test, knnpred5)\n",
        "print(\"Test error rate:\",round(error_rate_knn5,3))"
      ],
      "execution_count": null,
      "outputs": [
        {
          "output_type": "stream",
          "text": [
            "              precision    recall  f1-score   support\n",
            "\n",
            "           0       0.85      0.80      0.83        56\n",
            "           1       0.70      0.76      0.73        34\n",
            "\n",
            "    accuracy                           0.79        90\n",
            "   macro avg       0.78      0.78      0.78        90\n",
            "weighted avg       0.79      0.79      0.79        90\n",
            "\n",
            "Test error rate: 0.211\n"
          ],
          "name": "stdout"
        },
        {
          "output_type": "display_data",
          "data": {
            "image/png": "[encoded data removed]",
            "text/plain": [
              "<Figure size 432x288 with 2 Axes>"
            ]
          },
          "metadata": {
            "tags": [],
            "needs_background": "light"
          }
        }
      ]
    },
    {
      "cell_type": "code",
      "metadata": {
        "colab": {
          "base_uri": "https://localhost:8080/",
          "height": 435
        },
        "id": "hUIEj8CNsF78",
        "outputId": "e50357db-4fbe-4696-b2ae-d920bf8fc9f9"
      },
      "source": [
        "knn10 = neighbors.KNeighborsClassifier(n_neighbors=10)\n",
        "knnpred10 = knn10.fit(X_train, y_train).predict(X_test)\n",
        "\n",
        "print(classification_report(y_test, knnpred10, digits=2))\n",
        "\n",
        "cf_matrix=confusion_matrix(y_test, knnpred10).T\n",
        "\n",
        "group_names = [\"True Neg\",\"False Pos\",\"False Neg\",\"True Pos\"]\n",
        "group_counts = [\"{0:0.0f}\".format(value) for value in\n",
        "                cf_matrix.flatten()]\n",
        "group_percentages = [\"{0:.2%}\".format(value) for value in\n",
        "                     cf_matrix.flatten()/np.sum(cf_matrix)]\n",
        "labels = [f\"{v1}\\n{v2}\\n{v3}\" for v1, v2, v3 in\n",
        "          zip(group_names,group_counts,group_percentages)]\n",
        "labels = np.asarray(labels).reshape(2,2)\n",
        "sns.heatmap(cf_matrix, annot=labels, fmt=\"\", cmap='Purples')\n",
        "\n",
        "error_rate_knn10 = 1-accuracy_score(y_test, knnpred10)\n",
        "print(\"Test error rate:\",round(error_rate_knn10,3))"
      ],
      "execution_count": null,
      "outputs": [
        {
          "output_type": "stream",
          "text": [
            "              precision    recall  f1-score   support\n",
            "\n",
            "           0       0.84      0.86      0.85        56\n",
            "           1       0.76      0.74      0.75        34\n",
            "\n",
            "    accuracy                           0.81        90\n",
            "   macro avg       0.80      0.80      0.80        90\n",
            "weighted avg       0.81      0.81      0.81        90\n",
            "\n",
            "Test error rate: 0.189\n"
          ],
          "name": "stdout"
        },
        {
          "output_type": "display_data",
          "data": {
            "image/png": "[encoded data removed]",
            "text/plain": [
              "<Figure size 432x288 with 2 Axes>"
            ]
          },
          "metadata": {
            "tags": [],
            "needs_background": "light"
          }
        }
      ]
    },
    {
      "cell_type": "markdown",
      "metadata": {
        "id": "t9KS1tH5sF79"
      },
      "source": [
        "## $(b)$"
      ]
    },
    {
      "cell_type": "code",
      "metadata": {
        "colab": {
          "base_uri": "https://localhost:8080/",
          "height": 435
        },
        "id": "rouMPbJVsF79",
        "outputId": "da053be8-ef4c-4174-f5fc-df468764df6c"
      },
      "source": [
        "lda = LinearDiscriminantAnalysis()\n",
        "ldapred = lda.fit(X_train, y_train).predict(X_test)\n",
        "\n",
        "print(classification_report(y_test, ldapred, digits=2))\n",
        "\n",
        "cf_matrix=confusion_matrix(y_test, ldapred).T\n",
        "\n",
        "group_names = [\"True Neg\",\"False Pos\",\"False Neg\",\"True Pos\"]\n",
        "group_counts = [\"{0:0.0f}\".format(value) for value in\n",
        "                cf_matrix.flatten()]\n",
        "group_percentages = [\"{0:.2%}\".format(value) for value in\n",
        "                     cf_matrix.flatten()/np.sum(cf_matrix)]\n",
        "labels = [f\"{v1}\\n{v2}\\n{v3}\" for v1, v2, v3 in\n",
        "          zip(group_names,group_counts,group_percentages)]\n",
        "labels = np.asarray(labels).reshape(2,2)\n",
        "sns.heatmap(cf_matrix, annot=labels, fmt=\"\", cmap='Greens')\n",
        "\n",
        "\n",
        "error_rate_lda = 1-accuracy_score(y_test, ldapred)\n",
        "print(\"Test error rate:\",round(error_rate_lda,3))"
      ],
      "execution_count": null,
      "outputs": [
        {
          "output_type": "stream",
          "text": [
            "              precision    recall  f1-score   support\n",
            "\n",
            "           0       0.88      0.75      0.81        56\n",
            "           1       0.67      0.82      0.74        34\n",
            "\n",
            "    accuracy                           0.78        90\n",
            "   macro avg       0.77      0.79      0.77        90\n",
            "weighted avg       0.80      0.78      0.78        90\n",
            "\n",
            "Test error rate: 0.222\n"
          ],
          "name": "stdout"
        },
        {
          "output_type": "display_data",
          "data": {
            "image/png": "[encoded data removed]",
            "text/plain": [
              "<Figure size 432x288 with 2 Axes>"
            ]
          },
          "metadata": {
            "tags": [],
            "needs_background": "light"
          }
        }
      ]
    },
    {
      "cell_type": "code",
      "metadata": {
        "colab": {
          "base_uri": "https://localhost:8080/",
          "height": 469
        },
        "id": "TO88xLBbsF7-",
        "outputId": "2962dfd0-7304-4521-a1dc-bcaa11934d02"
      },
      "source": [
        "qda = QuadraticDiscriminantAnalysis()\n",
        "qdapred = qda.fit(X_train, y_train).predict(X_test)\n",
        "\n",
        "\n",
        "print(classification_report(y_test, qdapred, digits=2))\n",
        "\n",
        "cf_matrix=confusion_matrix(y_test, qdapred).T\n",
        "\n",
        "group_names = [\"True Neg\",\"False Pos\",\"False Neg\",\"True Pos\"]\n",
        "group_counts = [\"{0:0.0f}\".format(value) for value in\n",
        "                cf_matrix.flatten()]\n",
        "group_percentages = [\"{0:.2%}\".format(value) for value in\n",
        "                     cf_matrix.flatten()/np.sum(cf_matrix)]\n",
        "labels = [f\"{v1}\\n{v2}\\n{v3}\" for v1, v2, v3 in\n",
        "          zip(group_names,group_counts,group_percentages)]\n",
        "labels = np.asarray(labels).reshape(2,2)\n",
        "sns.heatmap(cf_matrix, annot=labels, fmt=\"\", cmap='summer')\n",
        "\n",
        "error_rate_qda = 1-accuracy_score(y_test, qdapred)\n",
        "print(\"Test error rate:\",round(error_rate_qda,3))"
      ],
      "execution_count": null,
      "outputs": [
        {
          "output_type": "stream",
          "text": [
            "/usr/local/lib/python3.7/dist-packages/sklearn/discriminant_analysis.py:691: UserWarning: Variables are collinear\n",
            "  warnings.warn(\"Variables are collinear\")\n"
          ],
          "name": "stderr"
        },
        {
          "output_type": "stream",
          "text": [
            "              precision    recall  f1-score   support\n",
            "\n",
            "           0       0.88      0.12      0.22        56\n",
            "           1       0.40      0.97      0.57        34\n",
            "\n",
            "    accuracy                           0.44        90\n",
            "   macro avg       0.64      0.55      0.39        90\n",
            "weighted avg       0.70      0.44      0.35        90\n",
            "\n",
            "Test error rate: 0.556\n"
          ],
          "name": "stdout"
        },
        {
          "output_type": "display_data",
          "data": {
            "image/png": "[encoded data removed]",
            "text/plain": [
              "<Figure size 432x288 with 2 Axes>"
            ]
          },
          "metadata": {
            "tags": [],
            "needs_background": "light"
          }
        }
      ]
    },
    {
      "cell_type": "markdown",
      "metadata": {
        "id": "kuIgQg7csF7_"
      },
      "source": [
        "## $(c)$"
      ]
    },
    {
      "cell_type": "code",
      "metadata": {
        "colab": {
          "base_uri": "https://localhost:8080/"
        },
        "id": "BM8KF-TdsF7_",
        "outputId": "582c1770-5c05-4c13-c4a6-068d88e7b151"
      },
      "source": [
        "print(\"logit Test error rate:\",round(error_rate_logit1,3))\n",
        "print(\"knn (k=5) Test error rate:\",round(error_rate_knn5,3))\n",
        "print(\"knn (k=10)Test error rate:\",round(error_rate_knn10,3))\n",
        "print(\"LDA Test error rate:\",round(error_rate_lda,3))\n",
        "print(\"QDA Test error rate:\",round(error_rate_qda,3))"
      ],
      "execution_count": null,
      "outputs": [
        {
          "output_type": "stream",
          "text": [
            "logit Test error rate: 0.189\n",
            "knn (k=5) Test error rate: 0.211\n",
            "knn (k=10)Test error rate: 0.189\n",
            "LDA Test error rate: 0.222\n",
            "QDA Test error rate: 0.556\n"
          ],
          "name": "stdout"
        }
      ]
    },
    {
      "cell_type": "markdown",
      "metadata": {
        "id": "DHMRbLVxsF7_"
      },
      "source": [
        "From the above we see that the KNN with k=10 yields the lowest number of misclassifications. Followed by KNN with k=5 and LDA both which yield the same test error rate, followed by QDA and then the logit which performs the worst amongst the 5 methods. Despite the KNN with k=5 being the more flexible model, the model with k=10 performed better despite being less flexible."
      ]
    },
    {
      "cell_type": "markdown",
      "metadata": {
        "id": "bckauRsssF8A"
      },
      "source": [
        "## $(d)$"
      ]
    },
    {
      "cell_type": "markdown",
      "metadata": {
        "id": "lYIOhb7xsF8A"
      },
      "source": [
        "Using train test split changes the outcome again and again depending on how the function determines the 4 samples - use K-fold instead."
      ]
    },
    {
      "cell_type": "code",
      "metadata": {
        "colab": {
          "base_uri": "https://localhost:8080/",
          "height": 238
        },
        "id": "D_7DAHGhsF8A",
        "outputId": "876e4bf8-1550-4c75-f1c0-45fecd1c577d"
      },
      "source": [
        "models = [logit,knn5,knn10,lda,qda]\n",
        "te=[]\n",
        "for i in models:\n",
        "    te=te+[(100-model_selection.cross_val_score(i,X,y,cv=model_selection.KFold(n_splits=10)).mean()*100.0)]    \n",
        "te=pd.DataFrame(te)\n",
        "te\n",
        "#print(\"Test Error: %.2f%%\" % (100-model_selection.cross_val_score(i,X,y,cv=model_selection.KFold(n_splits=10)).mean()*100.0)) "
      ],
      "execution_count": null,
      "outputs": [
        {
          "output_type": "stream",
          "text": [
            "/usr/local/lib/python3.7/dist-packages/sklearn/discriminant_analysis.py:691: UserWarning: Variables are collinear\n",
            "  warnings.warn(\"Variables are collinear\")\n"
          ],
          "name": "stderr"
        },
        {
          "output_type": "execute_result",
          "data": {
            "text/html": [
              "<div>\n",
              "<style scoped>\n",
              "    .dataframe tbody tr th:only-of-type {\n",
              "        vertical-align: middle;\n",
              "    }\n",
              "\n",
              "    .dataframe tbody tr th {\n",
              "        vertical-align: top;\n",
              "    }\n",
              "\n",
              "    .dataframe thead th {\n",
              "        text-align: right;\n",
              "    }\n",
              "</style>\n",
              "<table border=\"1\" class=\"dataframe\">\n",
              "  <thead>\n",
              "    <tr style=\"text-align: right;\">\n",
              "      <th></th>\n",
              "      <th>0</th>\n",
              "    </tr>\n",
              "  </thead>\n",
              "  <tbody>\n",
              "    <tr>\n",
              "      <th>0</th>\n",
              "      <td>13.850575</td>\n",
              "    </tr>\n",
              "    <tr>\n",
              "      <th>1</th>\n",
              "      <td>22.574713</td>\n",
              "    </tr>\n",
              "    <tr>\n",
              "      <th>2</th>\n",
              "      <td>19.885057</td>\n",
              "    </tr>\n",
              "    <tr>\n",
              "      <th>3</th>\n",
              "      <td>13.505747</td>\n",
              "    </tr>\n",
              "    <tr>\n",
              "      <th>4</th>\n",
              "      <td>18.160920</td>\n",
              "    </tr>\n",
              "  </tbody>\n",
              "</table>\n",
              "</div>"
            ],
            "text/plain": [
              "           0\n",
              "0  13.850575\n",
              "1  22.574713\n",
              "2  19.885057\n",
              "3  13.505747\n",
              "4  18.160920"
            ]
          },
          "metadata": {
            "tags": []
          },
          "execution_count": 17
        }
      ]
    },
    {
      "cell_type": "markdown",
      "metadata": {
        "id": "ennJh3pOsF8A"
      },
      "source": [
        "## $(e)$"
      ]
    },
    {
      "cell_type": "markdown",
      "metadata": {
        "id": "AUnNIlglsF8A"
      },
      "source": [
        "The model with the lowest test error rate using 10-fold CV is linear discriminant analysis - using patient Xofs from before we can reclassify to see how the model performs."
      ]
    },
    {
      "cell_type": "code",
      "metadata": {
        "colab": {
          "base_uri": "https://localhost:8080/"
        },
        "id": "L57W4Ia3sF8B",
        "outputId": "965136dc-47e1-4de6-ef07-0ab80a111524"
      },
      "source": [
        "model_selection.cross_val_predict(lda,X,y,cv=model_selection.KFold(n_splits=10))\n",
        "lda = LinearDiscriminantAnalysis()\n",
        "lda.fit(X_train, y_train).predict_proba(Xofs)"
      ],
      "execution_count": null,
      "outputs": [
        {
          "output_type": "execute_result",
          "data": {
            "text/plain": [
              "array([[0.8849061, 0.1150939]])"
            ]
          },
          "metadata": {
            "tags": []
          },
          "execution_count": 18
        }
      ]
    },
    {
      "cell_type": "markdown",
      "metadata": {
        "id": "L4a3PAha7c-w"
      },
      "source": [
        "## $(f)$"
      ]
    },
    {
      "cell_type": "code",
      "metadata": {
        "colab": {
          "base_uri": "https://localhost:8080/",
          "height": 282
        },
        "id": "UgXt2-jVsF8B",
        "outputId": "530343be-42c3-4926-f204-455c0054c074"
      },
      "source": [
        "cf_matrix=confusion_matrix(y_test, ldapred).T\r\n",
        "\r\n",
        "group_names = [\"True Negative\",\"False Positive\",\"False Negative\",\"True Positive\"]\r\n",
        "group_counts = [\"{0:0.0f}\".format(value) for value in\r\n",
        "                cf_matrix.flatten()]\r\n",
        "group_percentages = [\"{0:.2%}\".format(value) for value in\r\n",
        "                     cf_matrix.flatten()/np.sum(cf_matrix)]\r\n",
        "labels = [f\"{v1}\\n{v2}\\n{v3}\" for v1, v2, v3 in\r\n",
        "          zip(group_names,group_counts,group_percentages)]\r\n",
        "labels = np.asarray(labels).reshape(2,2)\r\n",
        "sns.heatmap(cf_matrix, annot=labels, fmt=\"\", cmap='cool')"
      ],
      "execution_count": null,
      "outputs": [
        {
          "output_type": "execute_result",
          "data": {
            "text/plain": [
              "<matplotlib.axes._subplots.AxesSubplot at 0x7f6fa5a7cc50>"
            ]
          },
          "metadata": {
            "tags": []
          },
          "execution_count": 19
        },
        {
          "output_type": "display_data",
          "data": {
            "image/png": "[encoded data removed]",
            "text/plain": [
              "<Figure size 432x288 with 2 Axes>"
            ]
          },
          "metadata": {
            "tags": [],
            "needs_background": "light"
          }
        }
      ]
    },
    {
      "cell_type": "code",
      "metadata": {
        "id": "WkSP9AtZsF8B"
      },
      "source": [
        ""
      ],
      "execution_count": null,
      "outputs": []
    },
    {
      "cell_type": "code",
      "metadata": {
        "id": "k936kbLAsF8B"
      },
      "source": [
        ""
      ],
      "execution_count": null,
      "outputs": []
    },
    {
      "cell_type": "code",
      "metadata": {
        "id": "Ha8lPXzEsF8C"
      },
      "source": [
        ""
      ],
      "execution_count": null,
      "outputs": []
    }
  ]
}